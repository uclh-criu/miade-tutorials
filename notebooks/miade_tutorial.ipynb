{
 "cells": [
  {
   "cell_type": "markdown",
   "id": "d8c72863-82f3-4775-8b8b-445925e215bd",
   "metadata": {},
   "source": [
    "# MiADE (Medical information AI Data Extractor) Tutorial"
   ]
  },
  {
   "cell_type": "markdown",
   "id": "5ab01901-21b7-49da-965e-25ddcecaf526",
   "metadata": {},
   "source": [
    "## Installation and downloads"
   ]
  },
  {
   "cell_type": "markdown",
   "id": "bec7940c-3037-4f2a-ab97-2048cfd07195",
   "metadata": {},
   "source": [
    "### Install MiADE"
   ]
  },
  {
   "cell_type": "code",
   "execution_count": 1,
   "id": "dd6c1983-cdd7-40ff-b991-ba63d1277954",
   "metadata": {
    "collapsed": true,
    "jupyter": {
     "outputs_hidden": true
    },
    "scrolled": true
   },
   "outputs": [
    {
     "name": "stdout",
     "output_type": "stream",
     "text": [
      "Requirement already satisfied: miade in /Library/Frameworks/Python.framework/Versions/3.11/lib/python3.11/site-packages (1.0.7)\n",
      "Requirement already satisfied: medcat==1.9.3 in /Library/Frameworks/Python.framework/Versions/3.11/lib/python3.11/site-packages (from miade) (1.9.3)\n",
      "Requirement already satisfied: spacy<3.5.0,>=3.4.2 in /Library/Frameworks/Python.framework/Versions/3.11/lib/python3.11/site-packages (from miade) (3.4.4)\n",
      "Requirement already satisfied: numpy>=1.22.0 in /Library/Frameworks/Python.framework/Versions/3.11/lib/python3.11/site-packages (from miade) (1.25.2)\n",
      "Requirement already satisfied: pandas>=1.4.2 in /Library/Frameworks/Python.framework/Versions/3.11/lib/python3.11/site-packages (from miade) (2.2.2)\n",
      "Requirement already satisfied: gensim>=4.3.0 in /Library/Frameworks/Python.framework/Versions/3.11/lib/python3.11/site-packages (from miade) (4.3.3)\n",
      "Requirement already satisfied: typer>=0.7.0 in /Library/Frameworks/Python.framework/Versions/3.11/lib/python3.11/site-packages (from miade) (0.7.0)\n",
      "Requirement already satisfied: typing>=3.7.4 in /Library/Frameworks/Python.framework/Versions/3.11/lib/python3.11/site-packages (from miade) (3.7.4.3)\n",
      "Requirement already satisfied: pathlib>=1.0.1 in /Library/Frameworks/Python.framework/Versions/3.11/lib/python3.11/site-packages (from miade) (1.0.1)\n",
      "Requirement already satisfied: pydantic>=1.10.0 in /Library/Frameworks/Python.framework/Versions/3.11/lib/python3.11/site-packages (from miade) (1.10.18)\n",
      "Requirement already satisfied: negspacy>=1.0.3 in /Library/Frameworks/Python.framework/Versions/3.11/lib/python3.11/site-packages (from miade) (1.0.4)\n",
      "Requirement already satisfied: scipy~=1.9.2 in /Library/Frameworks/Python.framework/Versions/3.11/lib/python3.11/site-packages (from medcat==1.9.3->miade) (1.9.3)\n",
      "Requirement already satisfied: transformers>=4.34.0 in /Library/Frameworks/Python.framework/Versions/3.11/lib/python3.11/site-packages (from medcat==1.9.3->miade) (4.44.2)\n",
      "Requirement already satisfied: accelerate>=0.23.0 in /Library/Frameworks/Python.framework/Versions/3.11/lib/python3.11/site-packages (from medcat==1.9.3->miade) (0.33.0)\n",
      "Requirement already satisfied: torch>=1.13.0 in /Library/Frameworks/Python.framework/Versions/3.11/lib/python3.11/site-packages (from medcat==1.9.3->miade) (2.4.0)\n",
      "Requirement already satisfied: tqdm>=4.27 in /Library/Frameworks/Python.framework/Versions/3.11/lib/python3.11/site-packages (from medcat==1.9.3->miade) (4.66.5)\n",
      "Requirement already satisfied: scikit-learn>=1.1.3 in /Library/Frameworks/Python.framework/Versions/3.11/lib/python3.11/site-packages (from medcat==1.9.3->miade) (1.5.1)\n",
      "Requirement already satisfied: dill>=0.3.4 in /Library/Frameworks/Python.framework/Versions/3.11/lib/python3.11/site-packages (from medcat==1.9.3->miade) (0.3.8)\n",
      "Requirement already satisfied: datasets>=2.2.2 in /Library/Frameworks/Python.framework/Versions/3.11/lib/python3.11/site-packages (from medcat==1.9.3->miade) (2.21.0)\n",
      "Requirement already satisfied: jsonpickle>=2.0.0 in /Library/Frameworks/Python.framework/Versions/3.11/lib/python3.11/site-packages (from medcat==1.9.3->miade) (3.2.2)\n",
      "Requirement already satisfied: psutil>=5.8.0 in /Library/Frameworks/Python.framework/Versions/3.11/lib/python3.11/site-packages (from medcat==1.9.3->miade) (5.9.8)\n",
      "Requirement already satisfied: multiprocess~=0.70.12 in /Library/Frameworks/Python.framework/Versions/3.11/lib/python3.11/site-packages (from medcat==1.9.3->miade) (0.70.16)\n",
      "Requirement already satisfied: aiofiles>=0.8.0 in /Library/Frameworks/Python.framework/Versions/3.11/lib/python3.11/site-packages (from medcat==1.9.3->miade) (24.1.0)\n",
      "Requirement already satisfied: ipywidgets>=7.6.5 in /Library/Frameworks/Python.framework/Versions/3.11/lib/python3.11/site-packages (from medcat==1.9.3->miade) (8.1.5)\n",
      "Requirement already satisfied: xxhash>=3.0.0 in /Library/Frameworks/Python.framework/Versions/3.11/lib/python3.11/site-packages (from medcat==1.9.3->miade) (3.5.0)\n",
      "Requirement already satisfied: blis>=0.7.5 in /Library/Frameworks/Python.framework/Versions/3.11/lib/python3.11/site-packages (from medcat==1.9.3->miade) (0.7.11)\n",
      "Requirement already satisfied: click>=8.0.4 in /Library/Frameworks/Python.framework/Versions/3.11/lib/python3.11/site-packages (from medcat==1.9.3->miade) (8.1.7)\n",
      "Requirement already satisfied: aiohttp==3.8.5 in /Library/Frameworks/Python.framework/Versions/3.11/lib/python3.11/site-packages (from medcat==1.9.3->miade) (3.8.5)\n",
      "Requirement already satisfied: attrs>=17.3.0 in /Library/Frameworks/Python.framework/Versions/3.11/lib/python3.11/site-packages (from aiohttp==3.8.5->medcat==1.9.3->miade) (23.2.0)\n",
      "Requirement already satisfied: charset-normalizer<4.0,>=2.0 in /Library/Frameworks/Python.framework/Versions/3.11/lib/python3.11/site-packages (from aiohttp==3.8.5->medcat==1.9.3->miade) (3.3.2)\n",
      "Requirement already satisfied: multidict<7.0,>=4.5 in /Library/Frameworks/Python.framework/Versions/3.11/lib/python3.11/site-packages (from aiohttp==3.8.5->medcat==1.9.3->miade) (6.0.5)\n",
      "Requirement already satisfied: async-timeout<5.0,>=4.0.0a3 in /Library/Frameworks/Python.framework/Versions/3.11/lib/python3.11/site-packages (from aiohttp==3.8.5->medcat==1.9.3->miade) (4.0.3)\n",
      "Requirement already satisfied: yarl<2.0,>=1.0 in /Library/Frameworks/Python.framework/Versions/3.11/lib/python3.11/site-packages (from aiohttp==3.8.5->medcat==1.9.3->miade) (1.9.4)\n",
      "Requirement already satisfied: frozenlist>=1.1.1 in /Library/Frameworks/Python.framework/Versions/3.11/lib/python3.11/site-packages (from aiohttp==3.8.5->medcat==1.9.3->miade) (1.4.1)\n",
      "Requirement already satisfied: aiosignal>=1.1.2 in /Library/Frameworks/Python.framework/Versions/3.11/lib/python3.11/site-packages (from aiohttp==3.8.5->medcat==1.9.3->miade) (1.3.1)\n",
      "Requirement already satisfied: smart-open>=1.8.1 in /Library/Frameworks/Python.framework/Versions/3.11/lib/python3.11/site-packages (from gensim>=4.3.0->miade) (6.4.0)\n",
      "Requirement already satisfied: python-dateutil>=2.8.2 in /Library/Frameworks/Python.framework/Versions/3.11/lib/python3.11/site-packages (from pandas>=1.4.2->miade) (2.9.0.post0)\n",
      "Requirement already satisfied: pytz>=2020.1 in /Library/Frameworks/Python.framework/Versions/3.11/lib/python3.11/site-packages (from pandas>=1.4.2->miade) (2024.1)\n",
      "Requirement already satisfied: tzdata>=2022.7 in /Library/Frameworks/Python.framework/Versions/3.11/lib/python3.11/site-packages (from pandas>=1.4.2->miade) (2024.1)\n",
      "Requirement already satisfied: typing-extensions>=4.2.0 in /Library/Frameworks/Python.framework/Versions/3.11/lib/python3.11/site-packages (from pydantic>=1.10.0->miade) (4.11.0)\n",
      "Requirement already satisfied: spacy-legacy<3.1.0,>=3.0.10 in /Library/Frameworks/Python.framework/Versions/3.11/lib/python3.11/site-packages (from spacy<3.5.0,>=3.4.2->miade) (3.0.12)\n",
      "Requirement already satisfied: spacy-loggers<2.0.0,>=1.0.0 in /Library/Frameworks/Python.framework/Versions/3.11/lib/python3.11/site-packages (from spacy<3.5.0,>=3.4.2->miade) (1.0.5)\n",
      "Requirement already satisfied: murmurhash<1.1.0,>=0.28.0 in /Library/Frameworks/Python.framework/Versions/3.11/lib/python3.11/site-packages (from spacy<3.5.0,>=3.4.2->miade) (1.0.10)\n",
      "Requirement already satisfied: cymem<2.1.0,>=2.0.2 in /Library/Frameworks/Python.framework/Versions/3.11/lib/python3.11/site-packages (from spacy<3.5.0,>=3.4.2->miade) (2.0.8)\n",
      "Requirement already satisfied: preshed<3.1.0,>=3.0.2 in /Library/Frameworks/Python.framework/Versions/3.11/lib/python3.11/site-packages (from spacy<3.5.0,>=3.4.2->miade) (3.0.9)\n",
      "Requirement already satisfied: thinc<8.2.0,>=8.1.0 in /Library/Frameworks/Python.framework/Versions/3.11/lib/python3.11/site-packages (from spacy<3.5.0,>=3.4.2->miade) (8.1.12)\n",
      "Requirement already satisfied: wasabi<1.1.0,>=0.9.1 in /Library/Frameworks/Python.framework/Versions/3.11/lib/python3.11/site-packages (from spacy<3.5.0,>=3.4.2->miade) (0.10.1)\n",
      "Requirement already satisfied: srsly<3.0.0,>=2.4.3 in /Library/Frameworks/Python.framework/Versions/3.11/lib/python3.11/site-packages (from spacy<3.5.0,>=3.4.2->miade) (2.4.8)\n",
      "Requirement already satisfied: catalogue<2.1.0,>=2.0.6 in /Library/Frameworks/Python.framework/Versions/3.11/lib/python3.11/site-packages (from spacy<3.5.0,>=3.4.2->miade) (2.0.10)\n",
      "Requirement already satisfied: pathy>=0.3.5 in /Library/Frameworks/Python.framework/Versions/3.11/lib/python3.11/site-packages (from spacy<3.5.0,>=3.4.2->miade) (0.11.0)\n",
      "Requirement already satisfied: requests<3.0.0,>=2.13.0 in /Library/Frameworks/Python.framework/Versions/3.11/lib/python3.11/site-packages (from spacy<3.5.0,>=3.4.2->miade) (2.32.3)\n",
      "Requirement already satisfied: jinja2 in /Library/Frameworks/Python.framework/Versions/3.11/lib/python3.11/site-packages (from spacy<3.5.0,>=3.4.2->miade) (3.1.3)\n",
      "Requirement already satisfied: setuptools in /Library/Frameworks/Python.framework/Versions/3.11/lib/python3.11/site-packages (from spacy<3.5.0,>=3.4.2->miade) (65.5.0)\n",
      "Requirement already satisfied: packaging>=20.0 in /Library/Frameworks/Python.framework/Versions/3.11/lib/python3.11/site-packages (from spacy<3.5.0,>=3.4.2->miade) (24.0)\n",
      "Requirement already satisfied: langcodes<4.0.0,>=3.2.0 in /Library/Frameworks/Python.framework/Versions/3.11/lib/python3.11/site-packages (from spacy<3.5.0,>=3.4.2->miade) (3.4.0)\n",
      "Requirement already satisfied: pyyaml in /Library/Frameworks/Python.framework/Versions/3.11/lib/python3.11/site-packages (from accelerate>=0.23.0->medcat==1.9.3->miade) (6.0.1)\n",
      "Requirement already satisfied: huggingface-hub>=0.21.0 in /Library/Frameworks/Python.framework/Versions/3.11/lib/python3.11/site-packages (from accelerate>=0.23.0->medcat==1.9.3->miade) (0.24.6)\n",
      "Requirement already satisfied: safetensors>=0.3.1 in /Library/Frameworks/Python.framework/Versions/3.11/lib/python3.11/site-packages (from accelerate>=0.23.0->medcat==1.9.3->miade) (0.4.4)\n",
      "Requirement already satisfied: filelock in /Library/Frameworks/Python.framework/Versions/3.11/lib/python3.11/site-packages (from datasets>=2.2.2->medcat==1.9.3->miade) (3.15.4)\n",
      "Requirement already satisfied: pyarrow>=15.0.0 in /Library/Frameworks/Python.framework/Versions/3.11/lib/python3.11/site-packages (from datasets>=2.2.2->medcat==1.9.3->miade) (17.0.0)\n",
      "Requirement already satisfied: fsspec[http]<=2024.6.1,>=2023.1.0 in /Library/Frameworks/Python.framework/Versions/3.11/lib/python3.11/site-packages (from datasets>=2.2.2->medcat==1.9.3->miade) (2024.6.1)\n",
      "Requirement already satisfied: comm>=0.1.3 in /Library/Frameworks/Python.framework/Versions/3.11/lib/python3.11/site-packages (from ipywidgets>=7.6.5->medcat==1.9.3->miade) (0.2.2)\n",
      "Requirement already satisfied: ipython>=6.1.0 in /Library/Frameworks/Python.framework/Versions/3.11/lib/python3.11/site-packages (from ipywidgets>=7.6.5->medcat==1.9.3->miade) (8.24.0)\n",
      "Requirement already satisfied: traitlets>=4.3.1 in /Library/Frameworks/Python.framework/Versions/3.11/lib/python3.11/site-packages (from ipywidgets>=7.6.5->medcat==1.9.3->miade) (5.14.3)\n",
      "Requirement already satisfied: widgetsnbextension~=4.0.12 in /Library/Frameworks/Python.framework/Versions/3.11/lib/python3.11/site-packages (from ipywidgets>=7.6.5->medcat==1.9.3->miade) (4.0.13)\n",
      "Requirement already satisfied: jupyterlab-widgets~=3.0.12 in /Library/Frameworks/Python.framework/Versions/3.11/lib/python3.11/site-packages (from ipywidgets>=7.6.5->medcat==1.9.3->miade) (3.0.13)\n",
      "Requirement already satisfied: language-data>=1.2 in /Library/Frameworks/Python.framework/Versions/3.11/lib/python3.11/site-packages (from langcodes<4.0.0,>=3.2.0->spacy<3.5.0,>=3.4.2->miade) (1.2.0)\n",
      "Requirement already satisfied: pathlib-abc==0.1.1 in /Library/Frameworks/Python.framework/Versions/3.11/lib/python3.11/site-packages (from pathy>=0.3.5->spacy<3.5.0,>=3.4.2->miade) (0.1.1)\n",
      "Requirement already satisfied: six>=1.5 in /Library/Frameworks/Python.framework/Versions/3.11/lib/python3.11/site-packages (from python-dateutil>=2.8.2->pandas>=1.4.2->miade) (1.16.0)\n",
      "Requirement already satisfied: idna<4,>=2.5 in /Library/Frameworks/Python.framework/Versions/3.11/lib/python3.11/site-packages (from requests<3.0.0,>=2.13.0->spacy<3.5.0,>=3.4.2->miade) (3.7)\n",
      "Requirement already satisfied: urllib3<3,>=1.21.1 in /Library/Frameworks/Python.framework/Versions/3.11/lib/python3.11/site-packages (from requests<3.0.0,>=2.13.0->spacy<3.5.0,>=3.4.2->miade) (2.2.1)\n",
      "Requirement already satisfied: certifi>=2017.4.17 in /Library/Frameworks/Python.framework/Versions/3.11/lib/python3.11/site-packages (from requests<3.0.0,>=2.13.0->spacy<3.5.0,>=3.4.2->miade) (2024.2.2)\n",
      "Requirement already satisfied: joblib>=1.2.0 in /Library/Frameworks/Python.framework/Versions/3.11/lib/python3.11/site-packages (from scikit-learn>=1.1.3->medcat==1.9.3->miade) (1.4.2)\n",
      "Requirement already satisfied: threadpoolctl>=3.1.0 in /Library/Frameworks/Python.framework/Versions/3.11/lib/python3.11/site-packages (from scikit-learn>=1.1.3->medcat==1.9.3->miade) (3.5.0)\n",
      "Requirement already satisfied: confection<1.0.0,>=0.0.1 in /Library/Frameworks/Python.framework/Versions/3.11/lib/python3.11/site-packages (from thinc<8.2.0,>=8.1.0->spacy<3.5.0,>=3.4.2->miade) (0.1.5)\n",
      "Requirement already satisfied: sympy in /Library/Frameworks/Python.framework/Versions/3.11/lib/python3.11/site-packages (from torch>=1.13.0->medcat==1.9.3->miade) (1.13.2)\n",
      "Requirement already satisfied: networkx in /Library/Frameworks/Python.framework/Versions/3.11/lib/python3.11/site-packages (from torch>=1.13.0->medcat==1.9.3->miade) (3.3)\n",
      "Requirement already satisfied: regex!=2019.12.17 in /Library/Frameworks/Python.framework/Versions/3.11/lib/python3.11/site-packages (from transformers>=4.34.0->medcat==1.9.3->miade) (2024.7.24)\n",
      "Requirement already satisfied: tokenizers<0.20,>=0.19 in /Library/Frameworks/Python.framework/Versions/3.11/lib/python3.11/site-packages (from transformers>=4.34.0->medcat==1.9.3->miade) (0.19.1)\n",
      "Requirement already satisfied: MarkupSafe>=2.0 in /Library/Frameworks/Python.framework/Versions/3.11/lib/python3.11/site-packages (from jinja2->spacy<3.5.0,>=3.4.2->miade) (2.1.5)\n",
      "Requirement already satisfied: decorator in /Library/Frameworks/Python.framework/Versions/3.11/lib/python3.11/site-packages (from ipython>=6.1.0->ipywidgets>=7.6.5->medcat==1.9.3->miade) (5.1.1)\n",
      "Requirement already satisfied: jedi>=0.16 in /Library/Frameworks/Python.framework/Versions/3.11/lib/python3.11/site-packages (from ipython>=6.1.0->ipywidgets>=7.6.5->medcat==1.9.3->miade) (0.19.1)\n",
      "Requirement already satisfied: matplotlib-inline in /Library/Frameworks/Python.framework/Versions/3.11/lib/python3.11/site-packages (from ipython>=6.1.0->ipywidgets>=7.6.5->medcat==1.9.3->miade) (0.1.7)\n",
      "Requirement already satisfied: prompt-toolkit<3.1.0,>=3.0.41 in /Library/Frameworks/Python.framework/Versions/3.11/lib/python3.11/site-packages (from ipython>=6.1.0->ipywidgets>=7.6.5->medcat==1.9.3->miade) (3.0.43)\n",
      "Requirement already satisfied: pygments>=2.4.0 in /Library/Frameworks/Python.framework/Versions/3.11/lib/python3.11/site-packages (from ipython>=6.1.0->ipywidgets>=7.6.5->medcat==1.9.3->miade) (2.17.2)\n",
      "Requirement already satisfied: stack-data in /Library/Frameworks/Python.framework/Versions/3.11/lib/python3.11/site-packages (from ipython>=6.1.0->ipywidgets>=7.6.5->medcat==1.9.3->miade) (0.6.3)\n",
      "Requirement already satisfied: pexpect>4.3 in /Library/Frameworks/Python.framework/Versions/3.11/lib/python3.11/site-packages (from ipython>=6.1.0->ipywidgets>=7.6.5->medcat==1.9.3->miade) (4.9.0)\n",
      "Requirement already satisfied: marisa-trie>=0.7.7 in /Library/Frameworks/Python.framework/Versions/3.11/lib/python3.11/site-packages (from language-data>=1.2->langcodes<4.0.0,>=3.2.0->spacy<3.5.0,>=3.4.2->miade) (1.2.0)\n",
      "Requirement already satisfied: mpmath<1.4,>=1.1.0 in /Library/Frameworks/Python.framework/Versions/3.11/lib/python3.11/site-packages (from sympy->torch>=1.13.0->medcat==1.9.3->miade) (1.3.0)\n",
      "Requirement already satisfied: parso<0.9.0,>=0.8.3 in /Library/Frameworks/Python.framework/Versions/3.11/lib/python3.11/site-packages (from jedi>=0.16->ipython>=6.1.0->ipywidgets>=7.6.5->medcat==1.9.3->miade) (0.8.4)\n",
      "Requirement already satisfied: ptyprocess>=0.5 in /Library/Frameworks/Python.framework/Versions/3.11/lib/python3.11/site-packages (from pexpect>4.3->ipython>=6.1.0->ipywidgets>=7.6.5->medcat==1.9.3->miade) (0.7.0)\n",
      "Requirement already satisfied: wcwidth in /Library/Frameworks/Python.framework/Versions/3.11/lib/python3.11/site-packages (from prompt-toolkit<3.1.0,>=3.0.41->ipython>=6.1.0->ipywidgets>=7.6.5->medcat==1.9.3->miade) (0.2.13)\n",
      "Requirement already satisfied: executing>=1.2.0 in /Library/Frameworks/Python.framework/Versions/3.11/lib/python3.11/site-packages (from stack-data->ipython>=6.1.0->ipywidgets>=7.6.5->medcat==1.9.3->miade) (2.0.1)\n",
      "Requirement already satisfied: asttokens>=2.1.0 in /Library/Frameworks/Python.framework/Versions/3.11/lib/python3.11/site-packages (from stack-data->ipython>=6.1.0->ipywidgets>=7.6.5->medcat==1.9.3->miade) (2.4.1)\n",
      "Requirement already satisfied: pure-eval in /Library/Frameworks/Python.framework/Versions/3.11/lib/python3.11/site-packages (from stack-data->ipython>=6.1.0->ipywidgets>=7.6.5->medcat==1.9.3->miade) (0.2.2)\n",
      "\n",
      "\u001b[1m[\u001b[0m\u001b[34;49mnotice\u001b[0m\u001b[1;39;49m]\u001b[0m\u001b[39;49m A new release of pip available: \u001b[0m\u001b[31;49m22.3\u001b[0m\u001b[39;49m -> \u001b[0m\u001b[32;49m24.2\u001b[0m\n",
      "\u001b[1m[\u001b[0m\u001b[34;49mnotice\u001b[0m\u001b[1;39;49m]\u001b[0m\u001b[39;49m To update, run: \u001b[0m\u001b[32;49mpython3.11 -m pip install --upgrade pip\u001b[0m\n",
      "Note: you may need to restart the kernel to use updated packages.\n"
     ]
    }
   ],
   "source": [
    "%pip install miade"
   ]
  },
  {
   "cell_type": "markdown",
   "id": "78084084-ae02-4535-9058-3bf35dbbe1db",
   "metadata": {},
   "source": [
    "### Download Med7 and spacy"
   ]
  },
  {
   "cell_type": "markdown",
   "id": "c5746dac-b636-4f78-b0d5-525320e95343",
   "metadata": {},
   "source": [
    "*This is a temporary workaround to download med7 with the latest pip version*"
   ]
  },
  {
   "cell_type": "code",
   "execution_count": 2,
   "id": "a6d7ecb9-2763-4160-96ac-cd303d310f80",
   "metadata": {
    "collapsed": true,
    "jupyter": {
     "outputs_hidden": true
    },
    "scrolled": true
   },
   "outputs": [
    {
     "name": "stdout",
     "output_type": "stream",
     "text": [
      "--2024-08-29 15:52:26--  https://huggingface.co/kormilitzin/en_core_med7_lg/resolve/main/en_core_med7_lg-any-py3-none-any.whl\n",
      "Resolving huggingface.co (huggingface.co)... 2600:9000:2553:200:17:b174:6d00:93a1, 2600:9000:2553:c00:17:b174:6d00:93a1, 2600:9000:2553:d000:17:b174:6d00:93a1, ...\n",
      "Connecting to huggingface.co (huggingface.co)|2600:9000:2553:200:17:b174:6d00:93a1|:443... connected.\n",
      "HTTP request sent, awaiting response... 302 Found\n",
      "Location: https://cdn-lfs.huggingface.co/kormilitzin/en_core_med7_lg/2c8ce371b7ee8b3c42cce7c05031ab165e6e88cc3ed136797eb3c492af96001f?response-content-disposition=inline%3B+filename*%3DUTF-8%27%27en_core_med7_lg-any-py3-none-any.whl%3B+filename%3D%22en_core_med7_lg-any-py3-none-any.whl%22%3B&Expires=1725202347&Policy=eyJTdGF0ZW1lbnQiOlt7IkNvbmRpdGlvbiI6eyJEYXRlTGVzc1RoYW4iOnsiQVdTOkVwb2NoVGltZSI6MTcyNTIwMjM0N319LCJSZXNvdXJjZSI6Imh0dHBzOi8vY2RuLWxmcy5odWdnaW5nZmFjZS5jby9rb3JtaWxpdHppbi9lbl9jb3JlX21lZDdfbGcvMmM4Y2UzNzFiN2VlOGIzYzQyY2NlN2MwNTAzMWFiMTY1ZTZlODhjYzNlZDEzNjc5N2ViM2M0OTJhZjk2MDAxZj9yZXNwb25zZS1jb250ZW50LWRpc3Bvc2l0aW9uPSoifV19&Signature=Y3uMWl28TxkG7DN8eHelqJGea44ZQ0RRFRjhlr42jc7doFNAwl930rFxx1KzmoKLLU0-cEfn6U4PmsLWzx6GXI9zfCy1eLUL%7EXW69MCpObYDPZq-Ce%7EcWUAdGsdUXmus2fADGPrfmA4sEBTBNjguEnE09YK9yGo7ms-nnL%7Ej63TZpAb0XFtXv93c8WJOPVgRux1kidrudQHUIf7ECXkGzASQ3tYU066RT644IeBA4v5Tq6l9gZ1Cbx0K8Nyu0zN9K7UQDSa%7EMNjumvMf1gbJBYT8bRULPaiXYMtDJDuLoceqdGsZlrfCyDI758AKrzPza7664b03-U1AjqBUp0r6%7Eg__&Key-Pair-Id=K3ESJI6DHPFC7 [following]\n",
      "--2024-08-29 15:52:27--  https://cdn-lfs.huggingface.co/kormilitzin/en_core_med7_lg/2c8ce371b7ee8b3c42cce7c05031ab165e6e88cc3ed136797eb3c492af96001f?response-content-disposition=inline%3B+filename*%3DUTF-8%27%27en_core_med7_lg-any-py3-none-any.whl%3B+filename%3D%22en_core_med7_lg-any-py3-none-any.whl%22%3B&Expires=1725202347&Policy=eyJTdGF0ZW1lbnQiOlt7IkNvbmRpdGlvbiI6eyJEYXRlTGVzc1RoYW4iOnsiQVdTOkVwb2NoVGltZSI6MTcyNTIwMjM0N319LCJSZXNvdXJjZSI6Imh0dHBzOi8vY2RuLWxmcy5odWdnaW5nZmFjZS5jby9rb3JtaWxpdHppbi9lbl9jb3JlX21lZDdfbGcvMmM4Y2UzNzFiN2VlOGIzYzQyY2NlN2MwNTAzMWFiMTY1ZTZlODhjYzNlZDEzNjc5N2ViM2M0OTJhZjk2MDAxZj9yZXNwb25zZS1jb250ZW50LWRpc3Bvc2l0aW9uPSoifV19&Signature=Y3uMWl28TxkG7DN8eHelqJGea44ZQ0RRFRjhlr42jc7doFNAwl930rFxx1KzmoKLLU0-cEfn6U4PmsLWzx6GXI9zfCy1eLUL%7EXW69MCpObYDPZq-Ce%7EcWUAdGsdUXmus2fADGPrfmA4sEBTBNjguEnE09YK9yGo7ms-nnL%7Ej63TZpAb0XFtXv93c8WJOPVgRux1kidrudQHUIf7ECXkGzASQ3tYU066RT644IeBA4v5Tq6l9gZ1Cbx0K8Nyu0zN9K7UQDSa%7EMNjumvMf1gbJBYT8bRULPaiXYMtDJDuLoceqdGsZlrfCyDI758AKrzPza7664b03-U1AjqBUp0r6%7Eg__&Key-Pair-Id=K3ESJI6DHPFC7\n",
      "Resolving cdn-lfs.huggingface.co (cdn-lfs.huggingface.co)... 2600:9000:2361:800:11:f807:5180:93a1, 2600:9000:2361:4800:11:f807:5180:93a1, 2600:9000:2361:3e00:11:f807:5180:93a1, ...\n",
      "Connecting to cdn-lfs.huggingface.co (cdn-lfs.huggingface.co)|2600:9000:2361:800:11:f807:5180:93a1|:443... connected.\n",
      "HTTP request sent, awaiting response... 200 OK\n",
      "Length: 607352778 (579M) [binary/octet-stream]\n",
      "Saving to: ‘./models/en_core_med7_lg-3.4.2.1-py3-none-any.whl’\n",
      "\n",
      "./models/en_core_me 100%[===================>] 579.22M  39.2MB/s    in 14s     \n",
      "\n",
      "2024-08-29 15:52:41 (40.0 MB/s) - ‘./models/en_core_med7_lg-3.4.2.1-py3-none-any.whl’ saved [607352778/607352778]\n",
      "\n",
      "Processing ./models/en_core_med7_lg-3.4.2.1-py3-none-any.whl\n",
      "Requirement already satisfied: spacy<3.5.0,>=3.4.2 in /Library/Frameworks/Python.framework/Versions/3.11/lib/python3.11/site-packages (from en-core-med7-lg==3.4.2.1) (3.4.4)\n",
      "Requirement already satisfied: spacy-legacy<3.1.0,>=3.0.10 in /Library/Frameworks/Python.framework/Versions/3.11/lib/python3.11/site-packages (from spacy<3.5.0,>=3.4.2->en-core-med7-lg==3.4.2.1) (3.0.12)\n",
      "Requirement already satisfied: spacy-loggers<2.0.0,>=1.0.0 in /Library/Frameworks/Python.framework/Versions/3.11/lib/python3.11/site-packages (from spacy<3.5.0,>=3.4.2->en-core-med7-lg==3.4.2.1) (1.0.5)\n",
      "Requirement already satisfied: murmurhash<1.1.0,>=0.28.0 in /Library/Frameworks/Python.framework/Versions/3.11/lib/python3.11/site-packages (from spacy<3.5.0,>=3.4.2->en-core-med7-lg==3.4.2.1) (1.0.10)\n",
      "Requirement already satisfied: cymem<2.1.0,>=2.0.2 in /Library/Frameworks/Python.framework/Versions/3.11/lib/python3.11/site-packages (from spacy<3.5.0,>=3.4.2->en-core-med7-lg==3.4.2.1) (2.0.8)\n",
      "Requirement already satisfied: preshed<3.1.0,>=3.0.2 in /Library/Frameworks/Python.framework/Versions/3.11/lib/python3.11/site-packages (from spacy<3.5.0,>=3.4.2->en-core-med7-lg==3.4.2.1) (3.0.9)\n",
      "Requirement already satisfied: thinc<8.2.0,>=8.1.0 in /Library/Frameworks/Python.framework/Versions/3.11/lib/python3.11/site-packages (from spacy<3.5.0,>=3.4.2->en-core-med7-lg==3.4.2.1) (8.1.12)\n",
      "Requirement already satisfied: wasabi<1.1.0,>=0.9.1 in /Library/Frameworks/Python.framework/Versions/3.11/lib/python3.11/site-packages (from spacy<3.5.0,>=3.4.2->en-core-med7-lg==3.4.2.1) (0.10.1)\n",
      "Requirement already satisfied: srsly<3.0.0,>=2.4.3 in /Library/Frameworks/Python.framework/Versions/3.11/lib/python3.11/site-packages (from spacy<3.5.0,>=3.4.2->en-core-med7-lg==3.4.2.1) (2.4.8)\n",
      "Requirement already satisfied: catalogue<2.1.0,>=2.0.6 in /Library/Frameworks/Python.framework/Versions/3.11/lib/python3.11/site-packages (from spacy<3.5.0,>=3.4.2->en-core-med7-lg==3.4.2.1) (2.0.10)\n",
      "Requirement already satisfied: typer<0.8.0,>=0.3.0 in /Library/Frameworks/Python.framework/Versions/3.11/lib/python3.11/site-packages (from spacy<3.5.0,>=3.4.2->en-core-med7-lg==3.4.2.1) (0.7.0)\n",
      "Requirement already satisfied: pathy>=0.3.5 in /Library/Frameworks/Python.framework/Versions/3.11/lib/python3.11/site-packages (from spacy<3.5.0,>=3.4.2->en-core-med7-lg==3.4.2.1) (0.11.0)\n",
      "Requirement already satisfied: smart-open<7.0.0,>=5.2.1 in /Library/Frameworks/Python.framework/Versions/3.11/lib/python3.11/site-packages (from spacy<3.5.0,>=3.4.2->en-core-med7-lg==3.4.2.1) (6.4.0)\n",
      "Requirement already satisfied: tqdm<5.0.0,>=4.38.0 in /Library/Frameworks/Python.framework/Versions/3.11/lib/python3.11/site-packages (from spacy<3.5.0,>=3.4.2->en-core-med7-lg==3.4.2.1) (4.66.5)\n",
      "Requirement already satisfied: numpy>=1.15.0 in /Library/Frameworks/Python.framework/Versions/3.11/lib/python3.11/site-packages (from spacy<3.5.0,>=3.4.2->en-core-med7-lg==3.4.2.1) (1.25.2)\n",
      "Requirement already satisfied: requests<3.0.0,>=2.13.0 in /Library/Frameworks/Python.framework/Versions/3.11/lib/python3.11/site-packages (from spacy<3.5.0,>=3.4.2->en-core-med7-lg==3.4.2.1) (2.32.3)\n",
      "Requirement already satisfied: pydantic!=1.8,!=1.8.1,<1.11.0,>=1.7.4 in /Library/Frameworks/Python.framework/Versions/3.11/lib/python3.11/site-packages (from spacy<3.5.0,>=3.4.2->en-core-med7-lg==3.4.2.1) (1.10.18)\n",
      "Requirement already satisfied: jinja2 in /Library/Frameworks/Python.framework/Versions/3.11/lib/python3.11/site-packages (from spacy<3.5.0,>=3.4.2->en-core-med7-lg==3.4.2.1) (3.1.3)\n",
      "Requirement already satisfied: setuptools in /Library/Frameworks/Python.framework/Versions/3.11/lib/python3.11/site-packages (from spacy<3.5.0,>=3.4.2->en-core-med7-lg==3.4.2.1) (65.5.0)\n",
      "Requirement already satisfied: packaging>=20.0 in /Library/Frameworks/Python.framework/Versions/3.11/lib/python3.11/site-packages (from spacy<3.5.0,>=3.4.2->en-core-med7-lg==3.4.2.1) (24.0)\n",
      "Requirement already satisfied: langcodes<4.0.0,>=3.2.0 in /Library/Frameworks/Python.framework/Versions/3.11/lib/python3.11/site-packages (from spacy<3.5.0,>=3.4.2->en-core-med7-lg==3.4.2.1) (3.4.0)\n",
      "Requirement already satisfied: language-data>=1.2 in /Library/Frameworks/Python.framework/Versions/3.11/lib/python3.11/site-packages (from langcodes<4.0.0,>=3.2.0->spacy<3.5.0,>=3.4.2->en-core-med7-lg==3.4.2.1) (1.2.0)\n",
      "Requirement already satisfied: pathlib-abc==0.1.1 in /Library/Frameworks/Python.framework/Versions/3.11/lib/python3.11/site-packages (from pathy>=0.3.5->spacy<3.5.0,>=3.4.2->en-core-med7-lg==3.4.2.1) (0.1.1)\n",
      "Requirement already satisfied: typing-extensions>=4.2.0 in /Library/Frameworks/Python.framework/Versions/3.11/lib/python3.11/site-packages (from pydantic!=1.8,!=1.8.1,<1.11.0,>=1.7.4->spacy<3.5.0,>=3.4.2->en-core-med7-lg==3.4.2.1) (4.11.0)\n",
      "Requirement already satisfied: charset-normalizer<4,>=2 in /Library/Frameworks/Python.framework/Versions/3.11/lib/python3.11/site-packages (from requests<3.0.0,>=2.13.0->spacy<3.5.0,>=3.4.2->en-core-med7-lg==3.4.2.1) (3.3.2)\n",
      "Requirement already satisfied: idna<4,>=2.5 in /Library/Frameworks/Python.framework/Versions/3.11/lib/python3.11/site-packages (from requests<3.0.0,>=2.13.0->spacy<3.5.0,>=3.4.2->en-core-med7-lg==3.4.2.1) (3.7)\n",
      "Requirement already satisfied: urllib3<3,>=1.21.1 in /Library/Frameworks/Python.framework/Versions/3.11/lib/python3.11/site-packages (from requests<3.0.0,>=2.13.0->spacy<3.5.0,>=3.4.2->en-core-med7-lg==3.4.2.1) (2.2.1)\n",
      "Requirement already satisfied: certifi>=2017.4.17 in /Library/Frameworks/Python.framework/Versions/3.11/lib/python3.11/site-packages (from requests<3.0.0,>=2.13.0->spacy<3.5.0,>=3.4.2->en-core-med7-lg==3.4.2.1) (2024.2.2)\n",
      "Requirement already satisfied: blis<0.8.0,>=0.7.8 in /Library/Frameworks/Python.framework/Versions/3.11/lib/python3.11/site-packages (from thinc<8.2.0,>=8.1.0->spacy<3.5.0,>=3.4.2->en-core-med7-lg==3.4.2.1) (0.7.11)\n",
      "Requirement already satisfied: confection<1.0.0,>=0.0.1 in /Library/Frameworks/Python.framework/Versions/3.11/lib/python3.11/site-packages (from thinc<8.2.0,>=8.1.0->spacy<3.5.0,>=3.4.2->en-core-med7-lg==3.4.2.1) (0.1.5)\n",
      "Requirement already satisfied: click<9.0.0,>=7.1.1 in /Library/Frameworks/Python.framework/Versions/3.11/lib/python3.11/site-packages (from typer<0.8.0,>=0.3.0->spacy<3.5.0,>=3.4.2->en-core-med7-lg==3.4.2.1) (8.1.7)\n",
      "Requirement already satisfied: MarkupSafe>=2.0 in /Library/Frameworks/Python.framework/Versions/3.11/lib/python3.11/site-packages (from jinja2->spacy<3.5.0,>=3.4.2->en-core-med7-lg==3.4.2.1) (2.1.5)\n",
      "Requirement already satisfied: marisa-trie>=0.7.7 in /Library/Frameworks/Python.framework/Versions/3.11/lib/python3.11/site-packages (from language-data>=1.2->langcodes<4.0.0,>=3.2.0->spacy<3.5.0,>=3.4.2->en-core-med7-lg==3.4.2.1) (1.2.0)\n",
      "en-core-med7-lg is already installed with the same version as the provided wheel. Use --force-reinstall to force an installation of the wheel.\n",
      "\n",
      "\u001b[1m[\u001b[0m\u001b[34;49mnotice\u001b[0m\u001b[1;39;49m]\u001b[0m\u001b[39;49m A new release of pip available: \u001b[0m\u001b[31;49m22.3\u001b[0m\u001b[39;49m -> \u001b[0m\u001b[32;49m24.2\u001b[0m\n",
      "\u001b[1m[\u001b[0m\u001b[34;49mnotice\u001b[0m\u001b[1;39;49m]\u001b[0m\u001b[39;49m To update, run: \u001b[0m\u001b[32;49mpython3.11 -m pip install --upgrade pip\u001b[0m\n",
      "Note: you may need to restart the kernel to use updated packages.\n"
     ]
    }
   ],
   "source": [
    "!wget -O ./models/en_core_med7_lg-3.4.2.1-py3-none-any.whl https://huggingface.co/kormilitzin/en_core_med7_lg/resolve/main/en_core_med7_lg-any-py3-none-any.whl\n",
    "%pip install ./models/en_core_med7_lg-3.4.2.1-py3-none-any.whl"
   ]
  },
  {
   "cell_type": "code",
   "execution_count": 3,
   "id": "bc95a3cb-4299-4110-b3e7-a86ded9ac7f4",
   "metadata": {
    "collapsed": true,
    "jupyter": {
     "outputs_hidden": true
    },
    "scrolled": true
   },
   "outputs": [
    {
     "name": "stdout",
     "output_type": "stream",
     "text": [
      "Collecting en-core-web-md==3.4.1\n",
      "  Downloading https://github.com/explosion/spacy-models/releases/download/en_core_web_md-3.4.1/en_core_web_md-3.4.1-py3-none-any.whl (42.8 MB)\n",
      "     ━━━━━━━━━━━━━━━━━━━━━━━━━━━━━━━━━━━━━━━━ 42.8/42.8 MB 38.5 MB/s eta 0:00:00\n",
      "Requirement already satisfied: spacy<3.5.0,>=3.4.0 in /Library/Frameworks/Python.framework/Versions/3.11/lib/python3.11/site-packages (from en-core-web-md==3.4.1) (3.4.4)\n",
      "Requirement already satisfied: spacy-legacy<3.1.0,>=3.0.10 in /Library/Frameworks/Python.framework/Versions/3.11/lib/python3.11/site-packages (from spacy<3.5.0,>=3.4.0->en-core-web-md==3.4.1) (3.0.12)\n",
      "Requirement already satisfied: spacy-loggers<2.0.0,>=1.0.0 in /Library/Frameworks/Python.framework/Versions/3.11/lib/python3.11/site-packages (from spacy<3.5.0,>=3.4.0->en-core-web-md==3.4.1) (1.0.5)\n",
      "Requirement already satisfied: murmurhash<1.1.0,>=0.28.0 in /Library/Frameworks/Python.framework/Versions/3.11/lib/python3.11/site-packages (from spacy<3.5.0,>=3.4.0->en-core-web-md==3.4.1) (1.0.10)\n",
      "Requirement already satisfied: cymem<2.1.0,>=2.0.2 in /Library/Frameworks/Python.framework/Versions/3.11/lib/python3.11/site-packages (from spacy<3.5.0,>=3.4.0->en-core-web-md==3.4.1) (2.0.8)\n",
      "Requirement already satisfied: preshed<3.1.0,>=3.0.2 in /Library/Frameworks/Python.framework/Versions/3.11/lib/python3.11/site-packages (from spacy<3.5.0,>=3.4.0->en-core-web-md==3.4.1) (3.0.9)\n",
      "Requirement already satisfied: thinc<8.2.0,>=8.1.0 in /Library/Frameworks/Python.framework/Versions/3.11/lib/python3.11/site-packages (from spacy<3.5.0,>=3.4.0->en-core-web-md==3.4.1) (8.1.12)\n",
      "Requirement already satisfied: wasabi<1.1.0,>=0.9.1 in /Library/Frameworks/Python.framework/Versions/3.11/lib/python3.11/site-packages (from spacy<3.5.0,>=3.4.0->en-core-web-md==3.4.1) (0.10.1)\n",
      "Requirement already satisfied: srsly<3.0.0,>=2.4.3 in /Library/Frameworks/Python.framework/Versions/3.11/lib/python3.11/site-packages (from spacy<3.5.0,>=3.4.0->en-core-web-md==3.4.1) (2.4.8)\n",
      "Requirement already satisfied: catalogue<2.1.0,>=2.0.6 in /Library/Frameworks/Python.framework/Versions/3.11/lib/python3.11/site-packages (from spacy<3.5.0,>=3.4.0->en-core-web-md==3.4.1) (2.0.10)\n",
      "Requirement already satisfied: typer<0.8.0,>=0.3.0 in /Library/Frameworks/Python.framework/Versions/3.11/lib/python3.11/site-packages (from spacy<3.5.0,>=3.4.0->en-core-web-md==3.4.1) (0.7.0)\n",
      "Requirement already satisfied: pathy>=0.3.5 in /Library/Frameworks/Python.framework/Versions/3.11/lib/python3.11/site-packages (from spacy<3.5.0,>=3.4.0->en-core-web-md==3.4.1) (0.11.0)\n",
      "Requirement already satisfied: smart-open<7.0.0,>=5.2.1 in /Library/Frameworks/Python.framework/Versions/3.11/lib/python3.11/site-packages (from spacy<3.5.0,>=3.4.0->en-core-web-md==3.4.1) (6.4.0)\n",
      "Requirement already satisfied: tqdm<5.0.0,>=4.38.0 in /Library/Frameworks/Python.framework/Versions/3.11/lib/python3.11/site-packages (from spacy<3.5.0,>=3.4.0->en-core-web-md==3.4.1) (4.66.5)\n",
      "Requirement already satisfied: numpy>=1.15.0 in /Library/Frameworks/Python.framework/Versions/3.11/lib/python3.11/site-packages (from spacy<3.5.0,>=3.4.0->en-core-web-md==3.4.1) (1.25.2)\n",
      "Requirement already satisfied: requests<3.0.0,>=2.13.0 in /Library/Frameworks/Python.framework/Versions/3.11/lib/python3.11/site-packages (from spacy<3.5.0,>=3.4.0->en-core-web-md==3.4.1) (2.32.3)\n",
      "Requirement already satisfied: pydantic!=1.8,!=1.8.1,<1.11.0,>=1.7.4 in /Library/Frameworks/Python.framework/Versions/3.11/lib/python3.11/site-packages (from spacy<3.5.0,>=3.4.0->en-core-web-md==3.4.1) (1.10.18)\n",
      "Requirement already satisfied: jinja2 in /Library/Frameworks/Python.framework/Versions/3.11/lib/python3.11/site-packages (from spacy<3.5.0,>=3.4.0->en-core-web-md==3.4.1) (3.1.3)\n",
      "Requirement already satisfied: setuptools in /Library/Frameworks/Python.framework/Versions/3.11/lib/python3.11/site-packages (from spacy<3.5.0,>=3.4.0->en-core-web-md==3.4.1) (65.5.0)\n",
      "Requirement already satisfied: packaging>=20.0 in /Library/Frameworks/Python.framework/Versions/3.11/lib/python3.11/site-packages (from spacy<3.5.0,>=3.4.0->en-core-web-md==3.4.1) (24.0)\n",
      "Requirement already satisfied: langcodes<4.0.0,>=3.2.0 in /Library/Frameworks/Python.framework/Versions/3.11/lib/python3.11/site-packages (from spacy<3.5.0,>=3.4.0->en-core-web-md==3.4.1) (3.4.0)\n",
      "Requirement already satisfied: language-data>=1.2 in /Library/Frameworks/Python.framework/Versions/3.11/lib/python3.11/site-packages (from langcodes<4.0.0,>=3.2.0->spacy<3.5.0,>=3.4.0->en-core-web-md==3.4.1) (1.2.0)\n",
      "Requirement already satisfied: pathlib-abc==0.1.1 in /Library/Frameworks/Python.framework/Versions/3.11/lib/python3.11/site-packages (from pathy>=0.3.5->spacy<3.5.0,>=3.4.0->en-core-web-md==3.4.1) (0.1.1)\n",
      "Requirement already satisfied: typing-extensions>=4.2.0 in /Library/Frameworks/Python.framework/Versions/3.11/lib/python3.11/site-packages (from pydantic!=1.8,!=1.8.1,<1.11.0,>=1.7.4->spacy<3.5.0,>=3.4.0->en-core-web-md==3.4.1) (4.11.0)\n",
      "Requirement already satisfied: charset-normalizer<4,>=2 in /Library/Frameworks/Python.framework/Versions/3.11/lib/python3.11/site-packages (from requests<3.0.0,>=2.13.0->spacy<3.5.0,>=3.4.0->en-core-web-md==3.4.1) (3.3.2)\n",
      "Requirement already satisfied: idna<4,>=2.5 in /Library/Frameworks/Python.framework/Versions/3.11/lib/python3.11/site-packages (from requests<3.0.0,>=2.13.0->spacy<3.5.0,>=3.4.0->en-core-web-md==3.4.1) (3.7)\n",
      "Requirement already satisfied: urllib3<3,>=1.21.1 in /Library/Frameworks/Python.framework/Versions/3.11/lib/python3.11/site-packages (from requests<3.0.0,>=2.13.0->spacy<3.5.0,>=3.4.0->en-core-web-md==3.4.1) (2.2.1)\n",
      "Requirement already satisfied: certifi>=2017.4.17 in /Library/Frameworks/Python.framework/Versions/3.11/lib/python3.11/site-packages (from requests<3.0.0,>=2.13.0->spacy<3.5.0,>=3.4.0->en-core-web-md==3.4.1) (2024.2.2)\n",
      "Requirement already satisfied: blis<0.8.0,>=0.7.8 in /Library/Frameworks/Python.framework/Versions/3.11/lib/python3.11/site-packages (from thinc<8.2.0,>=8.1.0->spacy<3.5.0,>=3.4.0->en-core-web-md==3.4.1) (0.7.11)\n",
      "Requirement already satisfied: confection<1.0.0,>=0.0.1 in /Library/Frameworks/Python.framework/Versions/3.11/lib/python3.11/site-packages (from thinc<8.2.0,>=8.1.0->spacy<3.5.0,>=3.4.0->en-core-web-md==3.4.1) (0.1.5)\n",
      "Requirement already satisfied: click<9.0.0,>=7.1.1 in /Library/Frameworks/Python.framework/Versions/3.11/lib/python3.11/site-packages (from typer<0.8.0,>=0.3.0->spacy<3.5.0,>=3.4.0->en-core-web-md==3.4.1) (8.1.7)\n",
      "Requirement already satisfied: MarkupSafe>=2.0 in /Library/Frameworks/Python.framework/Versions/3.11/lib/python3.11/site-packages (from jinja2->spacy<3.5.0,>=3.4.0->en-core-web-md==3.4.1) (2.1.5)\n",
      "Requirement already satisfied: marisa-trie>=0.7.7 in /Library/Frameworks/Python.framework/Versions/3.11/lib/python3.11/site-packages (from language-data>=1.2->langcodes<4.0.0,>=3.2.0->spacy<3.5.0,>=3.4.0->en-core-web-md==3.4.1) (1.2.0)\n",
      "\u001b[38;5;2m✔ Download and installation successful\u001b[0m\n",
      "You can now load the package via spacy.load('en_core_web_md')\n"
     ]
    },
    {
     "name": "stderr",
     "output_type": "stream",
     "text": [
      "\n",
      "[notice] A new release of pip available: 22.3 -> 24.2\n",
      "[notice] To update, run: python3.11 -m pip install --upgrade pip\n"
     ]
    }
   ],
   "source": [
    "# Download spacy base model\n",
    "%run -m spacy download en_core_web_md"
   ]
  },
  {
   "cell_type": "markdown",
   "id": "aef0bf20-db32-4ac2-b316-531c920e1d25",
   "metadata": {},
   "source": [
    "### Download example MedCAT models"
   ]
  },
  {
   "cell_type": "code",
   "execution_count": 4,
   "id": "8b6454a8-b881-4e62-8039-b0faf25481e0",
   "metadata": {
    "collapsed": true,
    "jupyter": {
     "outputs_hidden": true
    }
   },
   "outputs": [
    {
     "name": "stdout",
     "output_type": "stream",
     "text": [
      "mkdir: ./models/: File exists\n",
      "mkdir: ./data/: File exists\n"
     ]
    }
   ],
   "source": [
    "# Create directories\n",
    "MODEL_DIR = './models/'\n",
    "DATA_DIR = './data/'\n",
    "\n",
    "!mkdir $MODEL_DIR\n",
    "!mkdir $DATA_DIR"
   ]
  },
  {
   "cell_type": "code",
   "execution_count": 5,
   "id": "f4c6179b-be0b-401f-8d6c-ee400a1e177a",
   "metadata": {
    "collapsed": true,
    "jupyter": {
     "outputs_hidden": true
    }
   },
   "outputs": [
    {
     "name": "stdout",
     "output_type": "stream",
     "text": [
      "Requirement already satisfied: gdown in /Library/Frameworks/Python.framework/Versions/3.11/lib/python3.11/site-packages (5.2.0)\n",
      "Requirement already satisfied: beautifulsoup4 in /Library/Frameworks/Python.framework/Versions/3.11/lib/python3.11/site-packages (from gdown) (4.12.3)\n",
      "Requirement already satisfied: filelock in /Library/Frameworks/Python.framework/Versions/3.11/lib/python3.11/site-packages (from gdown) (3.15.4)\n",
      "Requirement already satisfied: requests[socks] in /Library/Frameworks/Python.framework/Versions/3.11/lib/python3.11/site-packages (from gdown) (2.32.3)\n",
      "Requirement already satisfied: tqdm in /Library/Frameworks/Python.framework/Versions/3.11/lib/python3.11/site-packages (from gdown) (4.66.5)\n",
      "Requirement already satisfied: soupsieve>1.2 in /Library/Frameworks/Python.framework/Versions/3.11/lib/python3.11/site-packages (from beautifulsoup4->gdown) (2.5)\n",
      "Requirement already satisfied: charset-normalizer<4,>=2 in /Library/Frameworks/Python.framework/Versions/3.11/lib/python3.11/site-packages (from requests[socks]->gdown) (3.3.2)\n",
      "Requirement already satisfied: idna<4,>=2.5 in /Library/Frameworks/Python.framework/Versions/3.11/lib/python3.11/site-packages (from requests[socks]->gdown) (3.7)\n",
      "Requirement already satisfied: urllib3<3,>=1.21.1 in /Library/Frameworks/Python.framework/Versions/3.11/lib/python3.11/site-packages (from requests[socks]->gdown) (2.2.1)\n",
      "Requirement already satisfied: certifi>=2017.4.17 in /Library/Frameworks/Python.framework/Versions/3.11/lib/python3.11/site-packages (from requests[socks]->gdown) (2024.2.2)\n",
      "Requirement already satisfied: PySocks!=1.5.7,>=1.5.6 in /Library/Frameworks/Python.framework/Versions/3.11/lib/python3.11/site-packages (from requests[socks]->gdown) (1.7.1)\n",
      "\n",
      "\u001b[1m[\u001b[0m\u001b[34;49mnotice\u001b[0m\u001b[1;39;49m]\u001b[0m\u001b[39;49m A new release of pip available: \u001b[0m\u001b[31;49m22.3\u001b[0m\u001b[39;49m -> \u001b[0m\u001b[32;49m24.2\u001b[0m\n",
      "\u001b[1m[\u001b[0m\u001b[34;49mnotice\u001b[0m\u001b[1;39;49m]\u001b[0m\u001b[39;49m To update, run: \u001b[0m\u001b[32;49mpython3.11 -m pip install --upgrade pip\u001b[0m\n",
      "Note: you may need to restart the kernel to use updated packages.\n"
     ]
    }
   ],
   "source": [
    "%pip install gdown\n",
    "import gdown"
   ]
  },
  {
   "cell_type": "code",
   "execution_count": 6,
   "id": "3ce08a78-6ea1-461e-842c-879db4d7c718",
   "metadata": {
    "collapsed": true,
    "jupyter": {
     "outputs_hidden": true
    }
   },
   "outputs": [
    {
     "name": "stderr",
     "output_type": "stream",
     "text": [
      "Downloading...\n",
      "From (original): https://drive.google.com/uc?id=11NZNd7k4J5t-wofDWsPxHMJ3Jg5QmbiI\n",
      "From (redirected): https://drive.google.com/uc?id=11NZNd7k4J5t-wofDWsPxHMJ3Jg5QmbiI&confirm=t&uuid=166d9fc5-cd07-4427-a3b4-15abf102fe3c\n",
      "To: /Users/jenniferjiangkells/Documents/miade-tutorials/notebooks/models/miade_meds_model_a146c741501cf1f7.zip\n",
      "100%|████████████████████████████████████████████████████████████████████████████████████████████████████████████████████| 309M/309M [00:07<00:00, 39.8MB/s]\n",
      "Downloading...\n",
      "From (original): https://drive.google.com/uc?id=17s999FIotRenltR6gr_f8ZjdaXc-u1Gx\n",
      "From (redirected): https://drive.google.com/uc?id=17s999FIotRenltR6gr_f8ZjdaXc-u1Gx&confirm=t&uuid=12dd5faf-bda0-4824-be1b-48bfc630abc2\n",
      "To: /Users/jenniferjiangkells/Documents/miade-tutorials/notebooks/models/miade_problems_model_f25ec9423958e8d6.zip\n",
      "100%|████████████████████████████████████████████████████████████████████████████████████████████████████████████████████| 468M/468M [00:11<00:00, 42.4MB/s]\n"
     ]
    },
    {
     "data": {
      "text/plain": [
       "'./models/miade_problems_model_f25ec9423958e8d6.zip'"
      ]
     },
     "execution_count": 6,
     "metadata": {},
     "output_type": "execute_result"
    }
   ],
   "source": [
    "gdown.download('https://drive.google.com/uc?id=11NZNd7k4J5t-wofDWsPxHMJ3Jg5QmbiI', MODEL_DIR + \"miade_meds_model_a146c741501cf1f7.zip\")\n",
    "gdown.download('https://drive.google.com/uc?id=17s999FIotRenltR6gr_f8ZjdaXc-u1Gx', MODEL_DIR + 'miade_problems_model_f25ec9423958e8d6.zip')"
   ]
  },
  {
   "cell_type": "markdown",
   "id": "edca2dab-2fa4-481a-b04d-302fbf42a7eb",
   "metadata": {},
   "source": [
    "### Download example data"
   ]
  },
  {
   "cell_type": "code",
   "execution_count": 7,
   "id": "e4ed1521-b45c-474a-b11c-a2991054f16b",
   "metadata": {
    "collapsed": true,
    "jupyter": {
     "outputs_hidden": true
    }
   },
   "outputs": [
    {
     "name": "stdout",
     "output_type": "stream",
     "text": [
      "--2024-08-29 15:53:16--  https://raw.githubusercontent.com/uclh-criu/miade-tutorials/master/notebooks/models/config.yaml\n",
      "Resolving raw.githubusercontent.com (raw.githubusercontent.com)... 2606:50c0:8003::154, 2606:50c0:8002::154, 2606:50c0:8001::154, ...\n",
      "Connecting to raw.githubusercontent.com (raw.githubusercontent.com)|2606:50c0:8003::154|:443... connected.\n",
      "HTTP request sent, awaiting response... 200 OK\n",
      "Length: 208 [text/plain]\n",
      "Saving to: ‘./models/config.yaml.3’\n",
      "\n",
      "config.yaml.3       100%[===================>]     208  --.-KB/s    in 0s      \n",
      "\n",
      "2024-08-29 15:53:17 (10.4 MB/s) - ‘./models/config.yaml.3’ saved [208/208]\n",
      "\n",
      "--2024-08-29 15:53:17--  https://raw.githubusercontent.com/uclh-criu/miade-tutorials/master/notebooks/data/meds_allergies_cdb.csv\n",
      "Resolving raw.githubusercontent.com (raw.githubusercontent.com)... 2606:50c0:8003::154, 2606:50c0:8002::154, 2606:50c0:8001::154, ...\n",
      "Connecting to raw.githubusercontent.com (raw.githubusercontent.com)|2606:50c0:8003::154|:443... connected.\n",
      "HTTP request sent, awaiting response... 200 OK\n",
      "Length: 477 [text/plain]\n",
      "Saving to: ‘./data/meds_allergies_cdb.csv.3’\n",
      "\n",
      "meds_allergies_cdb. 100%[===================>]     477  --.-KB/s    in 0s      \n",
      "\n",
      "2024-08-29 15:53:17 (16.8 MB/s) - ‘./data/meds_allergies_cdb.csv.3’ saved [477/477]\n",
      "\n",
      "--2024-08-29 15:53:17--  https://raw.githubusercontent.com/uclh-criu/miade-tutorials/master/notebooks/data/wikipedia_sample.txt\n",
      "Resolving raw.githubusercontent.com (raw.githubusercontent.com)... 2606:50c0:8003::154, 2606:50c0:8002::154, 2606:50c0:8001::154, ...\n",
      "Connecting to raw.githubusercontent.com (raw.githubusercontent.com)|2606:50c0:8003::154|:443... connected.\n",
      "HTTP request sent, awaiting response... 200 OK\n",
      "Length: 2526 (2.5K) [text/plain]\n",
      "Saving to: ‘./data/wikipedia_sample.txt.3’\n",
      "\n",
      "wikipedia_sample.tx 100%[===================>]   2.47K  --.-KB/s    in 0s      \n",
      "\n",
      "2024-08-29 15:53:17 (11.5 MB/s) - ‘./data/wikipedia_sample.txt.3’ saved [2526/2526]\n",
      "\n"
     ]
    }
   ],
   "source": [
    "!wget https://raw.githubusercontent.com/uclh-criu/miade-tutorials/master/notebooks/models/config.yaml -P $MODEL_DIR\n",
    "!wget https://raw.githubusercontent.com/uclh-criu/miade-tutorials/master/notebooks/data/meds_allergies_cdb.csv -P $DATA_DIR\n",
    "!wget https://raw.githubusercontent.com/uclh-criu/miade-tutorials/master/notebooks/data/wikipedia_sample.txt -P $DATA_DIR"
   ]
  },
  {
   "cell_type": "code",
   "execution_count": 8,
   "id": "d2a51853-dccd-45a1-8b2b-dea696454904",
   "metadata": {},
   "outputs": [
    {
     "name": "stderr",
     "output_type": "stream",
     "text": [
      "/Library/Frameworks/Python.framework/Versions/3.11/lib/python3.11/site-packages/medcat/cat.py:18: TqdmExperimentalWarning: Using `tqdm.autonotebook.tqdm` in notebook mode. Use `tqdm.tqdm` instead to force console mode (e.g. in jupyter console)\n",
      "  from tqdm.autonotebook import tqdm, trange\n"
     ]
    }
   ],
   "source": [
    "from pathlib import Path\n",
    "from typing import List, Dict, Optional\n",
    "\n",
    "from miade.core import NoteProcessor\n",
    "from miade.note import Note\n",
    "from miade.annotators import Annotator\n",
    "from miade.concept import Concept, Category\n",
    "from miade.dosageextractor import DosageExtractor"
   ]
  },
  {
   "cell_type": "markdown",
   "id": "a2ad8d26-f859-450c-b92a-eb14e9bd9911",
   "metadata": {},
   "source": [
    "## Part 1: Extracting concepts and dosages from notes using the full MiADE pipeline"
   ]
  },
  {
   "cell_type": "markdown",
   "id": "bba12e0f-680a-48a4-9115-319c9c63de9b",
   "metadata": {
    "tags": []
   },
   "source": [
    "### Configuring the MiADE processor"
   ]
  },
  {
   "cell_type": "markdown",
   "id": "e1e57990-a268-4f8e-b55a-0ebb82581900",
   "metadata": {},
   "source": [
    "```NoteProcessor``` is the MiADE core. It is initialised with a model directory path that contains all the MedCAT model pack .zip files we would like to use in our pipeline, and a `config.yaml` file that maps an alias to the model IDs (model IDs can be found in MedCAT `model_cards` or usually will be in the name) and annotators we would like to use:\n",
    "\n",
    "```\n",
    "models:\n",
    "  problems: f25ec9423958e8d6\n",
    "  meds/allergies: a146c741501cf1f7\n",
    "annotators:\n",
    "  problems: ProblemsAnnotator\n",
    "  meds/allergies: MedsAllergiesAnnotator\n",
    " ```"
   ]
  },
  {
   "cell_type": "code",
   "execution_count": 9,
   "id": "2670b0d3-ef83-4eb2-bb71-f903b75cb411",
   "metadata": {
    "collapsed": true,
    "jupyter": {
     "outputs_hidden": true
    }
   },
   "outputs": [
    {
     "name": "stderr",
     "output_type": "stream",
     "text": [
      "[2024-08-29 15:53:19,567] [INFO] miade.core._load_config(): Found config file models/config.yaml\n",
      "[2024-08-29 15:53:19,569] [INFO] miade.core._load_model_factory(): Loading MedCAT models from models\n",
      "/Library/Frameworks/Python.framework/Versions/3.11/lib/python3.11/site-packages/medcat/meta_cat.py:356: FutureWarning: You are using `torch.load` with `weights_only=False` (the current default value), which uses the default pickle module implicitly. It is possible to construct malicious pickle data which will execute arbitrary code during unpickling (See https://github.com/pytorch/pytorch/blob/main/SECURITY.md#untrusted-models for more details). In a future release, the default value for `weights_only` will be flipped to `True`. This limits the functions that could be executed during unpickling. Arbitrary objects will no longer be allowed to be loaded via this mode unless they are explicitly allowlisted by the user via `torch.serialization.add_safe_globals`. We recommend you start setting `weights_only=True` for any use case where you don't have full control of the loaded file. Please open an issue on GitHub for any issues related to this experimental feature.\n",
      "  meta_cat.model.load_state_dict(torch.load(model_save_path, map_location=device))\n",
      "/Library/Frameworks/Python.framework/Versions/3.11/lib/python3.11/site-packages/spacy/util.py:877: UserWarning: [W095] Model 'en_core_web_md' (3.1.0) was trained with spaCy v3.1 and may not be 100% compatible with the current version (3.4.4). If you see errors or degraded performance, download a newer compatible model or retrain your custom model with the current spaCy version. For more details and available updates, run: python -m spacy validate\n",
      "  warnings.warn(warn_msg)\n",
      "[2024-08-29 15:53:30,316] [WARNING] miade.core._load_model_factory(): CustomAnnotator not found: module 'miade.core' has no attribute 'CustomAnnotator'\n",
      "[2024-08-29 15:53:30,318] [WARNING] miade.core._load_model_factory(): No general settings configured, using default settings.\n",
      "[2024-08-29 15:53:31,247] [INFO] miade.dosageextractor._create_drugdoseade_pipeline(): Loaded drug dosage extractor with model en_core_med7_lg\n"
     ]
    }
   ],
   "source": [
    "miade = NoteProcessor(Path(MODEL_DIR))"
   ]
  },
  {
   "cell_type": "markdown",
   "id": "3d7f3594-c925-4fa5-b511-4408c8d94c7e",
   "metadata": {},
   "source": [
    "Once ```NoteProcessor``` is initialised, we can add annotators by the aliases we have specified in ```config.yaml``` to our processor. \n",
    "\n",
    "By default annotators will add negSpacy to MedCAT, which implements the negEx algorithm (Chapman et al. 2001) for negation detection. This allows the models to perform simple rule-based negation detection in the absence of trained MetaCAT models. You can disable this in the configurations if you wish to use your own MetaCAT instead."
   ]
  },
  {
   "cell_type": "code",
   "execution_count": 10,
   "id": "23735816-b17e-4d81-a2ad-577ce54c3a1b",
   "metadata": {},
   "outputs": [
    {
     "name": "stderr",
     "output_type": "stream",
     "text": [
      "[2024-08-29 15:53:31,259] [INFO] miade.annotators._load_problems_lookup_data(): Loading preconfigured lookup data for ProblemsAnnotator\n",
      "[2024-08-29 15:53:31,270] [INFO] miade.core.add_annotator(): Added ProblemsAnnotator to processor with config None\n"
     ]
    }
   ],
   "source": [
    "miade.add_annotator(\"problems\")"
   ]
  },
  {
   "cell_type": "code",
   "execution_count": 11,
   "id": "939f914a-fdb3-4013-81af-9612e5ae48dd",
   "metadata": {},
   "outputs": [
    {
     "name": "stderr",
     "output_type": "stream",
     "text": [
      "[2024-08-29 15:53:31,284] [INFO] miade.annotators._load_med_allergy_lookup_data(): Loading preconfigured lookup data for MedsAllergiesAnnotator\n",
      "[2024-08-29 15:53:31,489] [INFO] miade.core.add_annotator(): Added MedsAllergiesAnnotator to processor with config None\n"
     ]
    }
   ],
   "source": [
    "miade.add_annotator(\"meds/allergies\")"
   ]
  },
  {
   "cell_type": "code",
   "execution_count": 12,
   "id": "0f72e134-39f3-4d08-8741-d67ca5acf872",
   "metadata": {
    "scrolled": true
   },
   "outputs": [
    {
     "name": "stdout",
     "output_type": "stream",
     "text": [
      "ProblemsAnnotator: {\n",
      "  \"Model ID\": \"f25ec9423958e8d6\",\n",
      "  \"Last Modified On\": \"12 June 2023\",\n",
      "  \"History (from least to most recent)\": [\n",
      "    \"0b130195e6964e66\",\n",
      "    \"353abfe8f57e2009\",\n",
      "    \"af37e525e37cdb1a\"\n",
      "  ],\n",
      "  \"Description\": \"MiADE problems development model unsupervised trained on MIMIC-III. cdb: full_condition_list_MedCAT_cdb.csv; vocab: medcat model 811218c0b819c304 (feb 2022) | Packaged with MetaCAT model(s) presence, relevance\",\n",
      "  \"Source Ontology\": \"SNOMEDUK_May2022 MiADE subset\",\n",
      "  \"Location\": \"gae03:gae/miade/models/problems/, miade-dev:vol/models/problems/\",\n",
      "  \"MetaCAT models\": [\n",
      "    {\n",
      "      \"Category Name\": \"presence\",\n",
      "      \"Description\": \"Blank meta model with tokenizer trained on MIMIC III\",\n",
      "      \"Classes\": {\n",
      "        \"confirmed\": 0,\n",
      "        \"negated\": 1,\n",
      "        \"suspected\": 2\n",
      "      },\n",
      "      \"Model\": \"lstm\"\n",
      "    },\n",
      "    {\n",
      "      \"Category Name\": \"relevance\",\n",
      "      \"Description\": \"Blank meta model with tokenizer trained on MIMIC III\",\n",
      "      \"Classes\": {\n",
      "        \"historic\": 1,\n",
      "        \"irrelevant\": 2,\n",
      "        \"present\": 0\n",
      "      },\n",
      "      \"Model\": \"lstm\"\n",
      "    }\n",
      "  ],\n",
      "  \"Basic CDB Stats\": {\n",
      "    \"Number of concepts\": 118431,\n",
      "    \"Number of names\": 561230,\n",
      "    \"Number of concepts that received training\": 13256,\n",
      "    \"Number of seen training examples in total\": 12247485,\n",
      "    \"Average training examples per concept\": 923.9201116475558\n",
      "  },\n",
      "  \"Performance\": {\n",
      "    \"ner\": {},\n",
      "    \"meta\": {}\n",
      "  },\n",
      "  \"Important Parameters (Partial view, all available in cat.config)\": {\n",
      "    \"config.ner.min_name_len\": {\n",
      "      \"value\": 3,\n",
      "      \"description\": \"Minimum detection length (found terms/mentions shorter than this will not be detected).\"\n",
      "    },\n",
      "    \"config.ner.upper_case_limit_len\": {\n",
      "      \"value\": 4,\n",
      "      \"description\": \"All detected terms shorter than this value have to be uppercase, otherwise they will be ignored.\"\n",
      "    },\n",
      "    \"config.linking.similarity_threshold\": {\n",
      "      \"value\": 0.25,\n",
      "      \"description\": \"If the confidence of the model is lower than this a detection will be ignore.\"\n",
      "    },\n",
      "    \"config.linking.filters.cuis\": {\n",
      "      \"value\": 0,\n",
      "      \"description\": \"Length of the CUIs filter to be included in outputs. If this is not 0 (i.e. not empty) its best to check what is included before using the model\"\n",
      "    },\n",
      "    \"config.general.spell_check\": {\n",
      "      \"value\": true,\n",
      "      \"description\": \"Is spell checking enabled.\"\n",
      "    },\n",
      "    \"config.general.spell_check_len_limit\": {\n",
      "      \"value\": 7,\n",
      "      \"description\": \"Words shorter than this will not be spell checked.\"\n",
      "    }\n",
      "  },\n",
      "  \"MedCAT Version\": \"1.7.0\"\n",
      "}\n",
      "MedsAllergiesAnnotator: {\n",
      "  \"Model ID\": \"a146c741501cf1f7\",\n",
      "  \"Last Modified On\": \"12 December 2022\",\n",
      "  \"History (from least to most recent)\": [\n",
      "    \"4bb048d67081dd2f\",\n",
      "    \"cd3fa3d09a183585\"\n",
      "  ],\n",
      "  \"Description\": \"Unsupervised trained medications and allergies model for development purposes trained on MIMIC-III text. cdb: med_allergy_reaction_MedCAT_cdb.csv; vocab: medcat model 811218c0b819c304 (feb 2022)\",\n",
      "  \"Source Ontology\": \"SNOMEDUK_May2022 MiADE med/allergy/reaction subset\",\n",
      "  \"Location\": \"gae03:gae/miade/models/medications_allergies/, miade-dev:vol/models/medications_allergies/\",\n",
      "  \"MetaCAT models\": {},\n",
      "  \"Basic CDB Stats\": {\n",
      "    \"Number of concepts\": 50357,\n",
      "    \"Number of names\": 91562,\n",
      "    \"Number of concepts that received training\": 5578,\n",
      "    \"Number of seen training examples in total\": 20751737,\n",
      "    \"Average training examples per concept\": 3720.2827178200073\n",
      "  },\n",
      "  \"Performance\": {\n",
      "    \"ner\": {},\n",
      "    \"meta\": {}\n",
      "  },\n",
      "  \"Important Parameters (Partial view, all available in cat.config)\": {\n",
      "    \"config.ner.min_name_len\": {\n",
      "      \"value\": 3,\n",
      "      \"description\": \"Minimum detection length (found terms/mentions shorter than this will not be detected).\"\n",
      "    },\n",
      "    \"config.ner.upper_case_limit_len\": {\n",
      "      \"value\": 4,\n",
      "      \"description\": \"All detected terms shorter than this value have to be uppercase, otherwise they will be ignored.\"\n",
      "    },\n",
      "    \"config.linking.similarity_threshold\": {\n",
      "      \"value\": 0.25,\n",
      "      \"description\": \"If the confidence of the model is lower than this a detection will be ignore.\"\n",
      "    },\n",
      "    \"config.linking.filters.cuis\": {\n",
      "      \"value\": 0,\n",
      "      \"description\": \"Length of the CUIs filter to be included in outputs. If this is not 0 (i.e. not empty) its best to check what is included before using the model\"\n",
      "    },\n",
      "    \"config.general.spell_check\": {\n",
      "      \"value\": true,\n",
      "      \"description\": \"Is spell checking enabled.\"\n",
      "    },\n",
      "    \"config.general.spell_check_len_limit\": {\n",
      "      \"value\": 7,\n",
      "      \"description\": \"Words shorter than this will not be spell checked.\"\n",
      "    }\n",
      "  },\n",
      "  \"MedCAT Version\": \"1.2.8\"\n",
      "}\n"
     ]
    }
   ],
   "source": [
    "# print the MedCAT model cards to check that it's been mapped to the correct annotators\n",
    "miade.print_model_cards()"
   ]
  },
  {
   "cell_type": "markdown",
   "id": "c6c73e0c-8c1e-430f-b337-dee930759a60",
   "metadata": {},
   "source": [
    "### Creating a Note"
   ]
  },
  {
   "cell_type": "markdown",
   "id": "fdea82fd-bb79-4a3b-91d9-5944d950ff4c",
   "metadata": {},
   "source": [
    "Next we will create a ```Note``` object which contains the text we would like to extract concepts and dosages from"
   ]
  },
  {
   "cell_type": "code",
   "execution_count": 13,
   "id": "2b8ca3a2-6a1d-4c40-9683-7b6213af568b",
   "metadata": {},
   "outputs": [],
   "source": [
    "text = \"\"\"\n",
    "Suspected heart failure\n",
    "\n",
    "PMH:\n",
    "prev history of hypothyroidism\n",
    "MI 10 years ago\n",
    "\n",
    "\n",
    "Current meds:\n",
    "Losartan 100mg daily\n",
    "Atorvastatin 20mg daily\n",
    "Paracetamol 500mg tablets 2 tabs qds prn\n",
    "\n",
    "Allergies:\n",
    "Penicillin - rash\n",
    "\n",
    "Referred with swollen ankles and shortness of breath since 2 weeks.\n",
    "\"\"\""
   ]
  },
  {
   "cell_type": "code",
   "execution_count": 14,
   "id": "bfe6ef2d-e658-4528-995c-c993a0437f46",
   "metadata": {},
   "outputs": [],
   "source": [
    "note = Note(text)"
   ]
  },
  {
   "cell_type": "markdown",
   "id": "5d2b0c86-9844-45ca-8c0d-06ec61e76aa8",
   "metadata": {},
   "source": [
    "### Extracting concepts and dosages"
   ]
  },
  {
   "cell_type": "markdown",
   "id": "ea12408d-46fd-4338-86d8-f06127b17299",
   "metadata": {},
   "source": [
    "MiADE currently extracts concepts in SNOMED CT. Each concept has:\n",
    "- `name`: name of concept\n",
    "- `id`: concept ID\n",
    "- `category`: type of concept e.g. problems, medictions\n",
    "- `start`: start index of concept span\n",
    "- `end`: end index of concept span\n",
    "- `dosage`: for medication concepts\n",
    "- `negex`: Negex result if configured\n",
    "- `meta`: Meta annotations if MetaCAT models are used\n",
    "\n",
    "The dosages associated with medication concepts are extracted by the built-in MiADE `DosageExtractor`, using a combination of NER model [Med7](https://github.com/kormilitzin/med7) and [the CALIBER rule-based drug dose lookup algorithm](https://rdrr.io/rforge/CALIBERdrugdose/). It returns:\n",
    "\n",
    "- `dose`\n",
    "- `duration`\n",
    "- `frequency`\n",
    "- `route`\n",
    "\n",
    "The output format is directly translatable to HL7 CDA but can also easily be converted to FHIR."
   ]
  },
  {
   "cell_type": "code",
   "execution_count": 15,
   "id": "8191f315-b6b3-442e-920b-9614a8a044ef",
   "metadata": {},
   "outputs": [],
   "source": [
    "# get concepts as dicts\n",
    "concepts = miade.get_concept_dicts(note)"
   ]
  },
  {
   "cell_type": "code",
   "execution_count": 16,
   "id": "0c586127-d875-451c-8b67-76fa2e45db89",
   "metadata": {},
   "outputs": [
    {
     "data": {
      "text/plain": [
       "[{'name': 'heart failure (suspected)',\n",
       "  'id': '394887005',\n",
       "  'category': 'PROBLEM',\n",
       "  'start': 11,\n",
       "  'end': 24,\n",
       "  'dosage': None,\n",
       "  'linked_concepts': [],\n",
       "  'negex': False,\n",
       "  'meta': [{'name': 'presence',\n",
       "    'value': 'SUSPECTED',\n",
       "    'confidence': 0.9998881816864014},\n",
       "   {'name': 'relevance', 'value': 'PRESENT', 'confidence': 0.999954104423523}],\n",
       "  'debug': None},\n",
       " {'name': 'hypothyroidism',\n",
       "  'id': '40930008',\n",
       "  'category': 'PROBLEM',\n",
       "  'start': 46,\n",
       "  'end': 60,\n",
       "  'dosage': None,\n",
       "  'linked_concepts': [],\n",
       "  'negex': False,\n",
       "  'meta': [{'name': 'presence',\n",
       "    'value': 'CONFIRMED',\n",
       "    'confidence': 0.999984622001648},\n",
       "   {'name': 'relevance',\n",
       "    'value': 'HISTORIC',\n",
       "    'confidence': 0.999841570854187}],\n",
       "  'debug': None},\n",
       " {'name': 'swollen ankles',\n",
       "  'id': '267039000',\n",
       "  'category': 'PROBLEM',\n",
       "  'start': 220,\n",
       "  'end': 234,\n",
       "  'dosage': None,\n",
       "  'linked_concepts': [],\n",
       "  'negex': False,\n",
       "  'meta': [{'name': 'presence',\n",
       "    'value': 'CONFIRMED',\n",
       "    'confidence': 0.9856405258178711},\n",
       "   {'name': 'relevance',\n",
       "    'value': 'PRESENT',\n",
       "    'confidence': 0.9999951124191284}],\n",
       "  'debug': None},\n",
       " {'name': 'shortness of breath',\n",
       "  'id': '267036007',\n",
       "  'category': 'PROBLEM',\n",
       "  'start': 239,\n",
       "  'end': 258,\n",
       "  'dosage': None,\n",
       "  'linked_concepts': [],\n",
       "  'negex': False,\n",
       "  'meta': [{'name': 'presence',\n",
       "    'value': 'CONFIRMED',\n",
       "    'confidence': 0.9906362891197205},\n",
       "   {'name': 'relevance',\n",
       "    'value': 'PRESENT',\n",
       "    'confidence': 0.9999895095825195}],\n",
       "  'debug': None},\n",
       " {'name': 'LOSARTAN ORAL',\n",
       "  'id': None,\n",
       "  'category': 'MEDICATION',\n",
       "  'start': 91,\n",
       "  'end': 99,\n",
       "  'dosage': {'dose': {'source': '100 mg',\n",
       "    'value': 100.0,\n",
       "    'unit': 'mg',\n",
       "    'low': None,\n",
       "    'high': None},\n",
       "   'duration': None,\n",
       "   'frequency': {'source': 'start 100 mg every day ',\n",
       "    'value': 1.0,\n",
       "    'unit': 'd',\n",
       "    'low': None,\n",
       "    'high': None,\n",
       "    'standardDeviation': None,\n",
       "    'institutionSpecified': False,\n",
       "    'preconditionAsRequired': False},\n",
       "   'route': None},\n",
       "  'linked_concepts': [],\n",
       "  'negex': False,\n",
       "  'meta': None,\n",
       "  'debug': None},\n",
       " {'name': 'Atorvastatin 20mg tablets',\n",
       "  'id': '39733011000001104',\n",
       "  'category': 'MEDICATION',\n",
       "  'start': 112,\n",
       "  'end': 124,\n",
       "  'dosage': {'dose': {'source': '20 mg',\n",
       "    'value': 1,\n",
       "    'unit': '{tbl}',\n",
       "    'low': None,\n",
       "    'high': None},\n",
       "   'duration': None,\n",
       "   'frequency': {'source': 'start 20 mg every day ',\n",
       "    'value': 1.0,\n",
       "    'unit': 'd',\n",
       "    'low': None,\n",
       "    'high': None,\n",
       "    'standardDeviation': None,\n",
       "    'institutionSpecified': False,\n",
       "    'preconditionAsRequired': False},\n",
       "   'route': None},\n",
       "  'linked_concepts': [],\n",
       "  'negex': False,\n",
       "  'meta': None,\n",
       "  'debug': None},\n",
       " {'name': 'Paracetamol 500mg tablets',\n",
       "  'id': '322236009',\n",
       "  'category': 'MEDICATION',\n",
       "  'start': 136,\n",
       "  'end': 161,\n",
       "  'dosage': {'dose': {'source': '2 tab',\n",
       "    'value': 2.0,\n",
       "    'unit': '{tbl}',\n",
       "    'low': None,\n",
       "    'high': None},\n",
       "   'duration': None,\n",
       "   'frequency': {'source': 'start 2 tab 4 times day when needed ',\n",
       "    'value': 0.25,\n",
       "    'unit': 'd',\n",
       "    'low': None,\n",
       "    'high': None,\n",
       "    'standardDeviation': None,\n",
       "    'institutionSpecified': True,\n",
       "    'preconditionAsRequired': True},\n",
       "   'route': None},\n",
       "  'linked_concepts': [],\n",
       "  'negex': False,\n",
       "  'meta': None,\n",
       "  'debug': None}]"
      ]
     },
     "execution_count": 16,
     "metadata": {},
     "output_type": "execute_result"
    }
   ],
   "source": [
    "concepts"
   ]
  },
  {
   "cell_type": "markdown",
   "id": "8c2953cb-ce2b-4931-bf9a-cbfa0cfa9ddd",
   "metadata": {},
   "source": [
    "#### Handling existing records - deduplication\n",
    "\n",
    "MiADE is built to handle existing medication records from EHR systems that can be sent alongside the note. It will perform basic deduplication matching on id for existing record concepts."
   ]
  },
  {
   "cell_type": "code",
   "execution_count": 17,
   "id": "8a3348f2-4a59-4839-ac62-6f554a3713ad",
   "metadata": {},
   "outputs": [],
   "source": [
    "# create list of concepts that already exists in patient record\n",
    "record_concepts = [\n",
    "    Concept(id=\"40930008\", name=\"hypothyroidism\", category=Category.PROBLEM),\n",
    "    Concept(id=\"267039000\", name=\"swollen ankle\", category=Category.PROBLEM)\n",
    "]"
   ]
  },
  {
   "cell_type": "code",
   "execution_count": 18,
   "id": "a2d62b59-11c2-452e-9c98-714429d3c62a",
   "metadata": {},
   "outputs": [
    {
     "data": {
      "text/plain": [
       "[{'name': 'heart failure (suspected)',\n",
       "  'id': '394887005',\n",
       "  'category': 'PROBLEM',\n",
       "  'start': 11,\n",
       "  'end': 24,\n",
       "  'dosage': None,\n",
       "  'linked_concepts': [],\n",
       "  'negex': False,\n",
       "  'meta': [{'name': 'presence',\n",
       "    'value': 'SUSPECTED',\n",
       "    'confidence': 0.9998881816864014},\n",
       "   {'name': 'relevance', 'value': 'PRESENT', 'confidence': 0.999954104423523}],\n",
       "  'debug': None},\n",
       " {'name': 'shortness of breath',\n",
       "  'id': '267036007',\n",
       "  'category': 'PROBLEM',\n",
       "  'start': 238,\n",
       "  'end': 257,\n",
       "  'dosage': None,\n",
       "  'linked_concepts': [],\n",
       "  'negex': False,\n",
       "  'meta': [{'name': 'presence',\n",
       "    'value': 'CONFIRMED',\n",
       "    'confidence': 0.9906362891197205},\n",
       "   {'name': 'relevance',\n",
       "    'value': 'PRESENT',\n",
       "    'confidence': 0.9999895095825195}],\n",
       "  'debug': None},\n",
       " {'name': 'LOSARTAN ORAL',\n",
       "  'id': None,\n",
       "  'category': 'MEDICATION',\n",
       "  'start': 91,\n",
       "  'end': 99,\n",
       "  'dosage': {'dose': {'source': '100 mg',\n",
       "    'value': 100.0,\n",
       "    'unit': 'mg',\n",
       "    'low': None,\n",
       "    'high': None},\n",
       "   'duration': None,\n",
       "   'frequency': {'source': 'start 100 mg every day ',\n",
       "    'value': 1.0,\n",
       "    'unit': 'd',\n",
       "    'low': None,\n",
       "    'high': None,\n",
       "    'standardDeviation': None,\n",
       "    'institutionSpecified': False,\n",
       "    'preconditionAsRequired': False},\n",
       "   'route': None},\n",
       "  'linked_concepts': [],\n",
       "  'negex': False,\n",
       "  'meta': None,\n",
       "  'debug': None},\n",
       " {'name': 'Atorvastatin 20mg tablets',\n",
       "  'id': '39733011000001104',\n",
       "  'category': 'MEDICATION',\n",
       "  'start': 112,\n",
       "  'end': 124,\n",
       "  'dosage': {'dose': {'source': '20 mg',\n",
       "    'value': 1,\n",
       "    'unit': '{tbl}',\n",
       "    'low': None,\n",
       "    'high': None},\n",
       "   'duration': None,\n",
       "   'frequency': {'source': 'start 20 mg every day ',\n",
       "    'value': 1.0,\n",
       "    'unit': 'd',\n",
       "    'low': None,\n",
       "    'high': None,\n",
       "    'standardDeviation': None,\n",
       "    'institutionSpecified': False,\n",
       "    'preconditionAsRequired': False},\n",
       "   'route': None},\n",
       "  'linked_concepts': [],\n",
       "  'negex': False,\n",
       "  'meta': None,\n",
       "  'debug': None},\n",
       " {'name': 'Paracetamol 500mg tablets',\n",
       "  'id': '322236009',\n",
       "  'category': 'MEDICATION',\n",
       "  'start': 136,\n",
       "  'end': 161,\n",
       "  'dosage': {'dose': {'source': '2 tab',\n",
       "    'value': 2.0,\n",
       "    'unit': '{tbl}',\n",
       "    'low': None,\n",
       "    'high': None},\n",
       "   'duration': None,\n",
       "   'frequency': {'source': 'start 2 tab 4 times day when needed ',\n",
       "    'value': 0.25,\n",
       "    'unit': 'd',\n",
       "    'low': None,\n",
       "    'high': None,\n",
       "    'standardDeviation': None,\n",
       "    'institutionSpecified': True,\n",
       "    'preconditionAsRequired': True},\n",
       "   'route': None},\n",
       "  'linked_concepts': [],\n",
       "  'negex': False,\n",
       "  'meta': None,\n",
       "  'debug': None}]"
      ]
     },
     "execution_count": 18,
     "metadata": {},
     "output_type": "execute_result"
    }
   ],
   "source": [
    "miade.get_concept_dicts(note=note, record_concepts=record_concepts)"
   ]
  },
  {
   "cell_type": "markdown",
   "id": "def02399-5cb8-44e3-9484-3130a78f7a7f",
   "metadata": {},
   "source": [
    "#### Removing annotators\n",
    "\n",
    "We can also remove annotators if no longer needed"
   ]
  },
  {
   "cell_type": "code",
   "execution_count": 19,
   "id": "c423a9f8-1eb4-4a6b-964d-808a6d0d745d",
   "metadata": {},
   "outputs": [
    {
     "name": "stderr",
     "output_type": "stream",
     "text": [
      "[2024-08-29 15:53:31,743] [INFO] miade.core.remove_annotator(): Removed MedsAllergiesAnnotator from processor\n"
     ]
    }
   ],
   "source": [
    "miade.remove_annotator(\"meds/allergies\")"
   ]
  },
  {
   "cell_type": "code",
   "execution_count": 20,
   "id": "d7e0c806-917c-45eb-8f39-3e2e17b19230",
   "metadata": {},
   "outputs": [
    {
     "data": {
      "text/plain": [
       "[{'name': 'heart failure (suspected)',\n",
       "  'id': '394887005',\n",
       "  'category': 'PROBLEM',\n",
       "  'start': 11,\n",
       "  'end': 24,\n",
       "  'dosage': None,\n",
       "  'linked_concepts': [],\n",
       "  'negex': False,\n",
       "  'meta': [{'name': 'presence',\n",
       "    'value': 'SUSPECTED',\n",
       "    'confidence': 0.9998881816864014},\n",
       "   {'name': 'relevance', 'value': 'PRESENT', 'confidence': 0.999954104423523}],\n",
       "  'debug': None},\n",
       " {'name': 'shortness of breath',\n",
       "  'id': '267036007',\n",
       "  'category': 'PROBLEM',\n",
       "  'start': 238,\n",
       "  'end': 257,\n",
       "  'dosage': None,\n",
       "  'linked_concepts': [],\n",
       "  'negex': False,\n",
       "  'meta': [{'name': 'presence',\n",
       "    'value': 'CONFIRMED',\n",
       "    'confidence': 0.9906362891197205},\n",
       "   {'name': 'relevance',\n",
       "    'value': 'PRESENT',\n",
       "    'confidence': 0.9999895095825195}],\n",
       "  'debug': None}]"
      ]
     },
     "execution_count": 20,
     "metadata": {},
     "output_type": "execute_result"
    }
   ],
   "source": [
    "miade.get_concept_dicts(note=note, record_concepts=record_concepts)"
   ]
  },
  {
   "cell_type": "markdown",
   "id": "6d003702-eaaf-4d29-a7f5-f2681a4d5205",
   "metadata": {},
   "source": [
    "## Part 2: Customising MiADE"
   ]
  },
  {
   "cell_type": "markdown",
   "id": "3ed03ddb-0033-4335-8a8c-0fd41d410384",
   "metadata": {},
   "source": [
    "### 2.1 Building custom MedCAT models\n",
    "\n",
    "This part of the tutorial will go through the basics of building a MedCAT model that can be used with MiADE.\n",
    "\n",
    "For more information on **MedCAT**:\n",
    "\n",
    "- [Github](https://github.com/CogStack/MedCAT)\n",
    "- [MedCAT Tutorials](https://github.com/CogStack/MedCATtutorials)\n",
    "- [Paper](https://arxiv.org/abs/2010.01165)"
   ]
  },
  {
   "cell_type": "code",
   "execution_count": 21,
   "id": "46df3164-045b-4425-9ddf-9845de908310",
   "metadata": {},
   "outputs": [],
   "source": [
    "from miade.model_builders.cdbbuilder import CDBBuilder\n",
    "from miade.model_builders.vocabbuilder import VocabBuilder"
   ]
  },
  {
   "cell_type": "code",
   "execution_count": 22,
   "id": "216dda13-e763-4283-a31b-58d0b2f5f0b2",
   "metadata": {},
   "outputs": [],
   "source": [
    "CDB_DATA_PATH = DATA_DIR + \"meds_allergies_cdb.csv\""
   ]
  },
  {
   "cell_type": "code",
   "execution_count": 23,
   "id": "b612c691-b316-4dc9-8663-997a2e12c7bd",
   "metadata": {},
   "outputs": [],
   "source": [
    "TEXT_DATA_PATH = DATA_DIR + \"wikipedia_sample.txt\""
   ]
  },
  {
   "cell_type": "markdown",
   "id": "3e9e59e9-c2d2-47df-a3cd-07a876a76ba2",
   "metadata": {},
   "source": [
    "#### **Create a CDB (concept databse) builder**\n",
    "\n",
    "The MiADE `CDBBuilder` uses SNOMED CT and builds from a preprocessed CSV in the following example format:\n",
    "\n",
    "| cui      | name                  | ontologies | name_status |\n",
    "| -------- | --------------------- | ---------- | ----------- |\n",
    "| 59927004 | hepatic failure       | SNO        | P           |\n",
    "| 59927004 | hepatic insufficiency | SNO        | A           |\n",
    "\n",
    "\n",
    "Where \"P\" denotes primary name and \"A\" denotes alternate name. \n",
    "\n",
    "See MedCAT Tutorials For more information on building CDB and Vocabs with custom ontologies"
   ]
  },
  {
   "cell_type": "code",
   "execution_count": 24,
   "id": "e7100178-7e3b-4e27-9a1d-339da4dae947",
   "metadata": {},
   "outputs": [],
   "source": [
    "cdbbuilder = CDBBuilder(\n",
    "    temp_dir=(Path.cwd() / Path(\".temp\")),  # temp dir for saving data\n",
    "    custom_data_paths=[Path(CDB_DATA_PATH)]\n",
    ")"
   ]
  },
  {
   "cell_type": "code",
   "execution_count": 25,
   "id": "77599dfa-cf0f-457c-9ad8-3214876b50c5",
   "metadata": {},
   "outputs": [],
   "source": [
    "# process and create the CDB object\n",
    "cdbbuilder.preprocess()\n",
    "cdb = cdbbuilder.create_cdb()"
   ]
  },
  {
   "cell_type": "code",
   "execution_count": 26,
   "id": "172d7cfe-9dd4-4a48-a933-4628b268ba73",
   "metadata": {},
   "outputs": [
    {
     "data": {
      "text/plain": [
       "{'acetaminophen': 1,\n",
       " '500mg': 3,\n",
       " 'oral': 4,\n",
       " 'tablet': 4,\n",
       " 'paracetamol': 1,\n",
       " 'ibuprofen': 1,\n",
       " '200mg': 1,\n",
       " 'penicillin': 1,\n",
       " 'coconut': 1,\n",
       " 'metformin': 1,\n",
       " 'hydrochloride': 1,\n",
       " 'peanut': 1,\n",
       " 'butter': 1,\n",
       " 'a': 2,\n",
       " 'rash': 2,\n",
       " 'complaining': 1,\n",
       " 'of': 3,\n",
       " 'facial': 1,\n",
       " 'swelling': 1,\n",
       " 'symptoms': 2,\n",
       " 'depression': 2,\n",
       " 'symptom': 2,\n",
       " 'depressive': 2}"
      ]
     },
     "execution_count": 26,
     "metadata": {},
     "output_type": "execute_result"
    }
   ],
   "source": [
    "# inspect the vocab\n",
    "cdb.vocab"
   ]
  },
  {
   "cell_type": "markdown",
   "id": "d5741199-e0dd-4084-8ef0-7ffd20807a14",
   "metadata": {},
   "source": [
    "#### **Create a Vocab builder**\n",
    "\n",
    "The `Vocab` takes a free text as input and trains a corpus of word embeddings on it using [Word2Vec](https://www.tensorflow.org/tutorials/text/word2vec). \n",
    "\n",
    "Using `VocabBuilder` we can pass a list of texts we would like to create our vocab with - here we are using some wikipedia sample text."
   ]
  },
  {
   "cell_type": "code",
   "execution_count": 27,
   "id": "6fe90df3-5dd3-4759-bedc-d70bd9d724d4",
   "metadata": {},
   "outputs": [],
   "source": [
    "# load the training data in a list\n",
    "with open(TEXT_DATA_PATH, \"r\", encoding=\"utf-8\") as training_data:\n",
    "    training_data_list = [line.strip() for line in training_data]"
   ]
  },
  {
   "cell_type": "code",
   "execution_count": 28,
   "id": "dc20d4f0-a9d6-4fd5-b004-a50a7ae03d1c",
   "metadata": {},
   "outputs": [
    {
     "data": {
      "text/plain": [
       "['Lung cancer, also known as bronchial carcinoma, since about 98–99% of all lung cancers are carcinomas, is a malignant lung tumor characterized by uncontrolled cell growth in tissues of the lung. Lung carcinomas derive from transformed, malignant cells that originate as epithelial cells, or from tissues composed of epithelial cells. Other lung cancers, such as the rare sarcomas of the lung, are generated by the malignant transformation of connective tissues (i.e. nerve, fat, muscle, bone), which arise from mesenchymal cells. Lymphomas and melanomas (from lymphoid and melanocyte cell lineages) can also rarely result in lung cancer.',\n",
       " 'In time, this uncontrolled growth can spread beyond the lung – either by direct extension, by entering the lymphatic circulation, or via the hematogenous, bloodborne spread – the process called metastasis – into nearby tissue or other, more distant parts of the body. Most cancers that start in the lung, known as primary lung cancers, are carcinomas. The two main types are small-cell lung carcinoma (SCLC) and non-small-cell lung carcinoma (NSCLC). The most common symptoms are coughing (including coughing up blood), weight loss, shortness of breath, and chest pains.',\n",
       " 'The vast majority (85%) of cases of lung cancer are due to long-term tobacco smoking. About 10–15% of cases occur in people who have never smoked. These cases are often caused by a combination of genetic factors and exposure to radon gas, asbestos, second-hand smoke, or other forms of air pollution. Lung cancer may be seen on chest radiographs and computed tomography (CT) scans. The diagnosis is confirmed by biopsy, which is usually performed by bronchoscopy or CT-guidance.',\n",
       " \"The major method of prevention is the avoidance of risk factors, including smoking and air pollution. Treatment and long-term outcomes depend on the type of cancer, the stage (degree of spread), and the person's overall health. Most cases are not curable. Common treatments include surgery, chemotherapy, and radiotherapy. NSCLC is sometimes treated with surgery, whereas SCLC usually responds better to chemotherapy and radiotherapy.\",\n",
       " 'Worldwide in 2020, lung cancer occurred in 2.2 million people and resulted in 1.8 million deaths. It is the most common cause of cancer-related death in men and second-most common in women after breast cancer. The most common age at diagnosis is 70 years. In the United States, five-year survival rate is 20.5%, while in Japan it is 41.4%. Outcomes typically are worse in the developing world.']"
      ]
     },
     "execution_count": 28,
     "metadata": {},
     "output_type": "execute_result"
    }
   ],
   "source": [
    "# inspect the data\n",
    "training_data_list"
   ]
  },
  {
   "cell_type": "code",
   "execution_count": 29,
   "id": "ad4aab7c-f458-4b97-bd31-e83256ce3e88",
   "metadata": {},
   "outputs": [],
   "source": [
    "# create a builder\n",
    "vocab_builder = VocabBuilder()"
   ]
  },
  {
   "cell_type": "code",
   "execution_count": 30,
   "id": "bae27daf-d2a3-451f-a07d-834b25012109",
   "metadata": {},
   "outputs": [],
   "source": [
    "# create the new vocab\n",
    "vocab = vocab_builder.create_new_vocab(\n",
    "    training_data_list=training_data_list,\n",
    "    cdb=cdb,\n",
    "    config=cdb.config\n",
    ")"
   ]
  },
  {
   "cell_type": "code",
   "execution_count": 31,
   "id": "6ad326af-4f2c-44ad-a865-88a5545c82ad",
   "metadata": {
    "tags": []
   },
   "outputs": [
    {
     "data": {
      "text/plain": [
       "dict_keys(['lung', 'cancer', 'also', 'known', 'as', 'bronchial', 'carcinoma', 'since', 'about', '98', '99', 'of', 'all', 'cancers', 'are', 'carcinomas', 'is', 'a', 'malignant', 'tumor', 'characterized', 'by', 'uncontrolled', 'cell', 'growth', 'in', 'tissues', 'the', 'derive', 'from', 'transformed', 'cells', 'that', 'originate', 'epithelial', 'or', 'composed', 'other', 'such', 'rare', 'sarcomas', 'generated', 'transformation', 'connective', 'i', 'e', 'nerve', 'fat', 'muscle', 'bone', 'which', 'arise', 'mesenchymal', 'lymphomas', 'and', 'melanomas', 'lymphoid', 'melanocyte', 'lineages', 'can', 'rarely', 'result', 'time', 'this', 'spread', 'beyond', 'either', 'direct', 'extension', 'entering', 'lymphatic', 'circulation', 'via', 'hematogenous', 'bloodborne', 'process', 'called', 'metastasis', 'into', 'nearby', 'tissue', 'more', 'distant', 'parts', 'body', 'most', 'start', 'primary', 'two', 'main', 'types', 'small', 'sclc', 'non', 'nsclc', 'common', 'symptoms', 'coughing', 'including', 'up', 'blood', 'weight', 'loss', 'shortness', 'breath', 'chest', 'pains', 'vast', 'majority', '85', 'cases', 'due', 'to', 'long', 'term', 'tobacco', 'smoking', '10', '15', 'occur', 'people', 'who', 'have', 'never', 'smoked', 'these', 'often', 'caused', 'combination', 'genetic', 'factors', 'exposure', 'radon', 'gas', 'asbestos', 'second', 'hand', 'smoke', 'forms', 'air', 'pollution', 'may', 'be', 'seen', 'on', 'radiographs', 'computed', 'tomography', 'ct', 'scans', 'diagnosis', 'confirmed', 'biopsy', 'usually', 'performed', 'bronchoscopy', 'guidance', 'major', 'method', 'prevention', 'avoidance', 'risk', 'treatment', 'outcomes', 'depend', 'type', 'stage', 'degree', 'person', 's', 'overall', 'health', 'not', 'curable', 'treatments', 'include', 'surgery', 'chemotherapy', 'radiotherapy', 'sometimes', 'treated', 'with', 'whereas', 'responds', 'better', 'worldwide', '2020', 'occurred', '2', 'million', 'resulted', '1', '8', 'deaths', 'it', 'cause', 'related', 'death', 'men', 'women', 'after', 'breast', 'age', 'at', '70', 'years', 'united', 'states', 'five', 'year', 'survival', 'rate', '20', '5', 'while', 'japan', '41', '4', 'typically', 'worse', 'developing', 'world', 'acetaminophen', '500mg', 'oral', 'tablet', 'paracetamol', 'ibuprofen', '200mg', 'penicillin', 'coconut', 'metformin', 'hydrochloride', 'peanut', 'butter', 'rash', 'complaining', 'facial', 'swelling', 'depression', 'symptom', 'depressive'])"
      ]
     },
     "execution_count": 31,
     "metadata": {},
     "output_type": "execute_result"
    }
   ],
   "source": [
    "# inspect the vocab\n",
    "vocab.vocab.keys()"
   ]
  },
  {
   "cell_type": "markdown",
   "id": "2d4c58f4-cc9d-498a-97b3-4454078e4c41",
   "metadata": {},
   "source": [
    "#### **Create a model pack**"
   ]
  },
  {
   "cell_type": "code",
   "execution_count": 32,
   "id": "775bf2fa-97c9-40f9-9fe3-76520471185a",
   "metadata": {},
   "outputs": [],
   "source": [
    "# saves the model pack into .zip with the vocab and cdb we just created - this is what we load into miade\n",
    "vocab_builder.make_model_pack(cdb=cdb, save_name=\"miade_example\")"
   ]
  },
  {
   "cell_type": "markdown",
   "id": "f7eccbf7-0b85-47f3-b370-c166c44f84ae",
   "metadata": {},
   "source": [
    "#### Run training from script (best used in command line)\n",
    "\n",
    "MiADE provides scripts for automatically building MedCAT model packs, unsupervised training, supervised training steps, and the creation and training of MetaCAT models. \n",
    "\n",
    "The ```--synthetic-data-path``` option allows you to add synthetically generated training data in CSV format to the supervised and MetaCAT training steps. The CSV should have the following format:\n",
    "\n",
    "| text                          | cui               | name                       | start | end | relevance | presence  | laterality |\n",
    "| ----------------------------- | ----------------- | -------------------------- | ----- | --- | --------- | --------- | -------------------- |\n",
    "| no history of liver failure | 59927004 | hepatic failure      | 14     | 26  | historic  | negated | none                 "
   ]
  },
  {
   "cell_type": "code",
   "execution_count": null,
   "id": "d28831af-8235-4e70-a663-aa329d5966e0",
   "metadata": {},
   "outputs": [],
   "source": [
    "# Path to MedCAT model pack to use for training\n",
    "MODEL_PACK_PATH = \"\"\n",
    "\n",
    "# Path to MedCATTrainer JSON export (annotations)\n",
    "MEDCAT_JSON_EXPORT = \"\"\n",
    "\n",
    "# Path to synthetic data in CSV format\n",
    "SYNTHETIC_CSV_PATH = \"\"\n",
    "\n",
    "# Path to the tokenizer to use for MetaCAT model training\n",
    "TOKENIZER_PATH = \"\"\n",
    "\n",
    "# List of category names for MetaCAT e.g. presence, relevance - will create MetaCAT folders in the format \"meta_$CATEGORY_NAME\"\n",
    "CATEGORY_NAMES = []\n",
    "\n",
    "# Path to the MetaCAT model folders to train\n",
    "METACAT_MODL_PATH = \"\""
   ]
  },
  {
   "cell_type": "code",
   "execution_count": null,
   "id": "eb02cd8c-da8e-403b-ac41-a039419e3969",
   "metadata": {},
   "outputs": [],
   "source": [
    "# Trains unsupervised training step of MedCAT model\n",
    "!miade train $MODEL_PACK_PATH $TEXT_DATA_PATH --tag \"miade-example\""
   ]
  },
  {
   "cell_type": "code",
   "execution_count": null,
   "id": "568d20fa-94b5-424d-b087-0f6f859a75e9",
   "metadata": {},
   "outputs": [],
   "source": [
    "# Trains supervised training step of MedCAT model\n",
    "!miade train-supervised $MODEL_PACK_PATH $MEDCAT_JSON_EXPORT --synthetic-data-path $SYNTHETIC_CSV_PATH"
   ]
  },
  {
   "cell_type": "code",
   "execution_count": null,
   "id": "10dba7a1-0387-4808-ae42-52d14601a791",
   "metadata": {
    "tags": []
   },
   "outputs": [],
   "source": [
    "# Creates BBPE tokenizer for MetaCAT\n",
    "!miade create-bbpe-tokenizer $TEXT_DATA_PATH"
   ]
  },
  {
   "cell_type": "code",
   "execution_count": null,
   "id": "23b2392e-2050-44e7-90c8-9984b3489f46",
   "metadata": {},
   "outputs": [],
   "source": [
    "# Initialises MetaCAT models to do training on\n",
    "!miade create-metacats $TOKENIZER_PATH $CATEGORY_NAMES"
   ]
  },
  {
   "cell_type": "code",
   "execution_count": null,
   "id": "23a93d49-2b86-468c-a924-8b97ec989c6b",
   "metadata": {},
   "outputs": [],
   "source": [
    "# Trains the MetaCAT Bi-LSTM models\n",
    "!miade train-metacats $METACAT_MODEL_PATH $MEDCAT_JSON_EXPORT --synthetic-data-path $SYNTHETIC_CSV_PATH"
   ]
  },
  {
   "cell_type": "code",
   "execution_count": null,
   "id": "07a05fa1-f6de-4026-b0b8-5d2c5f0dd031",
   "metadata": {},
   "outputs": [],
   "source": [
    "# Packages MetaCAT models with the main MedCAT model pack\n",
    "!miade add_metacat_models $MODEL_PACK_PATH $METACAT_MODEL_PATH"
   ]
  },
  {
   "cell_type": "markdown",
   "id": "6627ebbb-0845-4e2d-b525-ab7359a51cb9",
   "metadata": {},
   "source": [
    "#### **And more...**\n",
    "\n",
    "[**MiADE training dashboard**](https://github.com/uclh-criu/miade/tree/master/streamlit_app): A streamlit app that allows you to interactively inspect synthetic data and train MetaCAT models"
   ]
  },
  {
   "cell_type": "markdown",
   "id": "1bf95c64-62d4-49e9-9e6b-ad269b3a1c53",
   "metadata": {},
   "source": [
    "### 2.2 Creating custom MiADE annotators\n",
    "\n",
    "We can add custom annotators with more specialised postprocessing steps to MiADE by subclassing Annotator and initialising NoteProcessor with a list of custom annotators.\n",
    "\n",
    "Built-in Annotator pipeline methods include:\n",
    "\n",
    "`preprocess`: performs basic text cleaning and structural information on the note\n",
    "`medcat`: returns MedCAT output as MiADE Concepts\n",
    "`dosage_extractor`: uses the MiADE built-in DosageExtractor to add dosages associated with medication concepts\n",
    "`deduplicator`: filters duplicate concepts in list\n",
    "\n",
    "You must specify the type of concepts your custom annotator returns (see Category), a pipeline processing order, and implement a postprocess() function. An example custom Annotator class might look like this:"
   ]
  },
  {
   "cell_type": "code",
   "execution_count": 33,
   "id": "f033bb29-7e7d-4be2-ab3e-55aae06b365a",
   "metadata": {},
   "outputs": [],
   "source": [
    "from miade.utils.miade_cat import CAT\n",
    "from miade.utils.annotatorconfig import AnnotatorConfig\n",
    "\n",
    "\n",
    "class CustomAnnotator(Annotator):\n",
    "    def __init__(self, cat: CAT, config: AnnotatorConfig):\n",
    "        super().__init__(cat, config)\n",
    "        self.reactions = [\"271807003\"]\n",
    "        self.allergens = [\"764146007\"]\n",
    "\n",
    "    @property\n",
    "    def concept_types(self) -> List[Category]:\n",
    "        return [Category.MEDICATION, Category.ALLERGY]\n",
    "\n",
    "    @property\n",
    "    def pipeline(self) -> List[str]:\n",
    "        return [\"preprocessor\", \"medcat\", \"postprocessor\", \"dosage_extractor\", \"deduplicator\"]\n",
    "\n",
    "    def postprocess(self, concepts: List[Concept]) -> List[Concept]:\n",
    "        # some example post-processing code\n",
    "        for concept in concepts:\n",
    "            if concept.id in self.reactions:\n",
    "                concept.category = Category.REACTION\n",
    "            elif concept.id in self.allergens:\n",
    "                concept.category = Category.ALLERGY\n",
    "        return concepts"
   ]
  },
  {
   "cell_type": "markdown",
   "id": "090da618-1761-4a15-886e-dffea965a0f0",
   "metadata": {},
   "source": [
    "Don't forget to add the custom annotator to `config.yaml`\n",
    "```\n",
    "models:\n",
    "  problems: f25ec9423958e8d6\n",
    "  meds/allergies: a146c741501cf1f7\n",
    "  custom: a146c741501cf1f7\n",
    "annotators:\n",
    "  problems: ProblemsAnnotator\n",
    "  meds/allergies: MedsAllergiesAnnotator\n",
    "  custom: CustomAnnotator\n",
    " ```"
   ]
  },
  {
   "cell_type": "code",
   "execution_count": 34,
   "id": "9a6010c7-b4f1-42f3-8b98-a8819de9ef8f",
   "metadata": {
    "collapsed": true,
    "jupyter": {
     "outputs_hidden": true
    },
    "scrolled": true
   },
   "outputs": [
    {
     "name": "stderr",
     "output_type": "stream",
     "text": [
      "[2024-08-29 15:53:42,790] [INFO] miade.core._load_config(): Found config file models/config.yaml\n",
      "[2024-08-29 15:53:42,792] [INFO] miade.core._load_model_factory(): Loading MedCAT models from models\n",
      "/Library/Frameworks/Python.framework/Versions/3.11/lib/python3.11/site-packages/medcat/meta_cat.py:356: FutureWarning: You are using `torch.load` with `weights_only=False` (the current default value), which uses the default pickle module implicitly. It is possible to construct malicious pickle data which will execute arbitrary code during unpickling (See https://github.com/pytorch/pytorch/blob/main/SECURITY.md#untrusted-models for more details). In a future release, the default value for `weights_only` will be flipped to `True`. This limits the functions that could be executed during unpickling. Arbitrary objects will no longer be allowed to be loaded via this mode unless they are explicitly allowlisted by the user via `torch.serialization.add_safe_globals`. We recommend you start setting `weights_only=True` for any use case where you don't have full control of the loaded file. Please open an issue on GitHub for any issues related to this experimental feature.\n",
      "  meta_cat.model.load_state_dict(torch.load(model_save_path, map_location=device))\n",
      "/Library/Frameworks/Python.framework/Versions/3.11/lib/python3.11/site-packages/spacy/util.py:877: UserWarning: [W095] Model 'en_core_web_md' (3.1.0) was trained with spaCy v3.1 and may not be 100% compatible with the current version (3.4.4). If you see errors or degraded performance, download a newer compatible model or retrain your custom model with the current spaCy version. For more details and available updates, run: python -m spacy validate\n",
      "  warnings.warn(warn_msg)\n",
      "[2024-08-29 15:53:56,488] [WARNING] miade.core._load_model_factory(): No general settings configured, using default settings.\n",
      "[2024-08-29 15:53:57,591] [INFO] miade.dosageextractor._create_drugdoseade_pipeline(): Loaded drug dosage extractor with model en_core_med7_lg\n"
     ]
    }
   ],
   "source": [
    "# pass custom annotator to miade\n",
    "miade = NoteProcessor(Path(MODEL_DIR), custom_annotators=[CustomAnnotator])"
   ]
  },
  {
   "cell_type": "code",
   "execution_count": 35,
   "id": "55269b65-ff2a-47f5-b2af-9488429ef8f6",
   "metadata": {},
   "outputs": [
    {
     "name": "stderr",
     "output_type": "stream",
     "text": [
      "[2024-08-29 15:53:57,671] [INFO] miade.annotators._load_problems_lookup_data(): Loading preconfigured lookup data for ProblemsAnnotator\n",
      "[2024-08-29 15:53:57,681] [INFO] miade.core.add_annotator(): Added ProblemsAnnotator to processor with config None\n"
     ]
    }
   ],
   "source": [
    "miade.add_annotator(\"problems\")"
   ]
  },
  {
   "cell_type": "code",
   "execution_count": 36,
   "id": "e2773153-0f76-4d5c-b641-70a7862976cb",
   "metadata": {},
   "outputs": [
    {
     "name": "stderr",
     "output_type": "stream",
     "text": [
      "[2024-08-29 15:53:57,689] [INFO] miade.core.add_annotator(): Added CustomAnnotator to processor with config None\n"
     ]
    }
   ],
   "source": [
    "miade.add_annotator(\"custom\")"
   ]
  },
  {
   "cell_type": "code",
   "execution_count": 37,
   "id": "915d4c64-81e9-431b-b579-ae1d8704007f",
   "metadata": {},
   "outputs": [
    {
     "data": {
      "text/plain": [
       "[{'name': 'heart failure (suspected)',\n",
       "  'id': '394887005',\n",
       "  'category': 'PROBLEM',\n",
       "  'start': 11,\n",
       "  'end': 24,\n",
       "  'dosage': None,\n",
       "  'linked_concepts': [],\n",
       "  'negex': False,\n",
       "  'meta': [{'name': 'presence',\n",
       "    'value': 'SUSPECTED',\n",
       "    'confidence': 0.9998881816864014},\n",
       "   {'name': 'relevance', 'value': 'PRESENT', 'confidence': 0.999954104423523}],\n",
       "  'debug': None},\n",
       " {'name': 'hypothyroidism',\n",
       "  'id': '40930008',\n",
       "  'category': 'PROBLEM',\n",
       "  'start': 46,\n",
       "  'end': 60,\n",
       "  'dosage': None,\n",
       "  'linked_concepts': [],\n",
       "  'negex': False,\n",
       "  'meta': [{'name': 'presence',\n",
       "    'value': 'CONFIRMED',\n",
       "    'confidence': 0.999984622001648},\n",
       "   {'name': 'relevance',\n",
       "    'value': 'HISTORIC',\n",
       "    'confidence': 0.999841570854187}],\n",
       "  'debug': None},\n",
       " {'name': 'swollen ankles',\n",
       "  'id': '267039000',\n",
       "  'category': 'PROBLEM',\n",
       "  'start': 219,\n",
       "  'end': 233,\n",
       "  'dosage': None,\n",
       "  'linked_concepts': [],\n",
       "  'negex': False,\n",
       "  'meta': [{'name': 'presence',\n",
       "    'value': 'CONFIRMED',\n",
       "    'confidence': 0.9856405258178711},\n",
       "   {'name': 'relevance',\n",
       "    'value': 'PRESENT',\n",
       "    'confidence': 0.9999951124191284}],\n",
       "  'debug': None},\n",
       " {'name': 'shortness of breath',\n",
       "  'id': '267036007',\n",
       "  'category': 'PROBLEM',\n",
       "  'start': 238,\n",
       "  'end': 257,\n",
       "  'dosage': None,\n",
       "  'linked_concepts': [],\n",
       "  'negex': False,\n",
       "  'meta': [{'name': 'presence',\n",
       "    'value': 'CONFIRMED',\n",
       "    'confidence': 0.9906362891197205},\n",
       "   {'name': 'relevance',\n",
       "    'value': 'PRESENT',\n",
       "    'confidence': 0.9999895095825195}],\n",
       "  'debug': None},\n",
       " {'name': 'Losartan',\n",
       "  'id': '96309000',\n",
       "  'category': 'MEDICATION',\n",
       "  'start': 91,\n",
       "  'end': 99,\n",
       "  'dosage': {'dose': {'source': '100 mg',\n",
       "    'value': 100.0,\n",
       "    'unit': 'mg',\n",
       "    'low': None,\n",
       "    'high': None},\n",
       "   'duration': None,\n",
       "   'frequency': {'source': 'start 100 mg every day ',\n",
       "    'value': 1.0,\n",
       "    'unit': 'd',\n",
       "    'low': None,\n",
       "    'high': None,\n",
       "    'standardDeviation': None,\n",
       "    'institutionSpecified': False,\n",
       "    'preconditionAsRequired': False},\n",
       "   'route': None},\n",
       "  'linked_concepts': [],\n",
       "  'negex': False,\n",
       "  'meta': None,\n",
       "  'debug': None},\n",
       " {'name': 'Atorvastatin',\n",
       "  'id': '108600003',\n",
       "  'category': 'MEDICATION',\n",
       "  'start': 112,\n",
       "  'end': 124,\n",
       "  'dosage': {'dose': {'source': '20 mg',\n",
       "    'value': 20.0,\n",
       "    'unit': 'mg',\n",
       "    'low': None,\n",
       "    'high': None},\n",
       "   'duration': None,\n",
       "   'frequency': {'source': 'start 20 mg every day ',\n",
       "    'value': 1.0,\n",
       "    'unit': 'd',\n",
       "    'low': None,\n",
       "    'high': None,\n",
       "    'standardDeviation': None,\n",
       "    'institutionSpecified': False,\n",
       "    'preconditionAsRequired': False},\n",
       "   'route': None},\n",
       "  'linked_concepts': [],\n",
       "  'negex': False,\n",
       "  'meta': None,\n",
       "  'debug': None},\n",
       " {'name': 'Paracetamol 500mg tablets',\n",
       "  'id': '322236009',\n",
       "  'category': 'MEDICATION',\n",
       "  'start': 136,\n",
       "  'end': 161,\n",
       "  'dosage': {'dose': {'source': '2 tab',\n",
       "    'value': 2.0,\n",
       "    'unit': '{tbl}',\n",
       "    'low': None,\n",
       "    'high': None},\n",
       "   'duration': None,\n",
       "   'frequency': {'source': 'start 2 tab 4 times day when needed ',\n",
       "    'value': 0.25,\n",
       "    'unit': 'd',\n",
       "    'low': None,\n",
       "    'high': None,\n",
       "    'standardDeviation': None,\n",
       "    'institutionSpecified': True,\n",
       "    'preconditionAsRequired': True},\n",
       "   'route': None},\n",
       "  'linked_concepts': [],\n",
       "  'negex': False,\n",
       "  'meta': None,\n",
       "  'debug': None},\n",
       " {'name': 'Penicillin',\n",
       "  'id': '764146007',\n",
       "  'category': 'ALLERGY',\n",
       "  'start': 188,\n",
       "  'end': 198,\n",
       "  'dosage': None,\n",
       "  'linked_concepts': [],\n",
       "  'negex': False,\n",
       "  'meta': None,\n",
       "  'debug': None},\n",
       " {'name': 'rash',\n",
       "  'id': '271807003',\n",
       "  'category': 'REACTION',\n",
       "  'start': 199,\n",
       "  'end': 203,\n",
       "  'dosage': None,\n",
       "  'linked_concepts': [],\n",
       "  'negex': False,\n",
       "  'meta': None,\n",
       "  'debug': None}]"
      ]
     },
     "execution_count": 37,
     "metadata": {},
     "output_type": "execute_result"
    }
   ],
   "source": [
    "miade.get_concept_dicts(note)"
   ]
  },
  {
   "cell_type": "code",
   "execution_count": 38,
   "id": "a84232da-550d-4ecd-89db-d09f531c6b5a",
   "metadata": {},
   "outputs": [
    {
     "name": "stdout",
     "output_type": "stream",
     "text": [
      "{name: Penicillin, id: 764146007, category: Category.ALLERGY, start: 188, end: 198, dosage: None, linked_concepts: [], negex: False, meta: None} \n",
      "{name: rash, id: 271807003, category: Category.REACTION, start: 199, end: 203, dosage: None, linked_concepts: [], negex: False, meta: None} \n"
     ]
    }
   ],
   "source": [
    "# or we can use .process() to get the Concept objects directly\n",
    "concepts = miade.process(note)\n",
    "for concept in concepts:\n",
    "    if concept.category == Category.ALLERGY or concept.category == Category.REACTION:\n",
    "        print(concept)"
   ]
  },
  {
   "cell_type": "markdown",
   "id": "ae4097a7-de8e-47c6-836d-6ae8e9eb6df1",
   "metadata": {},
   "source": [
    "### 3.3 Configurations\n",
    "\n",
    "For more information on MiADE configurations, including using custom lookup tables for postprocessing, see [Documentation page](https://uclh-criu.github.io/miade/user-guide/configurations/)"
   ]
  },
  {
   "cell_type": "markdown",
   "id": "08d3ff44-65cc-481e-95d6-9c8232a01301",
   "metadata": {},
   "source": [
    "## End of tutorial\n"
   ]
  }
 ],
 "metadata": {
  "kernelspec": {
   "display_name": "Python 3 (ipykernel)",
   "language": "python",
   "name": "python3"
  },
  "language_info": {
   "codemirror_mode": {
    "name": "ipython",
    "version": 3
   },
   "file_extension": ".py",
   "mimetype": "text/x-python",
   "name": "python",
   "nbconvert_exporter": "python",
   "pygments_lexer": "ipython3",
   "version": "3.11.0"
  }
 },
 "nbformat": 4,
 "nbformat_minor": 5
}
