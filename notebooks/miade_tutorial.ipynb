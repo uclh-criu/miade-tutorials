{
 "cells": [
  {
   "cell_type": "markdown",
   "id": "d8c72863-82f3-4775-8b8b-445925e215bd",
   "metadata": {},
   "source": [
    "# HealTAC 2023: MiADE (Medical information AI Data Extractor) Tutorial Demo"
   ]
  },
  {
   "cell_type": "code",
   "execution_count": null,
   "id": "f4c6179b-be0b-401f-8d6c-ee400a1e177a",
   "metadata": {},
   "outputs": [],
   "source": []
  },
  {
   "cell_type": "code",
   "execution_count": 1,
   "id": "d2a51853-dccd-45a1-8b2b-dea696454904",
   "metadata": {},
   "outputs": [
    {
     "name": "stderr",
     "output_type": "stream",
     "text": [
      "/home/jennifer/Documents/miade/src/miade/utils/miade_cat.py:8: TqdmExperimentalWarning: Using `tqdm.autonotebook.tqdm` in notebook mode. Use `tqdm.tqdm` instead to force console mode (e.g. in jupyter console)\n",
      "  from tqdm.autonotebook import tqdm, trange\n"
     ]
    }
   ],
   "source": [
    "from pathlib import Path\n",
    "from typing import List, Dict, Optional\n",
    "\n",
    "from miade.core import NoteProcessor\n",
    "from miade.note import Note\n",
    "from miade.annotators import Annotator\n",
    "from miade.concept import Concept, Category\n",
    "from miade.dosageextractor import DosageExtractor\n",
    "from miade.utils.miade_cat import MiADE_CAT"
   ]
  },
  {
   "cell_type": "code",
   "execution_count": 2,
   "id": "5598b577-ac36-443c-8f3b-daae20bf3fe1",
   "metadata": {},
   "outputs": [],
   "source": [
    "MODEL_DIRECTORY = \"../dev_models/current/\""
   ]
  },
  {
   "cell_type": "markdown",
   "id": "a2ad8d26-f859-450c-b92a-eb14e9bd9911",
   "metadata": {},
   "source": [
    "## Part 1: Extracting concepts and dosages from notes using the full MiADE pipeline"
   ]
  },
  {
   "cell_type": "markdown",
   "id": "bba12e0f-680a-48a4-9115-319c9c63de9b",
   "metadata": {
    "tags": []
   },
   "source": [
    "### Configuring the MiADE processor"
   ]
  },
  {
   "cell_type": "markdown",
   "id": "e1e57990-a268-4f8e-b55a-0ebb82581900",
   "metadata": {},
   "source": [
    "```NoteProcessor``` is the MiADE core. It is initialised with a model directory path that contains all the MedCAT model zips we would like to use in our pipeline, and a config.yaml file that maps an alias to the model IDs and annotators we would like to use:\n",
    "\n",
    "```\n",
    "models:\n",
    "  problems: af37e525e37cdb1a\n",
    "  medications: a146c741501cf1f7\n",
    "annotators:\n",
    "  problems: ProblemsAnnotator\n",
    "  medications: MedsAllergiesAnnotator\n",
    " ```"
   ]
  },
  {
   "cell_type": "code",
   "execution_count": 7,
   "id": "2670b0d3-ef83-4eb2-bb71-f903b75cb411",
   "metadata": {},
   "outputs": [
    {
     "name": "stderr",
     "output_type": "stream",
     "text": [
      "[2023-06-09 16:17:01,921] [INFO] miade.core: Found config file ../dev_models/current/config.yaml\n",
      "[2023-06-09 16:17:01,923] [INFO] miade.core: Loading MedCAT models from ../dev_models/current\n",
      "/home/jennifer/Documents/miade/venv/lib/python3.8/site-packages/spacy/util.py:877: UserWarning: [W095] Model 'en_core_web_md' (3.1.0) was trained with spaCy v3.1 and may not be 100% compatible with the current version (3.4.4). If you see errors or degraded performance, download a newer compatible model or retrain your custom model with the current spaCy version. For more details and available updates, run: python -m spacy validate\n",
      "  warnings.warn(warn_msg)\n",
      "[2023-06-09 16:17:09,403] [WARNING] miade.core: CustomAnnotator not found: module 'miade.core' has no attribute 'CustomAnnotator'\n",
      "[2023-06-09 16:17:10,241] [INFO] miade.dosageextractor: Loaded drug dosage extractor with model en_core_med7_lg\n"
     ]
    }
   ],
   "source": [
    "miade = NoteProcessor(Path(MODEL_DIRECTORY))"
   ]
  },
  {
   "cell_type": "markdown",
   "id": "3d7f3594-c925-4fa5-b511-4408c8d94c7e",
   "metadata": {},
   "source": [
    "Once ```NoteProcessor``` is initialised, we can add annotators by the aliases we have specified in ```config.yaml``` to our processor. \n",
    "\n",
    "When adding annotators, we have the option to add [NegSpacy](https://spacy.io/universe/project/negspacy) to the MedCAT spaCy pipeline, which implements the NegEx algorithm for negation detection. This allows the models to perform simple rule-based negation detection in the absence of MetaCAT models."
   ]
  },
  {
   "cell_type": "code",
   "execution_count": 8,
   "id": "23735816-b17e-4d81-a2ad-577ce54c3a1b",
   "metadata": {},
   "outputs": [
    {
     "name": "stderr",
     "output_type": "stream",
     "text": [
      "[2023-06-09 16:17:32,645] [INFO] miade.core: Added ProblemsAnnotator to processor\n",
      "[2023-06-09 16:17:32,653] [INFO] miade.core: Added Negex context detection for ProblemsAnnotator\n"
     ]
    }
   ],
   "source": [
    "miade.add_annotator(\"problems\", use_negex=True)"
   ]
  },
  {
   "cell_type": "code",
   "execution_count": 5,
   "id": "939f914a-fdb3-4013-81af-9612e5ae48dd",
   "metadata": {},
   "outputs": [
    {
     "name": "stderr",
     "output_type": "stream",
     "text": [
      "[2023-06-09 14:53:56,196] [INFO] miade.core: Added MedsAllergiesAnnotator to processor\n"
     ]
    }
   ],
   "source": [
    "miade.add_annotator(\"meds/allergies\")"
   ]
  },
  {
   "cell_type": "code",
   "execution_count": 6,
   "id": "0f72e134-39f3-4d08-8741-d67ca5acf872",
   "metadata": {},
   "outputs": [
    {
     "name": "stdout",
     "output_type": "stream",
     "text": [
      "ProblemsAnnotator: {\n",
      "  \"Model ID\": \"af37e525e37cdb1a\",\n",
      "  \"Last Modified On\": \"13 December 2022\",\n",
      "  \"History (from least to most recent)\": [\n",
      "    \"0b130195e6964e66\",\n",
      "    \"353abfe8f57e2009\"\n",
      "  ],\n",
      "  \"Description\": \"MiADE problems development model unsupervised trained on MIMIC-III. cdb: full_condition_list_MedCAT_cdb.csv; vocab: medcat model 811218c0b819c304 (feb 2022)\",\n",
      "  \"Source Ontology\": \"SNOMEDUK_May2022 MiADE subset\",\n",
      "  \"Location\": \"gae03:gae/miade/models/problems/, miade-dev:vol/models/problems/\",\n",
      "  \"MetaCAT models\": {},\n",
      "  \"Basic CDB Stats\": {\n",
      "    \"Number of concepts\": 118431,\n",
      "    \"Number of names\": 561230,\n",
      "    \"Number of concepts that received training\": 13256,\n",
      "    \"Number of seen training examples in total\": 12247485,\n",
      "    \"Average training examples per concept\": 923.9201116475558\n",
      "  },\n",
      "  \"Performance\": {\n",
      "    \"ner\": {},\n",
      "    \"meta\": {}\n",
      "  },\n",
      "  \"Important Parameters (Partial view, all available in cat.config)\": {\n",
      "    \"config.ner.min_name_len\": {\n",
      "      \"value\": 3,\n",
      "      \"description\": \"Minimum detection length (found terms/mentions shorter than this will not be detected).\"\n",
      "    },\n",
      "    \"config.ner.upper_case_limit_len\": {\n",
      "      \"value\": 4,\n",
      "      \"description\": \"All detected terms shorter than this value have to be uppercase, otherwise they will be ignored.\"\n",
      "    },\n",
      "    \"config.linking.similarity_threshold\": {\n",
      "      \"value\": 0.25,\n",
      "      \"description\": \"If the confidence of the model is lower than this a detection will be ignore.\"\n",
      "    },\n",
      "    \"config.linking.filters.cuis\": {\n",
      "      \"value\": 0,\n",
      "      \"description\": \"Length of the CUIs filter to be included in outputs. If this is not 0 (i.e. not empty) its best to check what is included before using the model\"\n",
      "    },\n",
      "    \"config.general.spell_check\": {\n",
      "      \"value\": true,\n",
      "      \"description\": \"Is spell checking enabled.\"\n",
      "    },\n",
      "    \"config.general.spell_check_len_limit\": {\n",
      "      \"value\": 7,\n",
      "      \"description\": \"Words shorter than this will not be spell checked.\"\n",
      "    }\n",
      "  },\n",
      "  \"MedCAT Version\": \"1.2.8\"\n",
      "}\n",
      "MedsAllergiesAnnotator: {\n",
      "  \"Model ID\": \"a146c741501cf1f7\",\n",
      "  \"Last Modified On\": \"12 December 2022\",\n",
      "  \"History (from least to most recent)\": [\n",
      "    \"4bb048d67081dd2f\",\n",
      "    \"cd3fa3d09a183585\"\n",
      "  ],\n",
      "  \"Description\": \"Unsupervised trained medications and allergies model for development purposes trained on MIMIC-III text. cdb: med_allergy_reaction_MedCAT_cdb.csv; vocab: medcat model 811218c0b819c304 (feb 2022)\",\n",
      "  \"Source Ontology\": \"SNOMEDUK_May2022 MiADE med/allergy/reaction subset\",\n",
      "  \"Location\": \"gae03:gae/miade/models/medications_allergies/, miade-dev:vol/models/medications_allergies/\",\n",
      "  \"MetaCAT models\": {},\n",
      "  \"Basic CDB Stats\": {\n",
      "    \"Number of concepts\": 50357,\n",
      "    \"Number of names\": 91562,\n",
      "    \"Number of concepts that received training\": 5578,\n",
      "    \"Number of seen training examples in total\": 20751737,\n",
      "    \"Average training examples per concept\": 3720.2827178200073\n",
      "  },\n",
      "  \"Performance\": {\n",
      "    \"ner\": {},\n",
      "    \"meta\": {}\n",
      "  },\n",
      "  \"Important Parameters (Partial view, all available in cat.config)\": {\n",
      "    \"config.ner.min_name_len\": {\n",
      "      \"value\": 3,\n",
      "      \"description\": \"Minimum detection length (found terms/mentions shorter than this will not be detected).\"\n",
      "    },\n",
      "    \"config.ner.upper_case_limit_len\": {\n",
      "      \"value\": 4,\n",
      "      \"description\": \"All detected terms shorter than this value have to be uppercase, otherwise they will be ignored.\"\n",
      "    },\n",
      "    \"config.linking.similarity_threshold\": {\n",
      "      \"value\": 0.25,\n",
      "      \"description\": \"If the confidence of the model is lower than this a detection will be ignore.\"\n",
      "    },\n",
      "    \"config.linking.filters.cuis\": {\n",
      "      \"value\": 0,\n",
      "      \"description\": \"Length of the CUIs filter to be included in outputs. If this is not 0 (i.e. not empty) its best to check what is included before using the model\"\n",
      "    },\n",
      "    \"config.general.spell_check\": {\n",
      "      \"value\": true,\n",
      "      \"description\": \"Is spell checking enabled.\"\n",
      "    },\n",
      "    \"config.general.spell_check_len_limit\": {\n",
      "      \"value\": 7,\n",
      "      \"description\": \"Words shorter than this will not be spell checked.\"\n",
      "    }\n",
      "  },\n",
      "  \"MedCAT Version\": \"1.2.8\"\n",
      "}\n"
     ]
    }
   ],
   "source": [
    "# print the MedCAT model cards to check that it's been mapped to the correct annotators\n",
    "miade.print_model_cards()"
   ]
  },
  {
   "cell_type": "markdown",
   "id": "c6c73e0c-8c1e-430f-b337-dee930759a60",
   "metadata": {},
   "source": [
    "### Creating a Note"
   ]
  },
  {
   "cell_type": "markdown",
   "id": "fdea82fd-bb79-4a3b-91d9-5944d950ff4c",
   "metadata": {},
   "source": [
    "Next we will create a ```Note``` object which contains the text we would like to extract concepts and dosages from"
   ]
  },
  {
   "cell_type": "code",
   "execution_count": 8,
   "id": "2b8ca3a2-6a1d-4c40-9683-7b6213af568b",
   "metadata": {},
   "outputs": [],
   "source": [
    "text = \"\"\"Suspected heart failure\n",
    "\n",
    "Previous medical hist:\n",
    "myocardial infarction\n",
    "Hypothyroidism\n",
    "\n",
    "Current meds:\n",
    "Losartan 100mg daily\n",
    "Atorvastatin 20mg daily\n",
    "Paracetamol 500mg tablets 2 tabs qds prn\n",
    "\n",
    "Allergies:\n",
    "Penicillin - rash\n",
    "\n",
    "Referred with swollen ankles and shortness of breath since 2 weeks.\"\"\""
   ]
  },
  {
   "cell_type": "code",
   "execution_count": 9,
   "id": "bfe6ef2d-e658-4528-995c-c993a0437f46",
   "metadata": {},
   "outputs": [],
   "source": [
    "note = Note(text)"
   ]
  },
  {
   "cell_type": "markdown",
   "id": "5d2b0c86-9844-45ca-8c0d-06ec61e76aa8",
   "metadata": {},
   "source": [
    "### Extracting concepts and dosages"
   ]
  },
  {
   "cell_type": "code",
   "execution_count": 10,
   "id": "8191f315-b6b3-442e-920b-9614a8a044ef",
   "metadata": {},
   "outputs": [],
   "source": [
    "concepts = miade.get_concept_dicts(note, filter_uncategorized=True)"
   ]
  },
  {
   "cell_type": "code",
   "execution_count": 11,
   "id": "0c586127-d875-451c-8b67-76fa2e45db89",
   "metadata": {},
   "outputs": [
    {
     "data": {
      "text/plain": [
       "[{'name': 'hypothyroidism',\n",
       "  'id': '40930008',\n",
       "  'category': 'PROBLEM',\n",
       "  'start': 46,\n",
       "  'end': 60,\n",
       "  'dosage': None,\n",
       "  'negex': False,\n",
       "  'meta': None,\n",
       "  'debug': None},\n",
       " {'name': 'heart failure',\n",
       "  'id': '84114007',\n",
       "  'category': 'PROBLEM',\n",
       "  'start': 10,\n",
       "  'end': 23,\n",
       "  'dosage': None,\n",
       "  'negex': False,\n",
       "  'meta': None,\n",
       "  'debug': None},\n",
       " {'name': 'dyspnea',\n",
       "  'id': '267036007',\n",
       "  'category': 'PROBLEM',\n",
       "  'start': 226,\n",
       "  'end': 245,\n",
       "  'dosage': None,\n",
       "  'negex': False,\n",
       "  'meta': None,\n",
       "  'debug': None},\n",
       " {'name': 'swollen ankle',\n",
       "  'id': '267039000',\n",
       "  'category': 'PROBLEM',\n",
       "  'start': 207,\n",
       "  'end': 221,\n",
       "  'dosage': None,\n",
       "  'negex': False,\n",
       "  'meta': None,\n",
       "  'debug': None},\n",
       " {'name': 'eruption of skin',\n",
       "  'id': '271807003',\n",
       "  'category': 'PROBLEM',\n",
       "  'start': 187,\n",
       "  'end': 191,\n",
       "  'dosage': None,\n",
       "  'negex': False,\n",
       "  'meta': None,\n",
       "  'debug': None},\n",
       " {'name': 'losartan-containing product',\n",
       "  'id': '96309000',\n",
       "  'category': 'MEDICATION',\n",
       "  'start': 76,\n",
       "  'end': 84,\n",
       "  'dosage': {'dose': {'source': '100 mg',\n",
       "    'value': 100.0,\n",
       "    'unit': 'mg',\n",
       "    'low': None,\n",
       "    'high': None},\n",
       "   'duration': None,\n",
       "   'frequency': {'source': 'start 100 mg every day ',\n",
       "    'value': 1.0,\n",
       "    'unit': 'd',\n",
       "    'low': None,\n",
       "    'high': None,\n",
       "    'standardDeviation': None,\n",
       "    'institutionSpecified': False,\n",
       "    'preconditionAsRequired': False},\n",
       "   'route': None},\n",
       "  'negex': False,\n",
       "  'meta': None,\n",
       "  'debug': None},\n",
       " {'name': 'atorvastatin-containing product',\n",
       "  'id': '108600003',\n",
       "  'category': 'MEDICATION',\n",
       "  'start': 97,\n",
       "  'end': 109,\n",
       "  'dosage': {'dose': {'source': '20 mg',\n",
       "    'value': 20.0,\n",
       "    'unit': 'mg',\n",
       "    'low': None,\n",
       "    'high': None},\n",
       "   'duration': None,\n",
       "   'frequency': {'source': 'start 20 mg every day ',\n",
       "    'value': 1.0,\n",
       "    'unit': 'd',\n",
       "    'low': None,\n",
       "    'high': None,\n",
       "    'standardDeviation': None,\n",
       "    'institutionSpecified': False,\n",
       "    'preconditionAsRequired': False},\n",
       "   'route': None},\n",
       "  'negex': False,\n",
       "  'meta': None,\n",
       "  'debug': None},\n",
       " {'name': 'acetaminophen 500mg oral tablet',\n",
       "  'id': '322236009',\n",
       "  'category': 'MEDICATION',\n",
       "  'start': 121,\n",
       "  'end': 146,\n",
       "  'dosage': {'dose': {'source': '2 tab',\n",
       "    'value': 2.0,\n",
       "    'unit': '{tbl}',\n",
       "    'low': None,\n",
       "    'high': None},\n",
       "   'duration': None,\n",
       "   'frequency': {'source': 'start 2 tab 4 times day when needed ',\n",
       "    'value': 0.25,\n",
       "    'unit': 'd',\n",
       "    'low': None,\n",
       "    'high': None,\n",
       "    'standardDeviation': None,\n",
       "    'institutionSpecified': True,\n",
       "    'preconditionAsRequired': True},\n",
       "   'route': None},\n",
       "  'negex': False,\n",
       "  'meta': None,\n",
       "  'debug': None}]"
      ]
     },
     "execution_count": 11,
     "metadata": {},
     "output_type": "execute_result"
    }
   ],
   "source": [
    "concepts"
   ]
  },
  {
   "cell_type": "markdown",
   "id": "8c2953cb-ce2b-4931-bf9a-cbfa0cfa9ddd",
   "metadata": {},
   "source": [
    "#### Handling existing records - deduplication"
   ]
  },
  {
   "cell_type": "code",
   "execution_count": 12,
   "id": "8a3348f2-4a59-4839-ac62-6f554a3713ad",
   "metadata": {},
   "outputs": [],
   "source": [
    "# create list of concepts that already exists in patient record\n",
    "record_concepts = [\n",
    "    Concept(id=\"40930008\", name=\"hypothyroidism\", category=Category.PROBLEM),\n",
    "    Concept(id=\"267039000\", name=\"swollen ankle\", category=Category.PROBLEM)\n",
    "]"
   ]
  },
  {
   "cell_type": "code",
   "execution_count": 13,
   "id": "a2d62b59-11c2-452e-9c98-714429d3c62a",
   "metadata": {},
   "outputs": [
    {
     "data": {
      "text/plain": [
       "[{'name': 'heart failure',\n",
       "  'id': '84114007',\n",
       "  'category': 'PROBLEM',\n",
       "  'start': 10,\n",
       "  'end': 23,\n",
       "  'dosage': None,\n",
       "  'negex': False,\n",
       "  'meta': None,\n",
       "  'debug': None},\n",
       " {'name': 'dyspnea',\n",
       "  'id': '267036007',\n",
       "  'category': 'PROBLEM',\n",
       "  'start': 226,\n",
       "  'end': 245,\n",
       "  'dosage': None,\n",
       "  'negex': False,\n",
       "  'meta': None,\n",
       "  'debug': None},\n",
       " {'name': 'eruption of skin',\n",
       "  'id': '271807003',\n",
       "  'category': 'PROBLEM',\n",
       "  'start': 187,\n",
       "  'end': 191,\n",
       "  'dosage': None,\n",
       "  'negex': False,\n",
       "  'meta': None,\n",
       "  'debug': None},\n",
       " {'name': 'losartan-containing product',\n",
       "  'id': '96309000',\n",
       "  'category': 'MEDICATION',\n",
       "  'start': 76,\n",
       "  'end': 84,\n",
       "  'dosage': {'dose': {'source': '100 mg',\n",
       "    'value': 100.0,\n",
       "    'unit': 'mg',\n",
       "    'low': None,\n",
       "    'high': None},\n",
       "   'duration': None,\n",
       "   'frequency': {'source': 'start 100 mg every day ',\n",
       "    'value': 1.0,\n",
       "    'unit': 'd',\n",
       "    'low': None,\n",
       "    'high': None,\n",
       "    'standardDeviation': None,\n",
       "    'institutionSpecified': False,\n",
       "    'preconditionAsRequired': False},\n",
       "   'route': None},\n",
       "  'negex': False,\n",
       "  'meta': None,\n",
       "  'debug': None},\n",
       " {'name': 'atorvastatin-containing product',\n",
       "  'id': '108600003',\n",
       "  'category': 'MEDICATION',\n",
       "  'start': 97,\n",
       "  'end': 109,\n",
       "  'dosage': {'dose': {'source': '20 mg',\n",
       "    'value': 20.0,\n",
       "    'unit': 'mg',\n",
       "    'low': None,\n",
       "    'high': None},\n",
       "   'duration': None,\n",
       "   'frequency': {'source': 'start 20 mg every day ',\n",
       "    'value': 1.0,\n",
       "    'unit': 'd',\n",
       "    'low': None,\n",
       "    'high': None,\n",
       "    'standardDeviation': None,\n",
       "    'institutionSpecified': False,\n",
       "    'preconditionAsRequired': False},\n",
       "   'route': None},\n",
       "  'negex': False,\n",
       "  'meta': None,\n",
       "  'debug': None},\n",
       " {'name': 'acetaminophen 500mg oral tablet',\n",
       "  'id': '322236009',\n",
       "  'category': 'MEDICATION',\n",
       "  'start': 121,\n",
       "  'end': 146,\n",
       "  'dosage': {'dose': {'source': '2 tab',\n",
       "    'value': 2.0,\n",
       "    'unit': '{tbl}',\n",
       "    'low': None,\n",
       "    'high': None},\n",
       "   'duration': None,\n",
       "   'frequency': {'source': 'start 2 tab 4 times day when needed ',\n",
       "    'value': 0.25,\n",
       "    'unit': 'd',\n",
       "    'low': None,\n",
       "    'high': None,\n",
       "    'standardDeviation': None,\n",
       "    'institutionSpecified': True,\n",
       "    'preconditionAsRequired': True},\n",
       "   'route': None},\n",
       "  'negex': False,\n",
       "  'meta': None,\n",
       "  'debug': None}]"
      ]
     },
     "execution_count": 13,
     "metadata": {},
     "output_type": "execute_result"
    }
   ],
   "source": [
    "miade.get_concept_dicts(note=note, record_concepts=record_concepts, filter_uncategorized=True)"
   ]
  },
  {
   "cell_type": "markdown",
   "id": "def02399-5cb8-44e3-9484-3130a78f7a7f",
   "metadata": {},
   "source": [
    "#### Removing annotators"
   ]
  },
  {
   "cell_type": "code",
   "execution_count": 14,
   "id": "c423a9f8-1eb4-4a6b-964d-808a6d0d745d",
   "metadata": {},
   "outputs": [
    {
     "name": "stderr",
     "output_type": "stream",
     "text": [
      "[2023-06-09 14:56:39,441] [INFO] miade.core: Removed MedsAllergiesAnnotator from processor\n"
     ]
    }
   ],
   "source": [
    "# we can also remove annotators if no longer wanted\n",
    "miade.remove_annotator(\"meds/allergies\")"
   ]
  },
  {
   "cell_type": "code",
   "execution_count": 15,
   "id": "d7e0c806-917c-45eb-8f39-3e2e17b19230",
   "metadata": {},
   "outputs": [
    {
     "data": {
      "text/plain": [
       "[{'name': 'heart failure',\n",
       "  'id': '84114007',\n",
       "  'category': 'PROBLEM',\n",
       "  'start': 10,\n",
       "  'end': 23,\n",
       "  'dosage': None,\n",
       "  'negex': False,\n",
       "  'meta': None,\n",
       "  'debug': None},\n",
       " {'name': 'dyspnea',\n",
       "  'id': '267036007',\n",
       "  'category': 'PROBLEM',\n",
       "  'start': 226,\n",
       "  'end': 245,\n",
       "  'dosage': None,\n",
       "  'negex': False,\n",
       "  'meta': None,\n",
       "  'debug': None},\n",
       " {'name': 'eruption of skin',\n",
       "  'id': '271807003',\n",
       "  'category': 'PROBLEM',\n",
       "  'start': 187,\n",
       "  'end': 191,\n",
       "  'dosage': None,\n",
       "  'negex': False,\n",
       "  'meta': None,\n",
       "  'debug': None}]"
      ]
     },
     "execution_count": 15,
     "metadata": {},
     "output_type": "execute_result"
    }
   ],
   "source": [
    "miade.get_concept_dicts(note=note, record_concepts=record_concepts)"
   ]
  },
  {
   "cell_type": "markdown",
   "id": "6d003702-eaaf-4d29-a7f5-f2681a4d5205",
   "metadata": {},
   "source": [
    "## Part 2: Customising MiADE"
   ]
  },
  {
   "cell_type": "markdown",
   "id": "3ed03ddb-0033-4335-8a8c-0fd41d410384",
   "metadata": {},
   "source": [
    "### 2.1 Building custom MedCAT models\n",
    "\n",
    "For more information on **MedCAT**:\n",
    "\n",
    "- [Github](https://github.com/CogStack/MedCAT)\n",
    "- [MedCAT Tutorials](https://github.com/CogStack/MedCATtutorials)\n",
    "- [Paper](https://arxiv.org/abs/2010.01165)"
   ]
  },
  {
   "cell_type": "code",
   "execution_count": 13,
   "id": "46df3164-045b-4425-9ddf-9845de908310",
   "metadata": {},
   "outputs": [],
   "source": [
    "from miade.model_builders.cdbbuilder import CDBBuilder\n",
    "from miade.model_builders.vocabbuilder import VocabBuilder"
   ]
  },
  {
   "cell_type": "code",
   "execution_count": 15,
   "id": "216dda13-e763-4283-a31b-58d0b2f5f0b2",
   "metadata": {},
   "outputs": [],
   "source": [
    "CDB_DATA_PATH = \"../dev_models/test_cdb/meds_allergies_cdb.csv\""
   ]
  },
  {
   "cell_type": "code",
   "execution_count": 46,
   "id": "b612c691-b316-4dc9-8663-997a2e12c7bd",
   "metadata": {},
   "outputs": [],
   "source": [
    "TEXT_DATA_PATH = \"../tests/examples/wikipedia_sample.txt\""
   ]
  },
  {
   "cell_type": "markdown",
   "id": "3e9e59e9-c2d2-47df-a3cd-07a876a76ba2",
   "metadata": {},
   "source": [
    "#### Create a CDB (concept databse) builder"
   ]
  },
  {
   "cell_type": "code",
   "execution_count": 22,
   "id": "e7100178-7e3b-4e27-9a1d-339da4dae947",
   "metadata": {},
   "outputs": [],
   "source": [
    "cdbbuilder = CDBBuilder(\n",
    "    temp_dir=(Path.cwd() / Path(\".temp\")),\n",
    "    custom_data_paths=[Path(CDB_DATA_PATH)]\n",
    ")"
   ]
  },
  {
   "cell_type": "code",
   "execution_count": 23,
   "id": "77599dfa-cf0f-457c-9ad8-3214876b50c5",
   "metadata": {},
   "outputs": [],
   "source": [
    "cdbbuilder.preprocess()\n",
    "cdb = cdbbuilder.create_cdb()"
   ]
  },
  {
   "cell_type": "code",
   "execution_count": 52,
   "id": "172d7cfe-9dd4-4a48-a933-4628b268ba73",
   "metadata": {},
   "outputs": [
    {
     "data": {
      "text/plain": [
       "{'acetaminophen': 1,\n",
       " '500mg': 3,\n",
       " 'oral': 4,\n",
       " 'tablet': 4,\n",
       " 'paracetamol': 1,\n",
       " 'ibuprofen': 1,\n",
       " '200mg': 1,\n",
       " 'penicillin': 1,\n",
       " 'coconut': 1,\n",
       " 'metformin': 1,\n",
       " 'hydrochloride': 1,\n",
       " 'peanut': 1,\n",
       " 'butter': 1,\n",
       " 'a': 6,\n",
       " 'rash': 2,\n",
       " 'complaining': 1,\n",
       " 'of': 37,\n",
       " 'facial': 1,\n",
       " 'swelling': 1,\n",
       " 'symptoms': 4,\n",
       " 'depression': 2,\n",
       " 'symptom': 2,\n",
       " 'depressive': 2}"
      ]
     },
     "execution_count": 52,
     "metadata": {},
     "output_type": "execute_result"
    }
   ],
   "source": [
    "cdb.vocab"
   ]
  },
  {
   "cell_type": "markdown",
   "id": "d5741199-e0dd-4084-8ef0-7ffd20807a14",
   "metadata": {},
   "source": [
    "#### Create a Vocab builder"
   ]
  },
  {
   "cell_type": "code",
   "execution_count": 47,
   "id": "6fe90df3-5dd3-4759-bedc-d70bd9d724d4",
   "metadata": {},
   "outputs": [],
   "source": [
    "with open(TEXT_DATA_PATH, \"r\", encoding=\"utf-8\") as training_data:\n",
    "    training_data_list = [line.strip() for line in training_data]"
   ]
  },
  {
   "cell_type": "code",
   "execution_count": 27,
   "id": "dc20d4f0-a9d6-4fd5-b004-a50a7ae03d1c",
   "metadata": {},
   "outputs": [
    {
     "data": {
      "text/plain": [
       "['Lung cancer, also known as bronchial carcinoma, since about 98–99% of all lung cancers are carcinomas, is a malignant lung tumor characterized by uncontrolled cell growth in tissues of the lung. Lung carcinomas derive from transformed, malignant cells that originate as epithelial cells, or from tissues composed of epithelial cells. Other lung cancers, such as the rare sarcomas of the lung, are generated by the malignant transformation of connective tissues (i.e. nerve, fat, muscle, bone), which arise from mesenchymal cells. Lymphomas and melanomas (from lymphoid and melanocyte cell lineages) can also rarely result in lung cancer.',\n",
       " 'In time, this uncontrolled growth can spread beyond the lung – either by direct extension, by entering the lymphatic circulation, or via the hematogenous, bloodborne spread – the process called metastasis – into nearby tissue or other, more distant parts of the body. Most cancers that start in the lung, known as primary lung cancers, are carcinomas. The two main types are small-cell lung carcinoma (SCLC) and non-small-cell lung carcinoma (NSCLC). The most common symptoms are coughing (including coughing up blood), weight loss, shortness of breath, and chest pains.',\n",
       " 'The vast majority (85%) of cases of lung cancer are due to long-term tobacco smoking. About 10–15% of cases occur in people who have never smoked. These cases are often caused by a combination of genetic factors and exposure to radon gas, asbestos, second-hand smoke, or other forms of air pollution. Lung cancer may be seen on chest radiographs and computed tomography (CT) scans. The diagnosis is confirmed by biopsy, which is usually performed by bronchoscopy or CT-guidance.',\n",
       " \"The major method of prevention is the avoidance of risk factors, including smoking and air pollution. Treatment and long-term outcomes depend on the type of cancer, the stage (degree of spread), and the person's overall health. Most cases are not curable. Common treatments include surgery, chemotherapy, and radiotherapy. NSCLC is sometimes treated with surgery, whereas SCLC usually responds better to chemotherapy and radiotherapy.\",\n",
       " 'Worldwide in 2020, lung cancer occurred in 2.2 million people and resulted in 1.8 million deaths. It is the most common cause of cancer-related death in men and second-most common in women after breast cancer. The most common age at diagnosis is 70 years. In the United States, five-year survival rate is 20.5%, while in Japan it is 41.4%. Outcomes typically are worse in the developing world.']"
      ]
     },
     "execution_count": 27,
     "metadata": {},
     "output_type": "execute_result"
    }
   ],
   "source": [
    "training_data_list"
   ]
  },
  {
   "cell_type": "code",
   "execution_count": 42,
   "id": "ad4aab7c-f458-4b97-bd31-e83256ce3e88",
   "metadata": {},
   "outputs": [],
   "source": [
    "vocab_builder = VocabBuilder()"
   ]
  },
  {
   "cell_type": "code",
   "execution_count": 44,
   "id": "bae27daf-d2a3-451f-a07d-834b25012109",
   "metadata": {},
   "outputs": [],
   "source": [
    "vocab = vocab_builder.create_new_vocab(\n",
    "    training_data_list=training_data_list,\n",
    "    cdb=cdb,\n",
    "    config=cdb.config\n",
    ")"
   ]
  },
  {
   "cell_type": "code",
   "execution_count": 57,
   "id": "6ad326af-4f2c-44ad-a865-88a5545c82ad",
   "metadata": {
    "tags": []
   },
   "outputs": [
    {
     "data": {
      "text/plain": [
       "dict_keys(['lung', 'cancer', 'also', 'known', 'as', 'bronchial', 'carcinoma', 'since', 'about', '98', '99', 'of', 'all', 'cancers', 'are', 'carcinomas', 'is', 'a', 'malignant', 'tumor', 'characterized', 'by', 'uncontrolled', 'cell', 'growth', 'in', 'tissues', 'the', 'derive', 'from', 'transformed', 'cells', 'that', 'originate', 'epithelial', 'or', 'composed', 'other', 'such', 'rare', 'sarcomas', 'generated', 'transformation', 'connective', 'i', 'e', 'nerve', 'fat', 'muscle', 'bone', 'which', 'arise', 'mesenchymal', 'lymphomas', 'and', 'melanomas', 'lymphoid', 'melanocyte', 'lineages', 'can', 'rarely', 'result', 'time', 'this', 'spread', 'beyond', 'either', 'direct', 'extension', 'entering', 'lymphatic', 'circulation', 'via', 'hematogenous', 'bloodborne', 'process', 'called', 'metastasis', 'into', 'nearby', 'tissue', 'more', 'distant', 'parts', 'body', 'most', 'start', 'primary', 'two', 'main', 'types', 'small', 'sclc', 'non', 'nsclc', 'common', 'symptoms', 'coughing', 'including', 'up', 'blood', 'weight', 'loss', 'shortness', 'breath', 'chest', 'pains', 'vast', 'majority', '85', 'cases', 'due', 'to', 'long', 'term', 'tobacco', 'smoking', '10', '15', 'occur', 'people', 'who', 'have', 'never', 'smoked', 'these', 'often', 'caused', 'combination', 'genetic', 'factors', 'exposure', 'radon', 'gas', 'asbestos', 'second', 'hand', 'smoke', 'forms', 'air', 'pollution', 'may', 'be', 'seen', 'on', 'radiographs', 'computed', 'tomography', 'ct', 'scans', 'diagnosis', 'confirmed', 'biopsy', 'usually', 'performed', 'bronchoscopy', 'guidance', 'major', 'method', 'prevention', 'avoidance', 'risk', 'treatment', 'outcomes', 'depend', 'type', 'stage', 'degree', 'person', 's', 'overall', 'health', 'not', 'curable', 'treatments', 'include', 'surgery', 'chemotherapy', 'radiotherapy', 'sometimes', 'treated', 'with', 'whereas', 'responds', 'better', 'worldwide', '2020', 'occurred', '2', 'million', 'resulted', '1', '8', 'deaths', 'it', 'cause', 'related', 'death', 'men', 'women', 'after', 'breast', 'age', 'at', '70', 'years', 'united', 'states', 'five', 'year', 'survival', 'rate', '20', '5', 'while', 'japan', '41', '4', 'typically', 'worse', 'developing', 'world', 'acetaminophen', '500mg', 'oral', 'tablet', 'paracetamol', 'ibuprofen', '200mg', 'penicillin', 'coconut', 'metformin', 'hydrochloride', 'peanut', 'butter', 'rash', 'complaining', 'facial', 'swelling', 'depression', 'symptom', 'depressive'])"
      ]
     },
     "execution_count": 57,
     "metadata": {},
     "output_type": "execute_result"
    }
   ],
   "source": [
    "vocab.vocab.keys()"
   ]
  },
  {
   "cell_type": "markdown",
   "id": "2d4c58f4-cc9d-498a-97b3-4454078e4c41",
   "metadata": {},
   "source": [
    "#### Save the model pack"
   ]
  },
  {
   "cell_type": "code",
   "execution_count": 62,
   "id": "775bf2fa-97c9-40f9-9fe3-76520471185a",
   "metadata": {},
   "outputs": [],
   "source": [
    "vocab_builder.make_model_pack(cdb=cdb, save_name=\"miade_example\")"
   ]
  },
  {
   "cell_type": "markdown",
   "id": "f7eccbf7-0b85-47f3-b370-c166c44f84ae",
   "metadata": {},
   "source": [
    "#### Run training from script\n",
    "\n",
    "MiADE provides scripts for automatically building MedCAT model packs, unsupervised training, supervised training steps, and the creation and training of MetaCAT models. \n",
    "\n",
    "The ```--synthetic-data-path``` option allows you to add synthetically generated training data in csv to the supervised and MetaCAT training steps."
   ]
  },
  {
   "cell_type": "code",
   "execution_count": null,
   "id": "d28831af-8235-4e70-a663-aa329d5966e0",
   "metadata": {},
   "outputs": [],
   "source": [
    "MODEL_PACK_PATH = \"\"\n",
    "MEDCAT_JSON_EXPORT = \"\"\n",
    "SYNTHETIC_CSV_PATH = \"\""
   ]
  },
  {
   "cell_type": "code",
   "execution_count": null,
   "id": "e2e6776a-fa36-4b12-b6fb-f88fd40b09a5",
   "metadata": {},
   "outputs": [],
   "source": [
    "# Builds a model pack from given CDB in CSV format and a Vocab file from an existing model pack\n",
    "!miade build-model-pack $CDB_DATA_PATH $VOCAB_MODEL_PATH"
   ]
  },
  {
   "cell_type": "code",
   "execution_count": null,
   "id": "eb02cd8c-da8e-403b-ac41-a039419e3969",
   "metadata": {},
   "outputs": [],
   "source": [
    "# Trains unsupervised training step of MedCAT model\n",
    "!miade train $MODEL_PACK_PATH $TEXT_DATA_PATH --tag \"miade-example\""
   ]
  },
  {
   "cell_type": "code",
   "execution_count": null,
   "id": "568d20fa-94b5-424d-b087-0f6f859a75e9",
   "metadata": {},
   "outputs": [],
   "source": [
    "# Trains supervised training step of MedCAT model\n",
    "!miade train-supervised $MODEL_PACK_PATH $MEDCAT_JSON_EXPORT --synthetic-data-path $SYNTHETIC_CSV_PATH"
   ]
  },
  {
   "cell_type": "code",
   "execution_count": 49,
   "id": "10dba7a1-0387-4808-ae42-52d14601a791",
   "metadata": {},
   "outputs": [
    {
     "name": "stdout",
     "output_type": "stream",
     "text": [
      "[00:00:00] Pre-processing files (0 Mo)              ░░░░░░░░                  0%\n",
      "\u001b[2K\u001b[1B\u001b[1A[00:00:00] Pre-processing files (0 Mo)              ████████                100%\n",
      "[00:00:00] Tokenize words                           ████████ 0        /        0\n",
      "\u001b[2K\u001b[1B\u001b[1A[00:00:00] Tokenize words                           ████████ 257      /      257\n",
      "\n",
      "\u001b[2K\u001b[1B\u001b[1A[00:00:00] Count pairs                              ████████ 257      /      257\n",
      "\n",
      "\u001b[2K\u001b[1B\u001b[1A[00:00:00] Compute merges                           ████████ 299      /      299\n",
      "\n"
     ]
    }
   ],
   "source": [
    "# Creates tokenizer for MetaCAT\n",
    "!miade create-bbpe-tokenizer $TEXT_DATA_PATH"
   ]
  },
  {
   "cell_type": "code",
   "execution_count": null,
   "id": "23b2392e-2050-44e7-90c8-9984b3489f46",
   "metadata": {},
   "outputs": [],
   "source": [
    "# Initialises MetaCAT models to do training on\n",
    "!miade create-metacats $TOKENIZER_PATH $CATEGORY_NAMES"
   ]
  },
  {
   "cell_type": "code",
   "execution_count": null,
   "id": "23a93d49-2b86-468c-a924-8b97ec989c6b",
   "metadata": {},
   "outputs": [],
   "source": [
    "# Trains the MetaCAT Bi-LSTM models\n",
    "!miade train-metacats $METACAT_MODEL_PATH $MEDCAT_JSON_EXPORT --synthetic-data-path $SYNTHETIC_CSV_PATH"
   ]
  },
  {
   "cell_type": "code",
   "execution_count": null,
   "id": "07a05fa1-f6de-4026-b0b8-5d2c5f0dd031",
   "metadata": {},
   "outputs": [],
   "source": [
    "# Packages MetaCAT models with the main MedCAT model pack\n",
    "!miade add_metacat_models $MODEL_PACK_PATH $METACAT_MODEL_PATH"
   ]
  },
  {
   "cell_type": "markdown",
   "id": "6627ebbb-0845-4e2d-b525-ab7359a51cb9",
   "metadata": {},
   "source": [
    "#### And more...\n",
    "\n",
    "**MiADE training dashboard**: A streamlit app that allows you to interactively inspect synthetic data and train MetaCAT models https://github.com/uclh-criu/miade/tree/master/streamlit_app"
   ]
  },
  {
   "cell_type": "markdown",
   "id": "1bf95c64-62d4-49e9-9e6b-ad269b3a1c53",
   "metadata": {},
   "source": [
    "### 2.2 Creating custom MiADE annotators\n",
    "\n",
    "We can add custom annotators to MiADE by subclassing ```Annotator``` and s initialising ```NoteProcessor``` with the list of custom annotators \n",
    "\n",
    "```Annotator``` methods include:\n",
    "\n",
    "- ```.get_concepts()```: returns MedCAT output as MiADE ```Concepts```\n",
    "- ```.add_dosages_to_concepts()```: uses ```DosageExtractor``` to add dosages associated with medication concepts\n",
    "- ```.deduplicate()```: filters duplicate concepts in list "
   ]
  },
  {
   "cell_type": "code",
   "execution_count": 11,
   "id": "f033bb29-7e7d-4be2-ab3e-55aae06b365a",
   "metadata": {},
   "outputs": [],
   "source": [
    "# subclass Annotator\n",
    "class CustomAnnotator(Annotator):\n",
    "    def __init__(self, cat: MiADE_CAT):\n",
    "        super().__init__(cat)\n",
    "        # we need to include MEDICATIONS in concept types so MiADE processor will also extract dosages\n",
    "        self.concept_types = [Category.MEDICATION, Category.ALLERGY]\n",
    "    \n",
    "    def postprocess(self, concepts: List[Concept]) -> List[Concept]:\n",
    "        # some example post-processing code\n",
    "        reactions = [\"271807003\"]\n",
    "        allergens = [\"764146007\"]\n",
    "        for concept in concepts:\n",
    "            if concept.id in reactions:\n",
    "                concept.category = Category.REACTION\n",
    "            elif concept.id in allergens:\n",
    "                concept.category = Category.ALLERGY\n",
    "        return concepts\n",
    "    \n",
    "    def __call__(\n",
    "        self,\n",
    "        note: Note,\n",
    "        record_concepts: Optional[List[Concept]] = None,\n",
    "        dosage_extractor: Optional[DosageExtractor] = None,\n",
    "    ):\n",
    "        concepts = self.get_concepts(note)\n",
    "        concepts = self.postprocess(concepts)\n",
    "        # run dosage extractor if given\n",
    "        if dosage_extractor is not None:\n",
    "            concepts = self.add_dosages_to_concepts(dosage_extractor, concepts, note)\n",
    "        concepts = self.deduplicate(concepts, record_concepts)\n",
    "\n",
    "        return concepts\n",
    "        "
   ]
  },
  {
   "cell_type": "code",
   "execution_count": 12,
   "id": "9a6010c7-b4f1-42f3-8b98-a8819de9ef8f",
   "metadata": {},
   "outputs": [
    {
     "name": "stderr",
     "output_type": "stream",
     "text": [
      "[2023-06-09 17:21:40,468] [INFO] miade.core: Found config file ../dev_models/current/config.yaml\n",
      "[2023-06-09 17:21:40,471] [INFO] miade.core: Loading MedCAT models from ../dev_models/current\n",
      "/home/jennifer/Documents/miade/venv/lib/python3.8/site-packages/spacy/util.py:877: UserWarning: [W095] Model 'en_core_web_md' (3.1.0) was trained with spaCy v3.1 and may not be 100% compatible with the current version (3.4.4). If you see errors or degraded performance, download a newer compatible model or retrain your custom model with the current spaCy version. For more details and available updates, run: python -m spacy validate\n",
      "  warnings.warn(warn_msg)\n",
      "[2023-06-09 17:21:48,928] [INFO] miade.dosageextractor: Loaded drug dosage extractor with model en_core_med7_lg\n"
     ]
    }
   ],
   "source": [
    "miade = NoteProcessor(Path(MODEL_DIRECTORY), custom_annotators=[CustomAnnotator])"
   ]
  },
  {
   "cell_type": "code",
   "execution_count": 16,
   "id": "55269b65-ff2a-47f5-b2af-9488429ef8f6",
   "metadata": {},
   "outputs": [
    {
     "name": "stderr",
     "output_type": "stream",
     "text": [
      "[2023-06-09 17:29:08,572] [INFO] miade.core: Added ProblemsAnnotator to processor\n"
     ]
    }
   ],
   "source": [
    "miade.add_annotator(\"problems\")"
   ]
  },
  {
   "cell_type": "code",
   "execution_count": 13,
   "id": "e2773153-0f76-4d5c-b641-70a7862976cb",
   "metadata": {},
   "outputs": [
    {
     "name": "stderr",
     "output_type": "stream",
     "text": [
      "[2023-06-09 17:21:57,040] [INFO] miade.core: Added CustomAnnotator to processor\n"
     ]
    }
   ],
   "source": [
    "miade.add_annotator(\"custom\")"
   ]
  },
  {
   "cell_type": "code",
   "execution_count": 17,
   "id": "915d4c64-81e9-431b-b579-ae1d8704007f",
   "metadata": {},
   "outputs": [
    {
     "data": {
      "text/plain": [
       "[{'name': 'losartan-containing product',\n",
       "  'id': '96309000',\n",
       "  'category': 'MEDICATION',\n",
       "  'start': 76,\n",
       "  'end': 84,\n",
       "  'dosage': {'dose': {'source': '100 mg',\n",
       "    'value': 100.0,\n",
       "    'unit': 'mg',\n",
       "    'low': None,\n",
       "    'high': None},\n",
       "   'duration': None,\n",
       "   'frequency': {'source': 'start 100 mg every day ',\n",
       "    'value': 1.0,\n",
       "    'unit': 'd',\n",
       "    'low': None,\n",
       "    'high': None,\n",
       "    'standardDeviation': None,\n",
       "    'institutionSpecified': False,\n",
       "    'preconditionAsRequired': False},\n",
       "   'route': None},\n",
       "  'negex': False,\n",
       "  'meta': None,\n",
       "  'debug': None},\n",
       " {'name': 'atorvastatin-containing product',\n",
       "  'id': '108600003',\n",
       "  'category': 'MEDICATION',\n",
       "  'start': 97,\n",
       "  'end': 109,\n",
       "  'dosage': {'dose': {'source': '20 mg',\n",
       "    'value': 20.0,\n",
       "    'unit': 'mg',\n",
       "    'low': None,\n",
       "    'high': None},\n",
       "   'duration': None,\n",
       "   'frequency': {'source': 'start 20 mg every day ',\n",
       "    'value': 1.0,\n",
       "    'unit': 'd',\n",
       "    'low': None,\n",
       "    'high': None,\n",
       "    'standardDeviation': None,\n",
       "    'institutionSpecified': False,\n",
       "    'preconditionAsRequired': False},\n",
       "   'route': None},\n",
       "  'negex': False,\n",
       "  'meta': None,\n",
       "  'debug': None},\n",
       " {'name': 'breaking out - eruption',\n",
       "  'id': '271807003',\n",
       "  'category': 'REACTION',\n",
       "  'start': 187,\n",
       "  'end': 191,\n",
       "  'dosage': None,\n",
       "  'negex': False,\n",
       "  'meta': None,\n",
       "  'debug': None},\n",
       " {'name': 'acetaminophen 500mg oral tablet',\n",
       "  'id': '322236009',\n",
       "  'category': 'MEDICATION',\n",
       "  'start': 121,\n",
       "  'end': 146,\n",
       "  'dosage': {'dose': {'source': '2 tab',\n",
       "    'value': 2.0,\n",
       "    'unit': '{tbl}',\n",
       "    'low': None,\n",
       "    'high': None},\n",
       "   'duration': None,\n",
       "   'frequency': {'source': 'start 2 tab 4 times day when needed ',\n",
       "    'value': 0.25,\n",
       "    'unit': 'd',\n",
       "    'low': None,\n",
       "    'high': None,\n",
       "    'standardDeviation': None,\n",
       "    'institutionSpecified': True,\n",
       "    'preconditionAsRequired': True},\n",
       "   'route': None},\n",
       "  'negex': False,\n",
       "  'meta': None,\n",
       "  'debug': None},\n",
       " {'name': 'penicillin',\n",
       "  'id': '764146007',\n",
       "  'category': 'ALLERGY',\n",
       "  'start': 174,\n",
       "  'end': 184,\n",
       "  'dosage': None,\n",
       "  'negex': False,\n",
       "  'meta': None,\n",
       "  'debug': None},\n",
       " {'name': 'hypothyroidism',\n",
       "  'id': '40930008',\n",
       "  'category': 'PROBLEM',\n",
       "  'start': 46,\n",
       "  'end': 60,\n",
       "  'dosage': None,\n",
       "  'negex': False,\n",
       "  'meta': None,\n",
       "  'debug': None},\n",
       " {'name': 'heart failure',\n",
       "  'id': '84114007',\n",
       "  'category': 'PROBLEM',\n",
       "  'start': 10,\n",
       "  'end': 23,\n",
       "  'dosage': None,\n",
       "  'negex': False,\n",
       "  'meta': None,\n",
       "  'debug': None},\n",
       " {'name': 'dyspnea',\n",
       "  'id': '267036007',\n",
       "  'category': 'PROBLEM',\n",
       "  'start': 226,\n",
       "  'end': 245,\n",
       "  'dosage': None,\n",
       "  'negex': False,\n",
       "  'meta': None,\n",
       "  'debug': None},\n",
       " {'name': 'swollen ankle',\n",
       "  'id': '267039000',\n",
       "  'category': 'PROBLEM',\n",
       "  'start': 207,\n",
       "  'end': 221,\n",
       "  'dosage': None,\n",
       "  'negex': False,\n",
       "  'meta': None,\n",
       "  'debug': None},\n",
       " {'name': 'eruption of skin',\n",
       "  'id': '271807003',\n",
       "  'category': 'PROBLEM',\n",
       "  'start': 187,\n",
       "  'end': 191,\n",
       "  'dosage': None,\n",
       "  'negex': False,\n",
       "  'meta': None,\n",
       "  'debug': None}]"
      ]
     },
     "execution_count": 17,
     "metadata": {},
     "output_type": "execute_result"
    }
   ],
   "source": [
    "miade.get_concept_dicts(note, filter_uncategorized=True)"
   ]
  },
  {
   "cell_type": "code",
   "execution_count": null,
   "id": "a84232da-550d-4ecd-89db-d09f531c6b5a",
   "metadata": {},
   "outputs": [],
   "source": []
  }
 ],
 "metadata": {
  "kernelspec": {
   "display_name": "Python 3 (ipykernel)",
   "language": "python",
   "name": "python3"
  },
  "language_info": {
   "codemirror_mode": {
    "name": "ipython",
    "version": 3
   },
   "file_extension": ".py",
   "mimetype": "text/x-python",
   "name": "python",
   "nbconvert_exporter": "python",
   "pygments_lexer": "ipython3",
   "version": "3.8.16"
  }
 },
 "nbformat": 4,
 "nbformat_minor": 5
}
