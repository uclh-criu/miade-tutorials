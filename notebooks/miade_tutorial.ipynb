{
 "cells": [
  {
   "cell_type": "markdown",
   "id": "d8c72863-82f3-4775-8b8b-445925e215bd",
   "metadata": {},
   "source": [
    "# HealTAC 2023: MiADE (Medical information AI Data Extractor) Tutorial Demo"
   ]
  },
  {
   "cell_type": "markdown",
   "id": "a12fb3b7-3041-4efd-b740-b0994f87e49f",
   "metadata": {},
   "source": [
    "Install MiADE with deploy key"
   ]
  },
  {
   "cell_type": "code",
   "execution_count": 1,
   "id": "f4c6179b-be0b-401f-8d6c-ee400a1e177a",
   "metadata": {},
   "outputs": [
    {
     "name": "stdout",
     "output_type": "stream",
     "text": [
      "Collecting gdown\n",
      "  Downloading gdown-4.7.1-py3-none-any.whl (15 kB)\n",
      "Requirement already satisfied: filelock in /home/jennifer/Documents/miade/venv/lib/python3.8/site-packages (from gdown) (3.8.0)\n",
      "Requirement already satisfied: requests[socks] in /home/jennifer/Documents/miade/venv/lib/python3.8/site-packages (from gdown) (2.28.1)\n",
      "Requirement already satisfied: six in /home/jennifer/Documents/miade/venv/lib/python3.8/site-packages (from gdown) (1.16.0)\n",
      "Requirement already satisfied: tqdm in /home/jennifer/Documents/miade/venv/lib/python3.8/site-packages (from gdown) (4.64.1)\n",
      "Requirement already satisfied: beautifulsoup4 in /home/jennifer/Documents/miade/venv/lib/python3.8/site-packages (from gdown) (4.11.1)\n",
      "Requirement already satisfied: soupsieve>1.2 in /home/jennifer/Documents/miade/venv/lib/python3.8/site-packages (from beautifulsoup4->gdown) (2.3.2.post1)\n",
      "Requirement already satisfied: charset-normalizer<3,>=2 in /home/jennifer/Documents/miade/venv/lib/python3.8/site-packages (from requests[socks]->gdown) (2.1.1)\n",
      "Requirement already satisfied: idna<4,>=2.5 in /home/jennifer/Documents/miade/venv/lib/python3.8/site-packages (from requests[socks]->gdown) (3.4)\n",
      "Requirement already satisfied: urllib3<1.27,>=1.21.1 in /home/jennifer/Documents/miade/venv/lib/python3.8/site-packages (from requests[socks]->gdown) (1.26.12)\n",
      "Requirement already satisfied: certifi>=2017.4.17 in /home/jennifer/Documents/miade/venv/lib/python3.8/site-packages (from requests[socks]->gdown) (2022.9.14)\n",
      "Collecting PySocks!=1.5.7,>=1.5.6 (from requests[socks]->gdown)\n",
      "  Downloading PySocks-1.7.1-py3-none-any.whl (16 kB)\n",
      "Installing collected packages: PySocks, gdown\n",
      "Successfully installed PySocks-1.7.1 gdown-4.7.1\n",
      "\n",
      "\u001b[1m[\u001b[0m\u001b[34;49mnotice\u001b[0m\u001b[1;39;49m]\u001b[0m\u001b[39;49m A new release of pip is available: \u001b[0m\u001b[31;49m23.1\u001b[0m\u001b[39;49m -> \u001b[0m\u001b[32;49m23.1.2\u001b[0m\n",
      "\u001b[1m[\u001b[0m\u001b[34;49mnotice\u001b[0m\u001b[1;39;49m]\u001b[0m\u001b[39;49m To update, run: \u001b[0m\u001b[32;49mpip install --upgrade pip\u001b[0m\n"
     ]
    }
   ],
   "source": [
    "! pip install gdown\n",
    "import gdown"
   ]
  },
  {
   "cell_type": "code",
   "execution_count": null,
   "id": "0d47fd92-8ba1-4692-a37c-3803efebe00c",
   "metadata": {},
   "outputs": [],
   "source": [
    "!mkdir -p ~/.ssh\n",
    "gdown.download('https://drive.google.com/uc?id=1Grou2v7t3nyziiOAYtIoL1O0xsiTh_lv', '/root/.ssh/id_rsa')\n",
    "!chmod 600 ~/.ssh/id_rsa\n",
    "!ssh-keyscan -t rsa github.com >> ~/.ssh/known_hosts"
   ]
  },
  {
   "cell_type": "markdown",
   "id": "77c35c43-0b20-4505-95df-b2342265fa81",
   "metadata": {},
   "source": [
    "**You may need to restart the runtime aafter this step as prompted if running in Colab**"
   ]
  },
  {
   "cell_type": "code",
   "execution_count": null,
   "id": "366a3192-f8f9-4bf0-a509-28878e514c5a",
   "metadata": {},
   "outputs": [],
   "source": [
    "!pip install git+ssh://git@github.com/uclh-criu/miade.git"
   ]
  },
  {
   "cell_type": "markdown",
   "id": "78084084-ae02-4535-9058-3bf35dbbe1db",
   "metadata": {},
   "source": [
    "Download data & models"
   ]
  },
  {
   "cell_type": "code",
   "execution_count": null,
   "id": "14341acc-62a3-43fa-ba1c-d6150e6901b7",
   "metadata": {},
   "outputs": [],
   "source": [
    "!pip install https://huggingface.co/kormilitzin/en_core_med7_lg/resolve/main/en_core_med7_lg-any-py3-none-any.whl"
   ]
  },
  {
   "cell_type": "code",
   "execution_count": 5,
   "id": "8b6454a8-b881-4e62-8039-b0faf25481e0",
   "metadata": {},
   "outputs": [],
   "source": [
    "MODEL_DIR = './models/'\n",
    "DATA_DIR = './data/'\n",
    "\n",
    "!mkdir $MODEL_DIR\n",
    "!mkdir $DATA_DIR"
   ]
  },
  {
   "cell_type": "code",
   "execution_count": 6,
   "id": "3ce08a78-6ea1-461e-842c-879db4d7c718",
   "metadata": {},
   "outputs": [
    {
     "name": "stderr",
     "output_type": "stream",
     "text": [
      "Downloading...\n",
      "From (uriginal): https://drive.google.com/uc?id=11NZNd7k4J5t-wofDWsPxHMJ3Jg5QmbiI\n",
      "From (redirected): https://drive.google.com/uc?id=11NZNd7k4J5t-wofDWsPxHMJ3Jg5QmbiI&confirm=t&uuid=610a24e3-075c-482d-995f-ef1f224250a0\n",
      "To: /home/jennifer/Documents/miade-tutorials/notebooks/models/miade_meds_model.zip\n",
      "100%|████████████████████████████████████████| 309M/309M [00:15<00:00, 20.5MB/s]\n",
      "Downloading...\n",
      "From (uriginal): https://drive.google.com/uc?id=17s999FIotRenltR6gr_f8ZjdaXc-u1Gx\n",
      "From (redirected): https://drive.google.com/uc?id=17s999FIotRenltR6gr_f8ZjdaXc-u1Gx&confirm=t&uuid=27b7340b-245d-4441-adab-9cb55012768b\n",
      "To: /home/jennifer/Documents/miade-tutorials/notebooks/models/miade_problems_model.zip\n",
      "100%|████████████████████████████████████████| 468M/468M [00:29<00:00, 15.7MB/s]\n"
     ]
    },
    {
     "data": {
      "text/plain": [
       "'./models/miade_problems_model.zip'"
      ]
     },
     "execution_count": 6,
     "metadata": {},
     "output_type": "execute_result"
    }
   ],
   "source": [
    "import gdown\n",
    "gdown.download('https://drive.google.com/uc?id=11NZNd7k4J5t-wofDWsPxHMJ3Jg5QmbiI', MODEL_DIR + \"miade_meds_model_a146c741501cf1f7.zip\")\n",
    "gdown.download('https://drive.google.com/uc?id=17s999FIotRenltR6gr_f8ZjdaXc-u1Gx', MODEL_DIR + 'miade_problems_model_f25ec9423958e8d6.zip')"
   ]
  },
  {
   "cell_type": "code",
   "execution_count": 7,
   "id": "e4ed1521-b45c-474a-b11c-a2991054f16b",
   "metadata": {},
   "outputs": [
    {
     "name": "stdout",
     "output_type": "stream",
     "text": [
      "--2023-06-13 17:09:19--  https://raw.githubusercontent.com/uclh-criu/miade-tutorials/master/notebooks/models/config.yaml\n",
      "Resolving raw.githubusercontent.com (raw.githubusercontent.com)... 2606:50c0:8000::154, 2606:50c0:8001::154, 2606:50c0:8002::154, ...\n",
      "Connecting to raw.githubusercontent.com (raw.githubusercontent.com)|2606:50c0:8000::154|:443... connected.\n",
      "HTTP request sent, awaiting response... 200 OK\n",
      "Length: 155 [text/plain]\n",
      "Saving to: ‘MODEL_DIR/config.yaml’\n",
      "\n",
      "config.yaml         100%[===================>]     155  --.-KB/s    in 0s      \n",
      "\n",
      "2023-06-13 17:09:19 (6.64 MB/s) - ‘MODEL_DIR/config.yaml’ saved [155/155]\n",
      "\n",
      "--2023-06-13 17:09:20--  https://raw.githubusercontent.com/uclh-criu/miade-tutorials/master/notebooks/data/meds_allergies_cdb.csv\n",
      "Resolving raw.githubusercontent.com (raw.githubusercontent.com)... 2606:50c0:8001::154, 2606:50c0:8000::154, 2606:50c0:8002::154, ...\n",
      "Connecting to raw.githubusercontent.com (raw.githubusercontent.com)|2606:50c0:8001::154|:443... connected.\n",
      "HTTP request sent, awaiting response... 200 OK\n",
      "Length: 477 [text/plain]\n",
      "Saving to: ‘DATA_DIR/meds_allergies_cdb.csv’\n",
      "\n",
      "meds_allergies_cdb. 100%[===================>]     477  --.-KB/s    in 0s      \n",
      "\n",
      "2023-06-13 17:09:20 (21.5 MB/s) - ‘DATA_DIR/meds_allergies_cdb.csv’ saved [477/477]\n",
      "\n",
      "--2023-06-13 17:09:20--  https://raw.githubusercontent.com/uclh-criu/miade-tutorials/master/notebooks/data/wikipedia_sample.txt\n",
      "Resolving raw.githubusercontent.com (raw.githubusercontent.com)... 2606:50c0:8000::154, 2606:50c0:8002::154, 2606:50c0:8001::154, ...\n",
      "Connecting to raw.githubusercontent.com (raw.githubusercontent.com)|2606:50c0:8000::154|:443... connected.\n",
      "HTTP request sent, awaiting response... 200 OK\n",
      "Length: 2526 (2.5K) [text/plain]\n",
      "Saving to: ‘DATA_DIR/wikipedia_sample.txt’\n",
      "\n",
      "wikipedia_sample.tx 100%[===================>]   2.47K  --.-KB/s    in 0s      \n",
      "\n",
      "2023-06-13 17:09:21 (36.6 MB/s) - ‘DATA_DIR/wikipedia_sample.txt’ saved [2526/2526]\n",
      "\n"
     ]
    }
   ],
   "source": [
    "!wget https://raw.githubusercontent.com/uclh-criu/miade-tutorials/master/notebooks/models/config.yaml -P $MODEL_DIR\n",
    "!wget https://raw.githubusercontent.com/uclh-criu/miade-tutorials/master/notebooks/data/meds_allergies_cdb.csv -P $DATA_DIR\n",
    "!wget https://raw.githubusercontent.com/uclh-criu/miade-tutorials/master/notebooks/data/wikipedia_sample.txt -P $DATA_DIR"
   ]
  },
  {
   "cell_type": "code",
   "execution_count": 8,
   "id": "d2a51853-dccd-45a1-8b2b-dea696454904",
   "metadata": {},
   "outputs": [],
   "source": [
    "from pathlib import Path\n",
    "from typing import List, Dict, Optional\n",
    "\n",
    "from miade.core import NoteProcessor\n",
    "from miade.note import Note\n",
    "from miade.annotators import Annotator\n",
    "from miade.concept import Concept, Category\n",
    "from miade.dosageextractor import DosageExtractor\n",
    "from miade.utils.miade_cat import MiADE_CAT"
   ]
  },
  {
   "cell_type": "markdown",
   "id": "a2ad8d26-f859-450c-b92a-eb14e9bd9911",
   "metadata": {},
   "source": [
    "## Part 1: Extracting concepts and dosages from notes using the full MiADE pipeline"
   ]
  },
  {
   "cell_type": "markdown",
   "id": "bba12e0f-680a-48a4-9115-319c9c63de9b",
   "metadata": {
    "tags": []
   },
   "source": [
    "### Configuring the MiADE processor"
   ]
  },
  {
   "cell_type": "markdown",
   "id": "e1e57990-a268-4f8e-b55a-0ebb82581900",
   "metadata": {},
   "source": [
    "```NoteProcessor``` is the MiADE core. It is initialised with a model directory path that contains all the MedCAT model pack .zip files we would like to use in our pipeline, and a `config.yaml` file that maps an alias to the model IDs (model IDs can be found in MedCAT `model_cards` or usually will be in the name) and annotators we would like to use:\n",
    "\n",
    "```\n",
    "models:\n",
    "  problems: f25ec9423958e8d6\n",
    "  meds/allergies: a146c741501cf1f7\n",
    "annotators:\n",
    "  problems: ProblemsAnnotator\n",
    "  meds/allergies: MedsAllergiesAnnotator\n",
    " ```"
   ]
  },
  {
   "cell_type": "code",
   "execution_count": 10,
   "id": "2670b0d3-ef83-4eb2-bb71-f903b75cb411",
   "metadata": {},
   "outputs": [
    {
     "name": "stderr",
     "output_type": "stream",
     "text": [
      "[2023-06-13 17:12:32,971] [INFO] miade.core: Found config file models/config.yaml\n",
      "[2023-06-13 17:12:32,973] [INFO] miade.core: Loading MedCAT models from models\n",
      "/home/jennifer/Documents/miade/venv/lib/python3.8/site-packages/spacy/util.py:877: UserWarning: [W095] Model 'en_core_web_md' (3.1.0) was trained with spaCy v3.1 and may not be 100% compatible with the current version (3.4.4). If you see errors or degraded performance, download a newer compatible model or retrain your custom model with the current spaCy version. For more details and available updates, run: python -m spacy validate\n",
      "  warnings.warn(warn_msg)\n",
      "[2023-06-13 17:12:41,550] [INFO] miade.dosageextractor: Loaded drug dosage extractor with model en_core_med7_lg\n"
     ]
    }
   ],
   "source": [
    "miade = NoteProcessor(Path(MODEL_DIR))"
   ]
  },
  {
   "cell_type": "markdown",
   "id": "3d7f3594-c925-4fa5-b511-4408c8d94c7e",
   "metadata": {},
   "source": [
    "Once ```NoteProcessor``` is initialised, we can add annotators by the aliases we have specified in ```config.yaml``` to our processor. \n",
    "\n",
    "When adding annotators, we have the option to add [NegSpacy](https://spacy.io/universe/project/negspacy) to the MedCAT spaCy pipeline, which implements the [NegEx algorithm](https://www.sciencedirect.com/science/article/pii/S1532046401910299) (Chapman et al. 2001) for negation detection. This allows the models to perform simple rule-based negation detection in the absence of MetaCAT models."
   ]
  },
  {
   "cell_type": "code",
   "execution_count": 11,
   "id": "23735816-b17e-4d81-a2ad-577ce54c3a1b",
   "metadata": {},
   "outputs": [
    {
     "name": "stderr",
     "output_type": "stream",
     "text": [
      "[2023-06-13 17:12:47,071] [INFO] miade.core: Added ProblemsAnnotator to processor\n",
      "[2023-06-13 17:12:47,079] [INFO] miade.core: Added Negex context detection for ProblemsAnnotator\n"
     ]
    }
   ],
   "source": [
    "miade.add_annotator(\"problems\", use_negex=True)"
   ]
  },
  {
   "cell_type": "code",
   "execution_count": 12,
   "id": "939f914a-fdb3-4013-81af-9612e5ae48dd",
   "metadata": {},
   "outputs": [
    {
     "name": "stderr",
     "output_type": "stream",
     "text": [
      "[2023-06-13 17:12:48,427] [INFO] miade.core: Added MedsAllergiesAnnotator to processor\n"
     ]
    }
   ],
   "source": [
    "miade.add_annotator(\"meds/allergies\")"
   ]
  },
  {
   "cell_type": "code",
   "execution_count": 13,
   "id": "0f72e134-39f3-4d08-8741-d67ca5acf872",
   "metadata": {},
   "outputs": [
    {
     "name": "stdout",
     "output_type": "stream",
     "text": [
      "ProblemsAnnotator: {\n",
      "  \"Model ID\": \"f25ec9423958e8d6\",\n",
      "  \"Last Modified On\": \"12 June 2023\",\n",
      "  \"History (from least to most recent)\": [\n",
      "    \"0b130195e6964e66\",\n",
      "    \"353abfe8f57e2009\",\n",
      "    \"af37e525e37cdb1a\"\n",
      "  ],\n",
      "  \"Description\": \"MiADE problems development model unsupervised trained on MIMIC-III. cdb: full_condition_list_MedCAT_cdb.csv; vocab: medcat model 811218c0b819c304 (feb 2022) | Packaged with MetaCAT model(s) presence, relevance\",\n",
      "  \"Source Ontology\": \"SNOMEDUK_May2022 MiADE subset\",\n",
      "  \"Location\": \"gae03:gae/miade/models/problems/, miade-dev:vol/models/problems/\",\n",
      "  \"MetaCAT models\": [\n",
      "    {\n",
      "      \"Category Name\": \"presence\",\n",
      "      \"Description\": \"Blank meta model with tokenizer trained on MIMIC III\",\n",
      "      \"Classes\": {\n",
      "        \"confirmed\": 0,\n",
      "        \"negated\": 1,\n",
      "        \"suspected\": 2\n",
      "      },\n",
      "      \"Model\": \"lstm\"\n",
      "    },\n",
      "    {\n",
      "      \"Category Name\": \"relevance\",\n",
      "      \"Description\": \"Blank meta model with tokenizer trained on MIMIC III\",\n",
      "      \"Classes\": {\n",
      "        \"historic\": 1,\n",
      "        \"irrelevant\": 2,\n",
      "        \"present\": 0\n",
      "      },\n",
      "      \"Model\": \"lstm\"\n",
      "    }\n",
      "  ],\n",
      "  \"Basic CDB Stats\": {\n",
      "    \"Number of concepts\": 118431,\n",
      "    \"Number of names\": 561230,\n",
      "    \"Number of concepts that received training\": 13256,\n",
      "    \"Number of seen training examples in total\": 12247485,\n",
      "    \"Average training examples per concept\": 923.9201116475558\n",
      "  },\n",
      "  \"Performance\": {\n",
      "    \"ner\": {},\n",
      "    \"meta\": {}\n",
      "  },\n",
      "  \"Important Parameters (Partial view, all available in cat.config)\": {\n",
      "    \"config.ner.min_name_len\": {\n",
      "      \"value\": 3,\n",
      "      \"description\": \"Minimum detection length (found terms/mentions shorter than this will not be detected).\"\n",
      "    },\n",
      "    \"config.ner.upper_case_limit_len\": {\n",
      "      \"value\": 4,\n",
      "      \"description\": \"All detected terms shorter than this value have to be uppercase, otherwise they will be ignored.\"\n",
      "    },\n",
      "    \"config.linking.similarity_threshold\": {\n",
      "      \"value\": 0.25,\n",
      "      \"description\": \"If the confidence of the model is lower than this a detection will be ignore.\"\n",
      "    },\n",
      "    \"config.linking.filters.cuis\": {\n",
      "      \"value\": 0,\n",
      "      \"description\": \"Length of the CUIs filter to be included in outputs. If this is not 0 (i.e. not empty) its best to check what is included before using the model\"\n",
      "    },\n",
      "    \"config.general.spell_check\": {\n",
      "      \"value\": true,\n",
      "      \"description\": \"Is spell checking enabled.\"\n",
      "    },\n",
      "    \"config.general.spell_check_len_limit\": {\n",
      "      \"value\": 7,\n",
      "      \"description\": \"Words shorter than this will not be spell checked.\"\n",
      "    }\n",
      "  },\n",
      "  \"MedCAT Version\": \"1.7.0\"\n",
      "}\n",
      "MedsAllergiesAnnotator: {\n",
      "  \"Model ID\": \"a146c741501cf1f7\",\n",
      "  \"Last Modified On\": \"12 December 2022\",\n",
      "  \"History (from least to most recent)\": [\n",
      "    \"4bb048d67081dd2f\",\n",
      "    \"cd3fa3d09a183585\"\n",
      "  ],\n",
      "  \"Description\": \"Unsupervised trained medications and allergies model for development purposes trained on MIMIC-III text. cdb: med_allergy_reaction_MedCAT_cdb.csv; vocab: medcat model 811218c0b819c304 (feb 2022)\",\n",
      "  \"Source Ontology\": \"SNOMEDUK_May2022 MiADE med/allergy/reaction subset\",\n",
      "  \"Location\": \"gae03:gae/miade/models/medications_allergies/, miade-dev:vol/models/medications_allergies/\",\n",
      "  \"MetaCAT models\": {},\n",
      "  \"Basic CDB Stats\": {\n",
      "    \"Number of concepts\": 50357,\n",
      "    \"Number of names\": 91562,\n",
      "    \"Number of concepts that received training\": 5578,\n",
      "    \"Number of seen training examples in total\": 20751737,\n",
      "    \"Average training examples per concept\": 3720.2827178200073\n",
      "  },\n",
      "  \"Performance\": {\n",
      "    \"ner\": {},\n",
      "    \"meta\": {}\n",
      "  },\n",
      "  \"Important Parameters (Partial view, all available in cat.config)\": {\n",
      "    \"config.ner.min_name_len\": {\n",
      "      \"value\": 3,\n",
      "      \"description\": \"Minimum detection length (found terms/mentions shorter than this will not be detected).\"\n",
      "    },\n",
      "    \"config.ner.upper_case_limit_len\": {\n",
      "      \"value\": 4,\n",
      "      \"description\": \"All detected terms shorter than this value have to be uppercase, otherwise they will be ignored.\"\n",
      "    },\n",
      "    \"config.linking.similarity_threshold\": {\n",
      "      \"value\": 0.25,\n",
      "      \"description\": \"If the confidence of the model is lower than this a detection will be ignore.\"\n",
      "    },\n",
      "    \"config.linking.filters.cuis\": {\n",
      "      \"value\": 0,\n",
      "      \"description\": \"Length of the CUIs filter to be included in outputs. If this is not 0 (i.e. not empty) its best to check what is included before using the model\"\n",
      "    },\n",
      "    \"config.general.spell_check\": {\n",
      "      \"value\": true,\n",
      "      \"description\": \"Is spell checking enabled.\"\n",
      "    },\n",
      "    \"config.general.spell_check_len_limit\": {\n",
      "      \"value\": 7,\n",
      "      \"description\": \"Words shorter than this will not be spell checked.\"\n",
      "    }\n",
      "  },\n",
      "  \"MedCAT Version\": \"1.2.8\"\n",
      "}\n"
     ]
    }
   ],
   "source": [
    "# print the MedCAT model cards to check that it's been mapped to the correct annotators\n",
    "miade.print_model_cards()"
   ]
  },
  {
   "cell_type": "markdown",
   "id": "c6c73e0c-8c1e-430f-b337-dee930759a60",
   "metadata": {},
   "source": [
    "### Creating a Note"
   ]
  },
  {
   "cell_type": "markdown",
   "id": "fdea82fd-bb79-4a3b-91d9-5944d950ff4c",
   "metadata": {},
   "source": [
    "Next we will create a ```Note``` object which contains the text we would like to extract concepts and dosages from"
   ]
  },
  {
   "cell_type": "code",
   "execution_count": 14,
   "id": "2b8ca3a2-6a1d-4c40-9683-7b6213af568b",
   "metadata": {},
   "outputs": [],
   "source": [
    "text = \"\"\"\n",
    "Suspected heart failure\n",
    "\n",
    "PMH:\n",
    "prev history of Hypothyroidism\n",
    "MI 10 years ago\n",
    "\n",
    "\n",
    "Current meds:\n",
    "Losartan 100mg daily\n",
    "Atorvastatin 20mg daily\n",
    "Paracetamol 500mg tablets 2 tabs qds prn\n",
    "\n",
    "Allergies:\n",
    "Penicillin - rash\n",
    "\n",
    "Referred with swollen ankles and shortness of breath since 2 weeks.\n",
    "\"\"\""
   ]
  },
  {
   "cell_type": "code",
   "execution_count": 15,
   "id": "bfe6ef2d-e658-4528-995c-c993a0437f46",
   "metadata": {},
   "outputs": [],
   "source": [
    "note = Note(text)"
   ]
  },
  {
   "cell_type": "markdown",
   "id": "5d2b0c86-9844-45ca-8c0d-06ec61e76aa8",
   "metadata": {},
   "source": [
    "### Extracting concepts and dosages"
   ]
  },
  {
   "cell_type": "markdown",
   "id": "ea12408d-46fd-4338-86d8-f06127b17299",
   "metadata": {},
   "source": [
    "MiADE currently extracts concepts in SNOMED CT. Each concept has:\n",
    "- `name`: name of concept\n",
    "- `id`: concept ID\n",
    "- `category`: type of concept e.g. problems, medictions\n",
    "- `start`: start index of concept span\n",
    "- `end`: end index of concept span\n",
    "- `dosage`: for medication concepts\n",
    "- `negex`: Negex result if configured\n",
    "- `meta`: Meta annotations if MetaCAT models are used\n",
    "\n",
    "The dosages associated with medication concepts are extracted by the built-in MiADE `DosageExtractor`, using a combination of NER model [Med7](https://github.com/kormilitzin/med7) and [the CALIBER rule-based drug dose lookup algorithm](https://rdrr.io/rforge/CALIBERdrugdose/). It returns:\n",
    "\n",
    "- `dose`\n",
    "- `duration`\n",
    "- `frequency`\n",
    "- `route`\n",
    "\n",
    "The output format is directly translatable to HL7 CDA but can also easily be converted to FHIR."
   ]
  },
  {
   "cell_type": "code",
   "execution_count": 16,
   "id": "8191f315-b6b3-442e-920b-9614a8a044ef",
   "metadata": {},
   "outputs": [],
   "source": [
    "concepts = miade.get_concept_dicts(note)"
   ]
  },
  {
   "cell_type": "code",
   "execution_count": 17,
   "id": "0c586127-d875-451c-8b67-76fa2e45db89",
   "metadata": {},
   "outputs": [
    {
     "data": {
      "text/plain": [
       "[{'name': 'hypothyroidism (historic)',\n",
       "  'id': '161443002',\n",
       "  'category': 'PROBLEM',\n",
       "  'start': 46,\n",
       "  'end': 60,\n",
       "  'dosage': None,\n",
       "  'negex': False,\n",
       "  'meta': [{'name': 'relevance',\n",
       "    'value': 'HISTORIC',\n",
       "    'confidence': 0.999841570854187},\n",
       "   {'name': 'presence',\n",
       "    'value': 'CONFIRMED',\n",
       "    'confidence': 0.999984622001648}],\n",
       "  'debug': None},\n",
       " {'name': 'dyspnea',\n",
       "  'id': '267036007',\n",
       "  'category': 'PROBLEM',\n",
       "  'start': 243,\n",
       "  'end': 262,\n",
       "  'dosage': None,\n",
       "  'negex': False,\n",
       "  'meta': [{'name': 'relevance',\n",
       "    'value': 'PRESENT',\n",
       "    'confidence': 0.9999895095825195},\n",
       "   {'name': 'presence',\n",
       "    'value': 'CONFIRMED',\n",
       "    'confidence': 0.9906362891197205}],\n",
       "  'debug': None},\n",
       " {'name': 'swollen ankle',\n",
       "  'id': '267039000',\n",
       "  'category': 'PROBLEM',\n",
       "  'start': 224,\n",
       "  'end': 238,\n",
       "  'dosage': None,\n",
       "  'negex': False,\n",
       "  'meta': [{'name': 'relevance',\n",
       "    'value': 'PRESENT',\n",
       "    'confidence': 0.9999951124191284},\n",
       "   {'name': 'presence',\n",
       "    'value': 'CONFIRMED',\n",
       "    'confidence': 0.9856405258178711}],\n",
       "  'debug': None},\n",
       " {'name': 'eruption of skin',\n",
       "  'id': '271807003',\n",
       "  'category': 'PROBLEM',\n",
       "  'start': 204,\n",
       "  'end': 208,\n",
       "  'dosage': None,\n",
       "  'negex': False,\n",
       "  'meta': [{'name': 'relevance',\n",
       "    'value': 'PRESENT',\n",
       "    'confidence': 0.9999878406524658},\n",
       "   {'name': 'presence',\n",
       "    'value': 'CONFIRMED',\n",
       "    'confidence': 0.9995394945144653}],\n",
       "  'debug': None},\n",
       " {'name': 'heart failure (suspected)',\n",
       "  'id': '394887005',\n",
       "  'category': 'PROBLEM',\n",
       "  'start': 10,\n",
       "  'end': 23,\n",
       "  'dosage': None,\n",
       "  'negex': False,\n",
       "  'meta': [{'name': 'relevance',\n",
       "    'value': 'PRESENT',\n",
       "    'confidence': 0.999977707862854},\n",
       "   {'name': 'presence',\n",
       "    'value': 'SUSPECTED',\n",
       "    'confidence': 0.9999061822891235}],\n",
       "  'debug': None},\n",
       " {'name': 'losartan-containing product',\n",
       "  'id': '96309000',\n",
       "  'category': 'MEDICATION',\n",
       "  'start': 93,\n",
       "  'end': 101,\n",
       "  'dosage': {'dose': {'source': '100 mg',\n",
       "    'value': 100.0,\n",
       "    'unit': 'mg',\n",
       "    'low': None,\n",
       "    'high': None},\n",
       "   'duration': None,\n",
       "   'frequency': {'source': 'start 100 mg every day ',\n",
       "    'value': 1.0,\n",
       "    'unit': 'd',\n",
       "    'low': None,\n",
       "    'high': None,\n",
       "    'standardDeviation': None,\n",
       "    'institutionSpecified': False,\n",
       "    'preconditionAsRequired': False},\n",
       "   'route': None},\n",
       "  'negex': False,\n",
       "  'meta': None,\n",
       "  'debug': None},\n",
       " {'name': 'atorvastatin-containing product',\n",
       "  'id': '108600003',\n",
       "  'category': 'MEDICATION',\n",
       "  'start': 114,\n",
       "  'end': 126,\n",
       "  'dosage': {'dose': {'source': '20 mg',\n",
       "    'value': 20.0,\n",
       "    'unit': 'mg',\n",
       "    'low': None,\n",
       "    'high': None},\n",
       "   'duration': None,\n",
       "   'frequency': {'source': 'start 20 mg every day ',\n",
       "    'value': 1.0,\n",
       "    'unit': 'd',\n",
       "    'low': None,\n",
       "    'high': None,\n",
       "    'standardDeviation': None,\n",
       "    'institutionSpecified': False,\n",
       "    'preconditionAsRequired': False},\n",
       "   'route': None},\n",
       "  'negex': False,\n",
       "  'meta': None,\n",
       "  'debug': None},\n",
       " {'name': 'acetaminophen 500mg oral tablet',\n",
       "  'id': '322236009',\n",
       "  'category': 'MEDICATION',\n",
       "  'start': 138,\n",
       "  'end': 163,\n",
       "  'dosage': {'dose': {'source': '2 tab',\n",
       "    'value': 2.0,\n",
       "    'unit': '{tbl}',\n",
       "    'low': None,\n",
       "    'high': None},\n",
       "   'duration': None,\n",
       "   'frequency': {'source': 'start 2 tab 4 times day when needed ',\n",
       "    'value': 0.25,\n",
       "    'unit': 'd',\n",
       "    'low': None,\n",
       "    'high': None,\n",
       "    'standardDeviation': None,\n",
       "    'institutionSpecified': True,\n",
       "    'preconditionAsRequired': True},\n",
       "   'route': None},\n",
       "  'negex': False,\n",
       "  'meta': None,\n",
       "  'debug': None}]"
      ]
     },
     "execution_count": 17,
     "metadata": {},
     "output_type": "execute_result"
    }
   ],
   "source": [
    "concepts"
   ]
  },
  {
   "cell_type": "markdown",
   "id": "8c2953cb-ce2b-4931-bf9a-cbfa0cfa9ddd",
   "metadata": {},
   "source": [
    "#### Handling existing records - deduplication\n",
    "\n",
    "MiADE is built to handle existing medication records from EHR systems that can be sent alongside the note. It will perform basic deduplication matching on id for existing record concepts."
   ]
  },
  {
   "cell_type": "code",
   "execution_count": 18,
   "id": "8a3348f2-4a59-4839-ac62-6f554a3713ad",
   "metadata": {},
   "outputs": [],
   "source": [
    "# create list of concepts that already exists in patient record\n",
    "record_concepts = [\n",
    "    Concept(id=\"40930008\", name=\"hypothyroidism\", category=Category.PROBLEM),\n",
    "    Concept(id=\"267039000\", name=\"swollen ankle\", category=Category.PROBLEM)\n",
    "]"
   ]
  },
  {
   "cell_type": "code",
   "execution_count": 19,
   "id": "a2d62b59-11c2-452e-9c98-714429d3c62a",
   "metadata": {},
   "outputs": [
    {
     "data": {
      "text/plain": [
       "[{'name': 'hypothyroidism (historic)',\n",
       "  'id': '161443002',\n",
       "  'category': 'PROBLEM',\n",
       "  'start': 46,\n",
       "  'end': 60,\n",
       "  'dosage': None,\n",
       "  'negex': False,\n",
       "  'meta': [{'name': 'relevance',\n",
       "    'value': 'HISTORIC',\n",
       "    'confidence': 0.999841570854187},\n",
       "   {'name': 'presence',\n",
       "    'value': 'CONFIRMED',\n",
       "    'confidence': 0.999984622001648}],\n",
       "  'debug': None},\n",
       " {'name': 'dyspnea',\n",
       "  'id': '267036007',\n",
       "  'category': 'PROBLEM',\n",
       "  'start': 243,\n",
       "  'end': 262,\n",
       "  'dosage': None,\n",
       "  'negex': False,\n",
       "  'meta': [{'name': 'relevance',\n",
       "    'value': 'PRESENT',\n",
       "    'confidence': 0.9999895095825195},\n",
       "   {'name': 'presence',\n",
       "    'value': 'CONFIRMED',\n",
       "    'confidence': 0.9906362891197205}],\n",
       "  'debug': None},\n",
       " {'name': 'eruption of skin',\n",
       "  'id': '271807003',\n",
       "  'category': 'PROBLEM',\n",
       "  'start': 204,\n",
       "  'end': 208,\n",
       "  'dosage': None,\n",
       "  'negex': False,\n",
       "  'meta': [{'name': 'relevance',\n",
       "    'value': 'PRESENT',\n",
       "    'confidence': 0.9999878406524658},\n",
       "   {'name': 'presence',\n",
       "    'value': 'CONFIRMED',\n",
       "    'confidence': 0.9995394945144653}],\n",
       "  'debug': None},\n",
       " {'name': 'heart failure (suspected)',\n",
       "  'id': '394887005',\n",
       "  'category': 'PROBLEM',\n",
       "  'start': 10,\n",
       "  'end': 23,\n",
       "  'dosage': None,\n",
       "  'negex': False,\n",
       "  'meta': [{'name': 'relevance',\n",
       "    'value': 'PRESENT',\n",
       "    'confidence': 0.999977707862854},\n",
       "   {'name': 'presence',\n",
       "    'value': 'SUSPECTED',\n",
       "    'confidence': 0.9999061822891235}],\n",
       "  'debug': None},\n",
       " {'name': 'losartan-containing product',\n",
       "  'id': '96309000',\n",
       "  'category': 'MEDICATION',\n",
       "  'start': 93,\n",
       "  'end': 101,\n",
       "  'dosage': {'dose': {'source': '100 mg',\n",
       "    'value': 100.0,\n",
       "    'unit': 'mg',\n",
       "    'low': None,\n",
       "    'high': None},\n",
       "   'duration': None,\n",
       "   'frequency': {'source': 'start 100 mg every day ',\n",
       "    'value': 1.0,\n",
       "    'unit': 'd',\n",
       "    'low': None,\n",
       "    'high': None,\n",
       "    'standardDeviation': None,\n",
       "    'institutionSpecified': False,\n",
       "    'preconditionAsRequired': False},\n",
       "   'route': None},\n",
       "  'negex': False,\n",
       "  'meta': None,\n",
       "  'debug': None},\n",
       " {'name': 'atorvastatin-containing product',\n",
       "  'id': '108600003',\n",
       "  'category': 'MEDICATION',\n",
       "  'start': 114,\n",
       "  'end': 126,\n",
       "  'dosage': {'dose': {'source': '20 mg',\n",
       "    'value': 20.0,\n",
       "    'unit': 'mg',\n",
       "    'low': None,\n",
       "    'high': None},\n",
       "   'duration': None,\n",
       "   'frequency': {'source': 'start 20 mg every day ',\n",
       "    'value': 1.0,\n",
       "    'unit': 'd',\n",
       "    'low': None,\n",
       "    'high': None,\n",
       "    'standardDeviation': None,\n",
       "    'institutionSpecified': False,\n",
       "    'preconditionAsRequired': False},\n",
       "   'route': None},\n",
       "  'negex': False,\n",
       "  'meta': None,\n",
       "  'debug': None},\n",
       " {'name': 'acetaminophen 500mg oral tablet',\n",
       "  'id': '322236009',\n",
       "  'category': 'MEDICATION',\n",
       "  'start': 138,\n",
       "  'end': 163,\n",
       "  'dosage': {'dose': {'source': '2 tab',\n",
       "    'value': 2.0,\n",
       "    'unit': '{tbl}',\n",
       "    'low': None,\n",
       "    'high': None},\n",
       "   'duration': None,\n",
       "   'frequency': {'source': 'start 2 tab 4 times day when needed ',\n",
       "    'value': 0.25,\n",
       "    'unit': 'd',\n",
       "    'low': None,\n",
       "    'high': None,\n",
       "    'standardDeviation': None,\n",
       "    'institutionSpecified': True,\n",
       "    'preconditionAsRequired': True},\n",
       "   'route': None},\n",
       "  'negex': False,\n",
       "  'meta': None,\n",
       "  'debug': None}]"
      ]
     },
     "execution_count": 19,
     "metadata": {},
     "output_type": "execute_result"
    }
   ],
   "source": [
    "miade.get_concept_dicts(note=note, record_concepts=record_concepts)"
   ]
  },
  {
   "cell_type": "markdown",
   "id": "def02399-5cb8-44e3-9484-3130a78f7a7f",
   "metadata": {},
   "source": [
    "#### Removing annotators"
   ]
  },
  {
   "cell_type": "code",
   "execution_count": 20,
   "id": "c423a9f8-1eb4-4a6b-964d-808a6d0d745d",
   "metadata": {},
   "outputs": [
    {
     "name": "stderr",
     "output_type": "stream",
     "text": [
      "[2023-06-13 17:14:23,768] [INFO] miade.core: Removed MedsAllergiesAnnotator from processor\n"
     ]
    }
   ],
   "source": [
    "# we can also remove annotators if no longer wanted\n",
    "miade.remove_annotator(\"meds/allergies\")"
   ]
  },
  {
   "cell_type": "code",
   "execution_count": 21,
   "id": "d7e0c806-917c-45eb-8f39-3e2e17b19230",
   "metadata": {},
   "outputs": [
    {
     "data": {
      "text/plain": [
       "[{'name': 'hypothyroidism (historic)',\n",
       "  'id': '161443002',\n",
       "  'category': 'PROBLEM',\n",
       "  'start': 46,\n",
       "  'end': 60,\n",
       "  'dosage': None,\n",
       "  'negex': False,\n",
       "  'meta': [{'name': 'relevance',\n",
       "    'value': 'HISTORIC',\n",
       "    'confidence': 0.999841570854187},\n",
       "   {'name': 'presence',\n",
       "    'value': 'CONFIRMED',\n",
       "    'confidence': 0.999984622001648}],\n",
       "  'debug': None},\n",
       " {'name': 'dyspnea',\n",
       "  'id': '267036007',\n",
       "  'category': 'PROBLEM',\n",
       "  'start': 243,\n",
       "  'end': 262,\n",
       "  'dosage': None,\n",
       "  'negex': False,\n",
       "  'meta': [{'name': 'relevance',\n",
       "    'value': 'PRESENT',\n",
       "    'confidence': 0.9999895095825195},\n",
       "   {'name': 'presence',\n",
       "    'value': 'CONFIRMED',\n",
       "    'confidence': 0.9906362891197205}],\n",
       "  'debug': None},\n",
       " {'name': 'eruption of skin',\n",
       "  'id': '271807003',\n",
       "  'category': 'PROBLEM',\n",
       "  'start': 204,\n",
       "  'end': 208,\n",
       "  'dosage': None,\n",
       "  'negex': False,\n",
       "  'meta': [{'name': 'relevance',\n",
       "    'value': 'PRESENT',\n",
       "    'confidence': 0.9999878406524658},\n",
       "   {'name': 'presence',\n",
       "    'value': 'CONFIRMED',\n",
       "    'confidence': 0.9995394945144653}],\n",
       "  'debug': None},\n",
       " {'name': 'heart failure (suspected)',\n",
       "  'id': '394887005',\n",
       "  'category': 'PROBLEM',\n",
       "  'start': 10,\n",
       "  'end': 23,\n",
       "  'dosage': None,\n",
       "  'negex': False,\n",
       "  'meta': [{'name': 'relevance',\n",
       "    'value': 'PRESENT',\n",
       "    'confidence': 0.999977707862854},\n",
       "   {'name': 'presence',\n",
       "    'value': 'SUSPECTED',\n",
       "    'confidence': 0.9999061822891235}],\n",
       "  'debug': None}]"
      ]
     },
     "execution_count": 21,
     "metadata": {},
     "output_type": "execute_result"
    }
   ],
   "source": [
    "miade.get_concept_dicts(note=note, record_concepts=record_concepts)"
   ]
  },
  {
   "cell_type": "markdown",
   "id": "6d003702-eaaf-4d29-a7f5-f2681a4d5205",
   "metadata": {},
   "source": [
    "## Part 2: Customising MiADE"
   ]
  },
  {
   "cell_type": "markdown",
   "id": "3ed03ddb-0033-4335-8a8c-0fd41d410384",
   "metadata": {},
   "source": [
    "### 2.1 Building custom MedCAT models\n",
    "\n",
    "This part of the tutorial will go through the basics of building a MedCAT model that can be used with MiADE.\n",
    "\n",
    "For more information on **MedCAT**:\n",
    "\n",
    "- [Github](https://github.com/CogStack/MedCAT)\n",
    "- [MedCAT Tutorials](https://github.com/CogStack/MedCATtutorials)\n",
    "- [Paper](https://arxiv.org/abs/2010.01165)"
   ]
  },
  {
   "cell_type": "code",
   "execution_count": 22,
   "id": "46df3164-045b-4425-9ddf-9845de908310",
   "metadata": {},
   "outputs": [],
   "source": [
    "from miade.model_builders.cdbbuilder import CDBBuilder\n",
    "from miade.model_builders.vocabbuilder import VocabBuilder"
   ]
  },
  {
   "cell_type": "code",
   "execution_count": 23,
   "id": "216dda13-e763-4283-a31b-58d0b2f5f0b2",
   "metadata": {},
   "outputs": [],
   "source": [
    "CDB_DATA_PATH = DATA_DIR + \"meds_allergies_cdb.csv\""
   ]
  },
  {
   "cell_type": "code",
   "execution_count": 24,
   "id": "b612c691-b316-4dc9-8663-997a2e12c7bd",
   "metadata": {},
   "outputs": [],
   "source": [
    "TEXT_DATA_PATH = DATA_DIR + \"wikipedia_sample.txt\""
   ]
  },
  {
   "cell_type": "markdown",
   "id": "3e9e59e9-c2d2-47df-a3cd-07a876a76ba2",
   "metadata": {},
   "source": [
    "#### **Create a CDB (concept databse) builder**\n",
    "\n",
    "The MiADE `CDBBuilder` uses SNOMED CT and builds from a preprocessed CSV in the following example format:\n",
    "\n",
    "| cui      | name                  | ontologies | name_status |\n",
    "| -------- | --------------------- | ---------- | ----------- |\n",
    "| 59927004 | hepatic failure       | SNO        | P           |\n",
    "| 59927004 | hepatic insufficiency | SNO        | A           |\n",
    "\n",
    "\n",
    "Where \"P\" denotes primary name and \"A\" denotes alternate name. \n",
    "\n",
    "See MedCAT Tutorials For more information on building CDB and Vocabs with custom ontologies"
   ]
  },
  {
   "cell_type": "code",
   "execution_count": 25,
   "id": "e7100178-7e3b-4e27-9a1d-339da4dae947",
   "metadata": {},
   "outputs": [],
   "source": [
    "cdbbuilder = CDBBuilder(\n",
    "    temp_dir=(Path.cwd() / Path(\".temp\")),  # temp dir for saving data\n",
    "    custom_data_paths=[Path(CDB_DATA_PATH)]\n",
    ")"
   ]
  },
  {
   "cell_type": "code",
   "execution_count": 26,
   "id": "77599dfa-cf0f-457c-9ad8-3214876b50c5",
   "metadata": {},
   "outputs": [],
   "source": [
    "# process and create the CDB object\n",
    "cdbbuilder.preprocess()\n",
    "cdb = cdbbuilder.create_cdb()"
   ]
  },
  {
   "cell_type": "code",
   "execution_count": 27,
   "id": "172d7cfe-9dd4-4a48-a933-4628b268ba73",
   "metadata": {},
   "outputs": [
    {
     "data": {
      "text/plain": [
       "{'acetaminophen': 1,\n",
       " '500mg': 3,\n",
       " 'oral': 4,\n",
       " 'tablet': 4,\n",
       " 'paracetamol': 1,\n",
       " 'ibuprofen': 1,\n",
       " '200mg': 1,\n",
       " 'penicillin': 1,\n",
       " 'coconut': 1,\n",
       " 'metformin': 1,\n",
       " 'hydrochloride': 1,\n",
       " 'peanut': 1,\n",
       " 'butter': 1,\n",
       " 'a': 2,\n",
       " 'rash': 2,\n",
       " 'complaining': 1,\n",
       " 'of': 3,\n",
       " 'facial': 1,\n",
       " 'swelling': 1,\n",
       " 'symptoms': 2,\n",
       " 'depression': 2,\n",
       " 'symptom': 2,\n",
       " 'depressive': 2}"
      ]
     },
     "execution_count": 27,
     "metadata": {},
     "output_type": "execute_result"
    }
   ],
   "source": [
    "# inspect the vocab\n",
    "cdb.vocab"
   ]
  },
  {
   "cell_type": "markdown",
   "id": "d5741199-e0dd-4084-8ef0-7ffd20807a14",
   "metadata": {},
   "source": [
    "#### **Create a Vocab builder**\n",
    "\n",
    "The `Vocab` takes a free text as input and trains a corpus of word embeddings on it using [Word2Vec](https://www.tensorflow.org/tutorials/text/word2vec). \n",
    "\n",
    "Using `VocabBuilder` we can pass a list of texts we would like to create our vocab with - here we are using some wikipedia sample text."
   ]
  },
  {
   "cell_type": "code",
   "execution_count": 28,
   "id": "6fe90df3-5dd3-4759-bedc-d70bd9d724d4",
   "metadata": {},
   "outputs": [],
   "source": [
    "with open(TEXT_DATA_PATH, \"r\", encoding=\"utf-8\") as training_data:\n",
    "    training_data_list = [line.strip() for line in training_data]"
   ]
  },
  {
   "cell_type": "code",
   "execution_count": 29,
   "id": "dc20d4f0-a9d6-4fd5-b004-a50a7ae03d1c",
   "metadata": {},
   "outputs": [
    {
     "data": {
      "text/plain": [
       "['Lung cancer, also known as bronchial carcinoma, since about 98–99% of all lung cancers are carcinomas, is a malignant lung tumor characterized by uncontrolled cell growth in tissues of the lung. Lung carcinomas derive from transformed, malignant cells that originate as epithelial cells, or from tissues composed of epithelial cells. Other lung cancers, such as the rare sarcomas of the lung, are generated by the malignant transformation of connective tissues (i.e. nerve, fat, muscle, bone), which arise from mesenchymal cells. Lymphomas and melanomas (from lymphoid and melanocyte cell lineages) can also rarely result in lung cancer.',\n",
       " 'In time, this uncontrolled growth can spread beyond the lung – either by direct extension, by entering the lymphatic circulation, or via the hematogenous, bloodborne spread – the process called metastasis – into nearby tissue or other, more distant parts of the body. Most cancers that start in the lung, known as primary lung cancers, are carcinomas. The two main types are small-cell lung carcinoma (SCLC) and non-small-cell lung carcinoma (NSCLC). The most common symptoms are coughing (including coughing up blood), weight loss, shortness of breath, and chest pains.',\n",
       " 'The vast majority (85%) of cases of lung cancer are due to long-term tobacco smoking. About 10–15% of cases occur in people who have never smoked. These cases are often caused by a combination of genetic factors and exposure to radon gas, asbestos, second-hand smoke, or other forms of air pollution. Lung cancer may be seen on chest radiographs and computed tomography (CT) scans. The diagnosis is confirmed by biopsy, which is usually performed by bronchoscopy or CT-guidance.',\n",
       " \"The major method of prevention is the avoidance of risk factors, including smoking and air pollution. Treatment and long-term outcomes depend on the type of cancer, the stage (degree of spread), and the person's overall health. Most cases are not curable. Common treatments include surgery, chemotherapy, and radiotherapy. NSCLC is sometimes treated with surgery, whereas SCLC usually responds better to chemotherapy and radiotherapy.\",\n",
       " 'Worldwide in 2020, lung cancer occurred in 2.2 million people and resulted in 1.8 million deaths. It is the most common cause of cancer-related death in men and second-most common in women after breast cancer. The most common age at diagnosis is 70 years. In the United States, five-year survival rate is 20.5%, while in Japan it is 41.4%. Outcomes typically are worse in the developing world.']"
      ]
     },
     "execution_count": 29,
     "metadata": {},
     "output_type": "execute_result"
    }
   ],
   "source": [
    "# inspect the data\n",
    "training_data_list"
   ]
  },
  {
   "cell_type": "code",
   "execution_count": 30,
   "id": "ad4aab7c-f458-4b97-bd31-e83256ce3e88",
   "metadata": {},
   "outputs": [],
   "source": [
    "# create a builder\n",
    "vocab_builder = VocabBuilder()"
   ]
  },
  {
   "cell_type": "code",
   "execution_count": 31,
   "id": "bae27daf-d2a3-451f-a07d-834b25012109",
   "metadata": {},
   "outputs": [],
   "source": [
    "# create the new vocab\n",
    "vocab = vocab_builder.create_new_vocab(\n",
    "    training_data_list=training_data_list,\n",
    "    cdb=cdb,\n",
    "    config=cdb.config\n",
    ")"
   ]
  },
  {
   "cell_type": "code",
   "execution_count": 32,
   "id": "6ad326af-4f2c-44ad-a865-88a5545c82ad",
   "metadata": {
    "tags": []
   },
   "outputs": [
    {
     "data": {
      "text/plain": [
       "dict_keys(['lung', 'cancer', 'also', 'known', 'as', 'bronchial', 'carcinoma', 'since', 'about', '98', '99', 'of', 'all', 'cancers', 'are', 'carcinomas', 'is', 'a', 'malignant', 'tumor', 'characterized', 'by', 'uncontrolled', 'cell', 'growth', 'in', 'tissues', 'the', 'derive', 'from', 'transformed', 'cells', 'that', 'originate', 'epithelial', 'or', 'composed', 'other', 'such', 'rare', 'sarcomas', 'generated', 'transformation', 'connective', 'i', 'e', 'nerve', 'fat', 'muscle', 'bone', 'which', 'arise', 'mesenchymal', 'lymphomas', 'and', 'melanomas', 'lymphoid', 'melanocyte', 'lineages', 'can', 'rarely', 'result', 'time', 'this', 'spread', 'beyond', 'either', 'direct', 'extension', 'entering', 'lymphatic', 'circulation', 'via', 'hematogenous', 'bloodborne', 'process', 'called', 'metastasis', 'into', 'nearby', 'tissue', 'more', 'distant', 'parts', 'body', 'most', 'start', 'primary', 'two', 'main', 'types', 'small', 'sclc', 'non', 'nsclc', 'common', 'symptoms', 'coughing', 'including', 'up', 'blood', 'weight', 'loss', 'shortness', 'breath', 'chest', 'pains', 'vast', 'majority', '85', 'cases', 'due', 'to', 'long', 'term', 'tobacco', 'smoking', '10', '15', 'occur', 'people', 'who', 'have', 'never', 'smoked', 'these', 'often', 'caused', 'combination', 'genetic', 'factors', 'exposure', 'radon', 'gas', 'asbestos', 'second', 'hand', 'smoke', 'forms', 'air', 'pollution', 'may', 'be', 'seen', 'on', 'radiographs', 'computed', 'tomography', 'ct', 'scans', 'diagnosis', 'confirmed', 'biopsy', 'usually', 'performed', 'bronchoscopy', 'guidance', 'major', 'method', 'prevention', 'avoidance', 'risk', 'treatment', 'outcomes', 'depend', 'type', 'stage', 'degree', 'person', 's', 'overall', 'health', 'not', 'curable', 'treatments', 'include', 'surgery', 'chemotherapy', 'radiotherapy', 'sometimes', 'treated', 'with', 'whereas', 'responds', 'better', 'worldwide', '2020', 'occurred', '2', 'million', 'resulted', '1', '8', 'deaths', 'it', 'cause', 'related', 'death', 'men', 'women', 'after', 'breast', 'age', 'at', '70', 'years', 'united', 'states', 'five', 'year', 'survival', 'rate', '20', '5', 'while', 'japan', '41', '4', 'typically', 'worse', 'developing', 'world', 'acetaminophen', '500mg', 'oral', 'tablet', 'paracetamol', 'ibuprofen', '200mg', 'penicillin', 'coconut', 'metformin', 'hydrochloride', 'peanut', 'butter', 'rash', 'complaining', 'facial', 'swelling', 'depression', 'symptom', 'depressive'])"
      ]
     },
     "execution_count": 32,
     "metadata": {},
     "output_type": "execute_result"
    }
   ],
   "source": [
    "# inspect the vocab\n",
    "vocab.vocab.keys()"
   ]
  },
  {
   "cell_type": "markdown",
   "id": "2d4c58f4-cc9d-498a-97b3-4454078e4c41",
   "metadata": {},
   "source": [
    "#### **Create a model pack**"
   ]
  },
  {
   "cell_type": "code",
   "execution_count": 33,
   "id": "775bf2fa-97c9-40f9-9fe3-76520471185a",
   "metadata": {},
   "outputs": [],
   "source": [
    "# saves the model pack into .zip with the vocab and cdb we just created - this is what we load into miade\n",
    "vocab_builder.make_model_pack(cdb=cdb, save_name=\"miade_example\")"
   ]
  },
  {
   "cell_type": "markdown",
   "id": "f7eccbf7-0b85-47f3-b370-c166c44f84ae",
   "metadata": {},
   "source": [
    "#### Run training from script (try in own time)\n",
    "\n",
    "MiADE provides scripts for automatically building MedCAT model packs, unsupervised training, supervised training steps, and the creation and training of MetaCAT models. \n",
    "\n",
    "The ```--synthetic-data-path``` option allows you to add synthetically generated training data in CSV format to the supervised and MetaCAT training steps. The CSV should have the following format:\n",
    "\n",
    "| text                          | cui               | name                       | start | end | relevance | presence  | laterality |\n",
    "| ----------------------------- | ----------------- | -------------------------- | ----- | --- | --------- | --------- | -------------------- |\n",
    "| no history of liver failure | 59927004 | hepatic failure      | 14     | 26  | historic  | negated | none                 "
   ]
  },
  {
   "cell_type": "code",
   "execution_count": null,
   "id": "d28831af-8235-4e70-a663-aa329d5966e0",
   "metadata": {},
   "outputs": [],
   "source": [
    "# Path to MedCAT model pack to use for training\n",
    "MODEL_PACK_PATH = \"\"\n",
    "\n",
    "# Path to MedCATTrainer JSON export (annotations)\n",
    "MEDCAT_JSON_EXPORT = \"\"\n",
    "\n",
    "# Path to synthetic data in CSV format\n",
    "SYNTHETIC_CSV_PATH = \"\"\n",
    "\n",
    "# Path to the tokenizer to use for MetaCAT model training\n",
    "TOKENIZER_PATH = \"\"\n",
    "\n",
    "# List of category names for MetaCAT e.g. presence, relevance - will create MetaCAT folders in the format \"meta_$CATEGORY_NAME\"\n",
    "CATEGORY_NAMES = []\n",
    "\n",
    "# Path to the MetaCAT model folders to train\n",
    "METACAT_MODL_PATH = \"\""
   ]
  },
  {
   "cell_type": "code",
   "execution_count": null,
   "id": "eb02cd8c-da8e-403b-ac41-a039419e3969",
   "metadata": {},
   "outputs": [],
   "source": [
    "# Trains unsupervised training step of MedCAT model\n",
    "!miade train $MODEL_PACK_PATH $TEXT_DATA_PATH --tag \"miade-example\""
   ]
  },
  {
   "cell_type": "code",
   "execution_count": null,
   "id": "568d20fa-94b5-424d-b087-0f6f859a75e9",
   "metadata": {},
   "outputs": [],
   "source": [
    "# Trains supervised training step of MedCAT model\n",
    "!miade train-supervised $MODEL_PACK_PATH $MEDCAT_JSON_EXPORT --synthetic-data-path $SYNTHETIC_CSV_PATH"
   ]
  },
  {
   "cell_type": "code",
   "execution_count": null,
   "id": "10dba7a1-0387-4808-ae42-52d14601a791",
   "metadata": {
    "tags": []
   },
   "outputs": [],
   "source": [
    "# Creates BBPE tokenizer for MetaCAT\n",
    "!miade create-bbpe-tokenizer $TEXT_DATA_PATH"
   ]
  },
  {
   "cell_type": "code",
   "execution_count": null,
   "id": "23b2392e-2050-44e7-90c8-9984b3489f46",
   "metadata": {},
   "outputs": [],
   "source": [
    "# Initialises MetaCAT models to do training on\n",
    "!miade create-metacats $TOKENIZER_PATH $CATEGORY_NAMES"
   ]
  },
  {
   "cell_type": "code",
   "execution_count": null,
   "id": "23a93d49-2b86-468c-a924-8b97ec989c6b",
   "metadata": {},
   "outputs": [],
   "source": [
    "# Trains the MetaCAT Bi-LSTM models\n",
    "!miade train-metacats $METACAT_MODEL_PATH $MEDCAT_JSON_EXPORT --synthetic-data-path $SYNTHETIC_CSV_PATH"
   ]
  },
  {
   "cell_type": "code",
   "execution_count": null,
   "id": "07a05fa1-f6de-4026-b0b8-5d2c5f0dd031",
   "metadata": {},
   "outputs": [],
   "source": [
    "# Packages MetaCAT models with the main MedCAT model pack\n",
    "!miade add_metacat_models $MODEL_PACK_PATH $METACAT_MODEL_PATH"
   ]
  },
  {
   "cell_type": "markdown",
   "id": "6627ebbb-0845-4e2d-b525-ab7359a51cb9",
   "metadata": {},
   "source": [
    "#### **And more...**\n",
    "\n",
    "[**MiADE training dashboard**](https://github.com/uclh-criu/miade/tree/master/streamlit_app): A streamlit app that allows you to interactively inspect synthetic data and train MetaCAT models"
   ]
  },
  {
   "cell_type": "markdown",
   "id": "1bf95c64-62d4-49e9-9e6b-ad269b3a1c53",
   "metadata": {},
   "source": [
    "### 2.2 Creating custom MiADE annotators\n",
    "\n",
    "We can add custom annotators with more specialised postprocessing steps to MiADE by subclassing ```Annotator``` and initialising ```NoteProcessor``` with the list of custom annotators \n",
    "\n",
    "```Annotator``` methods include:\n",
    "\n",
    "- ```.get_concepts()```: returns MedCAT output as MiADE ```Concepts```\n",
    "- ```.add_dosages_to_concepts()```: uses the MiADE built-in ```DosageExtractor``` to add dosages associated with medication concepts\n",
    "- ```.deduplicate()```: filters duplicate concepts in list "
   ]
  },
  {
   "cell_type": "code",
   "execution_count": 34,
   "id": "f033bb29-7e7d-4be2-ab3e-55aae06b365a",
   "metadata": {},
   "outputs": [],
   "source": [
    "# subclass Annotator\n",
    "class CustomAnnotator(Annotator):\n",
    "    def __init__(self, cat: MiADE_CAT):\n",
    "        super().__init__(cat)\n",
    "        # we need to include MEDICATIONS in concept types so MiADE processor will also extract dosages\n",
    "        self.concept_types = [Category.MEDICATION, Category.ALLERGY]\n",
    "    \n",
    "    def postprocess(self, concepts: List[Concept]) -> List[Concept]:\n",
    "        # some example post-processing code\n",
    "        reactions = [\"271807003\"]\n",
    "        allergens = [\"764146007\"]\n",
    "        for concept in concepts:\n",
    "            if concept.id in reactions:\n",
    "                concept.category = Category.REACTION\n",
    "            elif concept.id in allergens:\n",
    "                concept.category = Category.ALLERGY\n",
    "        return concepts\n",
    "    \n",
    "    def __call__(\n",
    "        self,\n",
    "        note: Note,\n",
    "        record_concepts: Optional[List[Concept]] = None,\n",
    "        dosage_extractor: Optional[DosageExtractor] = None,\n",
    "    ):\n",
    "        concepts = self.get_concepts(note)\n",
    "        concepts = self.postprocess(concepts)\n",
    "        # run dosage extractor if given\n",
    "        if dosage_extractor is not None:\n",
    "            concepts = self.add_dosages_to_concepts(dosage_extractor, concepts, note)\n",
    "        concepts = self.deduplicate(concepts, record_concepts)\n",
    "\n",
    "        return concepts\n",
    "        "
   ]
  },
  {
   "cell_type": "markdown",
   "id": "090da618-1761-4a15-886e-dffea965a0f0",
   "metadata": {},
   "source": [
    "Don't forget to add custom annotator to `config.yaml`\n",
    "```\n",
    "models:\n",
    "  problems: f25ec9423958e8d6\n",
    "  meds/allergies: a146c741501cf1f7\n",
    "  custom: a146c741501cf1f7\n",
    "annotators:\n",
    "  problems: ProblemsAnnotator\n",
    "  meds/allergies: MedsAllergiesAnnotator\n",
    "  custom: CustomAnnotator\n",
    " ```"
   ]
  },
  {
   "cell_type": "code",
   "execution_count": 36,
   "id": "9a6010c7-b4f1-42f3-8b98-a8819de9ef8f",
   "metadata": {},
   "outputs": [
    {
     "name": "stderr",
     "output_type": "stream",
     "text": [
      "[2023-06-13 17:23:52,343] [INFO] miade.core: Found config file models/config.yaml\n",
      "[2023-06-13 17:23:52,344] [INFO] miade.core: Loading MedCAT models from models\n",
      "/home/jennifer/Documents/miade/venv/lib/python3.8/site-packages/spacy/util.py:877: UserWarning: [W095] Model 'en_core_web_md' (3.1.0) was trained with spaCy v3.1 and may not be 100% compatible with the current version (3.4.4). If you see errors or degraded performance, download a newer compatible model or retrain your custom model with the current spaCy version. For more details and available updates, run: python -m spacy validate\n",
      "  warnings.warn(warn_msg)\n",
      "[2023-06-13 17:24:03,532] [INFO] miade.dosageextractor: Loaded drug dosage extractor with model en_core_med7_lg\n"
     ]
    }
   ],
   "source": [
    "# pass custom annotator to miade\n",
    "miade = NoteProcessor(Path(MODEL_DIR), custom_annotators=[CustomAnnotator])"
   ]
  },
  {
   "cell_type": "code",
   "execution_count": 37,
   "id": "55269b65-ff2a-47f5-b2af-9488429ef8f6",
   "metadata": {},
   "outputs": [
    {
     "name": "stderr",
     "output_type": "stream",
     "text": [
      "[2023-06-13 17:24:15,242] [INFO] miade.core: Added ProblemsAnnotator to processor\n"
     ]
    }
   ],
   "source": [
    "miade.add_annotator(\"problems\", use_negex=True)"
   ]
  },
  {
   "cell_type": "code",
   "execution_count": 38,
   "id": "e2773153-0f76-4d5c-b641-70a7862976cb",
   "metadata": {},
   "outputs": [
    {
     "name": "stderr",
     "output_type": "stream",
     "text": [
      "[2023-06-13 17:24:16,157] [INFO] miade.core: Added CustomAnnotator to processor\n"
     ]
    }
   ],
   "source": [
    "miade.add_annotator(\"custom\")"
   ]
  },
  {
   "cell_type": "code",
   "execution_count": 39,
   "id": "915d4c64-81e9-431b-b579-ae1d8704007f",
   "metadata": {},
   "outputs": [
    {
     "data": {
      "text/plain": [
       "[{'name': 'hypothyroidism (historic)',\n",
       "  'id': '161443002',\n",
       "  'category': 'PROBLEM',\n",
       "  'start': 46,\n",
       "  'end': 60,\n",
       "  'dosage': None,\n",
       "  'negex': False,\n",
       "  'meta': [{'name': 'relevance',\n",
       "    'value': 'HISTORIC',\n",
       "    'confidence': 0.999841570854187},\n",
       "   {'name': 'presence',\n",
       "    'value': 'CONFIRMED',\n",
       "    'confidence': 0.999984622001648}],\n",
       "  'debug': None},\n",
       " {'name': 'dyspnea',\n",
       "  'id': '267036007',\n",
       "  'category': 'PROBLEM',\n",
       "  'start': 243,\n",
       "  'end': 262,\n",
       "  'dosage': None,\n",
       "  'negex': False,\n",
       "  'meta': [{'name': 'relevance',\n",
       "    'value': 'PRESENT',\n",
       "    'confidence': 0.9999895095825195},\n",
       "   {'name': 'presence',\n",
       "    'value': 'CONFIRMED',\n",
       "    'confidence': 0.9906362891197205}],\n",
       "  'debug': None},\n",
       " {'name': 'swollen ankle',\n",
       "  'id': '267039000',\n",
       "  'category': 'PROBLEM',\n",
       "  'start': 224,\n",
       "  'end': 238,\n",
       "  'dosage': None,\n",
       "  'negex': False,\n",
       "  'meta': [{'name': 'relevance',\n",
       "    'value': 'PRESENT',\n",
       "    'confidence': 0.9999951124191284},\n",
       "   {'name': 'presence',\n",
       "    'value': 'CONFIRMED',\n",
       "    'confidence': 0.9856405258178711}],\n",
       "  'debug': None},\n",
       " {'name': 'eruption of skin',\n",
       "  'id': '271807003',\n",
       "  'category': 'PROBLEM',\n",
       "  'start': 204,\n",
       "  'end': 208,\n",
       "  'dosage': None,\n",
       "  'negex': False,\n",
       "  'meta': [{'name': 'relevance',\n",
       "    'value': 'PRESENT',\n",
       "    'confidence': 0.9999878406524658},\n",
       "   {'name': 'presence',\n",
       "    'value': 'CONFIRMED',\n",
       "    'confidence': 0.9995394945144653}],\n",
       "  'debug': None},\n",
       " {'name': 'heart failure (suspected)',\n",
       "  'id': '394887005',\n",
       "  'category': 'PROBLEM',\n",
       "  'start': 10,\n",
       "  'end': 23,\n",
       "  'dosage': None,\n",
       "  'negex': False,\n",
       "  'meta': [{'name': 'relevance',\n",
       "    'value': 'PRESENT',\n",
       "    'confidence': 0.999977707862854},\n",
       "   {'name': 'presence',\n",
       "    'value': 'SUSPECTED',\n",
       "    'confidence': 0.9999061822891235}],\n",
       "  'debug': None},\n",
       " {'name': 'losartan-containing product',\n",
       "  'id': '96309000',\n",
       "  'category': 'MEDICATION',\n",
       "  'start': 93,\n",
       "  'end': 101,\n",
       "  'dosage': {'dose': {'source': '100 mg',\n",
       "    'value': 100.0,\n",
       "    'unit': 'mg',\n",
       "    'low': None,\n",
       "    'high': None},\n",
       "   'duration': None,\n",
       "   'frequency': {'source': 'start 100 mg every day ',\n",
       "    'value': 1.0,\n",
       "    'unit': 'd',\n",
       "    'low': None,\n",
       "    'high': None,\n",
       "    'standardDeviation': None,\n",
       "    'institutionSpecified': False,\n",
       "    'preconditionAsRequired': False},\n",
       "   'route': None},\n",
       "  'negex': False,\n",
       "  'meta': None,\n",
       "  'debug': None},\n",
       " {'name': 'atorvastatin-containing product',\n",
       "  'id': '108600003',\n",
       "  'category': 'MEDICATION',\n",
       "  'start': 114,\n",
       "  'end': 126,\n",
       "  'dosage': {'dose': {'source': '20 mg',\n",
       "    'value': 20.0,\n",
       "    'unit': 'mg',\n",
       "    'low': None,\n",
       "    'high': None},\n",
       "   'duration': None,\n",
       "   'frequency': {'source': 'start 20 mg every day ',\n",
       "    'value': 1.0,\n",
       "    'unit': 'd',\n",
       "    'low': None,\n",
       "    'high': None,\n",
       "    'standardDeviation': None,\n",
       "    'institutionSpecified': False,\n",
       "    'preconditionAsRequired': False},\n",
       "   'route': None},\n",
       "  'negex': False,\n",
       "  'meta': None,\n",
       "  'debug': None},\n",
       " {'name': 'breaking out - eruption',\n",
       "  'id': '271807003',\n",
       "  'category': 'REACTION',\n",
       "  'start': 204,\n",
       "  'end': 208,\n",
       "  'dosage': None,\n",
       "  'negex': False,\n",
       "  'meta': None,\n",
       "  'debug': None},\n",
       " {'name': 'acetaminophen 500mg oral tablet',\n",
       "  'id': '322236009',\n",
       "  'category': 'MEDICATION',\n",
       "  'start': 138,\n",
       "  'end': 163,\n",
       "  'dosage': {'dose': {'source': '2 tab',\n",
       "    'value': 2.0,\n",
       "    'unit': '{tbl}',\n",
       "    'low': None,\n",
       "    'high': None},\n",
       "   'duration': None,\n",
       "   'frequency': {'source': 'start 2 tab 4 times day when needed ',\n",
       "    'value': 0.25,\n",
       "    'unit': 'd',\n",
       "    'low': None,\n",
       "    'high': None,\n",
       "    'standardDeviation': None,\n",
       "    'institutionSpecified': True,\n",
       "    'preconditionAsRequired': True},\n",
       "   'route': None},\n",
       "  'negex': False,\n",
       "  'meta': None,\n",
       "  'debug': None},\n",
       " {'name': 'penicillin',\n",
       "  'id': '764146007',\n",
       "  'category': 'ALLERGY',\n",
       "  'start': 191,\n",
       "  'end': 201,\n",
       "  'dosage': None,\n",
       "  'negex': False,\n",
       "  'meta': None,\n",
       "  'debug': None}]"
      ]
     },
     "execution_count": 39,
     "metadata": {},
     "output_type": "execute_result"
    }
   ],
   "source": [
    "miade.get_concept_dicts(note)"
   ]
  },
  {
   "cell_type": "code",
   "execution_count": 40,
   "id": "a84232da-550d-4ecd-89db-d09f531c6b5a",
   "metadata": {},
   "outputs": [
    {
     "name": "stdout",
     "output_type": "stream",
     "text": [
      "{name: breaking out - eruption, id: 271807003, category: Category.REACTION, start: 204, end: 208, dosage: None, negex: False, meta: None} \n",
      "{name: penicillin, id: 764146007, category: Category.ALLERGY, start: 191, end: 201, dosage: None, negex: False, meta: None} \n"
     ]
    }
   ],
   "source": [
    "# or we can use .process() to get the Concept objects directly\n",
    "concepts = miade.process(note)\n",
    "for concept in concepts:\n",
    "    if concept.category == Category.ALLERGY or concept.category == Category.REACTION:\n",
    "        print(concept)"
   ]
  },
  {
   "cell_type": "markdown",
   "id": "08d3ff44-65cc-481e-95d6-9c8232a01301",
   "metadata": {},
   "source": [
    "## End of tutorial\n"
   ]
  }
 ],
 "metadata": {
  "kernelspec": {
   "display_name": "Python 3 (ipykernel)",
   "language": "python",
   "name": "python3"
  },
  "language_info": {
   "codemirror_mode": {
    "name": "ipython",
    "version": 3
   },
   "file_extension": ".py",
   "mimetype": "text/x-python",
   "name": "python",
   "nbconvert_exporter": "python",
   "pygments_lexer": "ipython3",
   "version": "3.8.16"
  }
 },
 "nbformat": 4,
 "nbformat_minor": 5
}
